{
  "nbformat": 4,
  "nbformat_minor": 0,
  "metadata": {
    "colab": {
      "name": "NN_NLP_bi.ipynb",
      "provenance": [],
      "collapsed_sections": []
    },
    "kernelspec": {
      "name": "python3",
      "display_name": "Python 3"
    },
    "language_info": {
      "name": "python"
    },
    "accelerator": "GPU"
  },
  "cells": [
    {
      "cell_type": "markdown",
      "source": [
        "## **Neural Networks NLP analysis**"
      ],
      "metadata": {
        "id": "ocYoK9_RdOrv"
      }
    },
    {
      "cell_type": "code",
      "metadata": {
        "execution": {
          "iopub.execute_input": "2020-10-06T21:19:31.986613Z",
          "iopub.status.busy": "2020-10-06T21:19:31.985943Z",
          "iopub.status.idle": "2020-10-06T21:19:41.514922Z",
          "shell.execute_reply": "2020-10-06T21:19:41.515686Z"
        },
        "papermill": {
          "duration": 9.569887,
          "end_time": "2020-10-06T21:19:41.515898",
          "exception": false,
          "start_time": "2020-10-06T21:19:31.946011",
          "status": "completed"
        },
        "tags": [],
        "id": "P-1JVzZgTrRN"
      },
      "source": [
        "# pomocnicze\n",
        "import re\n",
        "import string\n",
        "import numpy as np\n",
        "import pandas as pd\n",
        "import csv\n",
        "\n",
        "# wizualizacja\n",
        "import seaborn as sns\n",
        "import matplotlib.pyplot as plt \n",
        "from wordcloud import WordCloud\n",
        "\n",
        "# preprocessing\n",
        "import spacy\n",
        "import nltk\n",
        "from nltk.corpus import stopwords\n",
        "from nltk.corpus import wordnet\n",
        "from nltk.stem import WordNetLemmatizer\n",
        "from nltk.tokenize.treebank import TreebankWordDetokenizer\n",
        "import gensim\n",
        "from gensim.utils import simple_preprocess\n",
        "\n",
        "# model\n",
        "import tensorflow as tf\n",
        "import keras\n",
        "from keras.models import Sequential\n",
        "from keras import layers\n",
        "from tensorflow.keras.optimizers import RMSprop, Adam\n",
        "from keras.preprocessing.text import Tokenizer\n",
        "from keras.preprocessing.sequence import pad_sequences\n",
        "from keras import regularizers\n",
        "from keras import backend as K\n",
        "from keras.callbacks import ModelCheckpoint\n",
        "from sklearn.model_selection import train_test_split\n",
        "\n",
        "# ewaluacja\n",
        "from sklearn.metrics import confusion_matrix\n",
        "\n",
        "import warnings\n",
        "warnings.filterwarnings('ignore')"
      ],
      "execution_count": 1,
      "outputs": []
    },
    {
      "cell_type": "markdown",
      "metadata": {
        "id": "Zrbr6k5tIpBG"
      },
      "source": [
        "### Podłączenie dysku Google"
      ]
    },
    {
      "cell_type": "code",
      "metadata": {
        "id": "7YyCVkHNIqxv",
        "colab": {
          "base_uri": "https://localhost:8080/"
        },
        "outputId": "53340e61-f5f9-461b-98aa-e3e61847ec6c"
      },
      "source": [
        "from google.colab import drive\n",
        "drive.mount('/content/drive/')"
      ],
      "execution_count": 2,
      "outputs": [
        {
          "output_type": "stream",
          "name": "stdout",
          "text": [
            "Mounted at /content/drive/\n"
          ]
        }
      ]
    },
    {
      "cell_type": "code",
      "source": [
        "path = '/content/drive/MyDrive/tweets_labeled_bi.csv'   \n",
        "tweets_txt = pd.read_csv(path, delimiter = \",\", encoding='utf-8')\n",
        "tweets_txt.head()"
      ],
      "metadata": {
        "colab": {
          "base_uri": "https://localhost:8080/",
          "height": 206
        },
        "id": "emIU6ROad-X8",
        "outputId": "36799025-9cba-4a16-ba95-b0a08ac67758"
      },
      "execution_count": 3,
      "outputs": [
        {
          "output_type": "execute_result",
          "data": {
            "text/html": [
              "\n",
              "  <div id=\"df-8bac944c-d74d-41e2-a65b-ac7ace2d9f47\">\n",
              "    <div class=\"colab-df-container\">\n",
              "      <div>\n",
              "<style scoped>\n",
              "    .dataframe tbody tr th:only-of-type {\n",
              "        vertical-align: middle;\n",
              "    }\n",
              "\n",
              "    .dataframe tbody tr th {\n",
              "        vertical-align: top;\n",
              "    }\n",
              "\n",
              "    .dataframe thead th {\n",
              "        text-align: right;\n",
              "    }\n",
              "</style>\n",
              "<table border=\"1\" class=\"dataframe\">\n",
              "  <thead>\n",
              "    <tr style=\"text-align: right;\">\n",
              "      <th></th>\n",
              "      <th>Unnamed: 0</th>\n",
              "      <th>text</th>\n",
              "      <th>clean_text</th>\n",
              "      <th>cleaned_text</th>\n",
              "      <th>sentiment</th>\n",
              "      <th>sentiments_val</th>\n",
              "    </tr>\n",
              "  </thead>\n",
              "  <tbody>\n",
              "    <tr>\n",
              "      <th>0</th>\n",
              "      <td>0</td>\n",
              "      <td>kiedy #coronavirus dotrze do polski, napotka o...</td>\n",
              "      <td>['coronavirus', 'dotrze', 'polski', 'napotka',...</td>\n",
              "      <td>coronavirus dotrze polski napotka opór znakomi...</td>\n",
              "      <td>0</td>\n",
              "      <td>negative</td>\n",
              "    </tr>\n",
              "    <tr>\n",
              "      <th>1</th>\n",
              "      <td>1</td>\n",
              "      <td>kolejni polacy chcą wrócić z wuhan https://t.c...</td>\n",
              "      <td>['kolejni', 'polacy', 'chcą', 'wrócić', 'wuhan']</td>\n",
              "      <td>kolejni polacy chcą wrócić wuhan</td>\n",
              "      <td>0</td>\n",
              "      <td>negative</td>\n",
              "    </tr>\n",
              "    <tr>\n",
              "      <th>2</th>\n",
              "      <td>2</td>\n",
              "      <td>a tymczasem w wuhan odcięto od reszty świata o...</td>\n",
              "      <td>['tymczasem', 'wuhan', 'odcięto', 'reszty', 'ś...</td>\n",
              "      <td>tymczasem wuhan odcięto reszty świata obszar p...</td>\n",
              "      <td>1</td>\n",
              "      <td>positive</td>\n",
              "    </tr>\n",
              "    <tr>\n",
              "      <th>3</th>\n",
              "      <td>3</td>\n",
              "      <td>@patrykwachowiec @kancelariasejmu nie zdziwię ...</td>\n",
              "      <td>['zdziwię', 'powiedzą', 'listy', 'pojechały', ...</td>\n",
              "      <td>zdziwię powiedzą listy pojechały chin wuhan od...</td>\n",
              "      <td>0</td>\n",
              "      <td>negative</td>\n",
              "    </tr>\n",
              "    <tr>\n",
              "      <th>4</th>\n",
              "      <td>4</td>\n",
              "      <td>.@msz_rp: 19 polaków chce wrócić z wuhan, w am...</td>\n",
              "      <td>['rp', 'polaków', 'wrócić', 'wuhan', 'ambasadz...</td>\n",
              "      <td>rp polaków wrócić wuhan ambasadzie rp pekinie ...</td>\n",
              "      <td>0</td>\n",
              "      <td>negative</td>\n",
              "    </tr>\n",
              "  </tbody>\n",
              "</table>\n",
              "</div>\n",
              "      <button class=\"colab-df-convert\" onclick=\"convertToInteractive('df-8bac944c-d74d-41e2-a65b-ac7ace2d9f47')\"\n",
              "              title=\"Convert this dataframe to an interactive table.\"\n",
              "              style=\"display:none;\">\n",
              "        \n",
              "  <svg xmlns=\"http://www.w3.org/2000/svg\" height=\"24px\"viewBox=\"0 0 24 24\"\n",
              "       width=\"24px\">\n",
              "    <path d=\"M0 0h24v24H0V0z\" fill=\"none\"/>\n",
              "    <path d=\"M18.56 5.44l.94 2.06.94-2.06 2.06-.94-2.06-.94-.94-2.06-.94 2.06-2.06.94zm-11 1L8.5 8.5l.94-2.06 2.06-.94-2.06-.94L8.5 2.5l-.94 2.06-2.06.94zm10 10l.94 2.06.94-2.06 2.06-.94-2.06-.94-.94-2.06-.94 2.06-2.06.94z\"/><path d=\"M17.41 7.96l-1.37-1.37c-.4-.4-.92-.59-1.43-.59-.52 0-1.04.2-1.43.59L10.3 9.45l-7.72 7.72c-.78.78-.78 2.05 0 2.83L4 21.41c.39.39.9.59 1.41.59.51 0 1.02-.2 1.41-.59l7.78-7.78 2.81-2.81c.8-.78.8-2.07 0-2.86zM5.41 20L4 18.59l7.72-7.72 1.47 1.35L5.41 20z\"/>\n",
              "  </svg>\n",
              "      </button>\n",
              "      \n",
              "  <style>\n",
              "    .colab-df-container {\n",
              "      display:flex;\n",
              "      flex-wrap:wrap;\n",
              "      gap: 12px;\n",
              "    }\n",
              "\n",
              "    .colab-df-convert {\n",
              "      background-color: #E8F0FE;\n",
              "      border: none;\n",
              "      border-radius: 50%;\n",
              "      cursor: pointer;\n",
              "      display: none;\n",
              "      fill: #1967D2;\n",
              "      height: 32px;\n",
              "      padding: 0 0 0 0;\n",
              "      width: 32px;\n",
              "    }\n",
              "\n",
              "    .colab-df-convert:hover {\n",
              "      background-color: #E2EBFA;\n",
              "      box-shadow: 0px 1px 2px rgba(60, 64, 67, 0.3), 0px 1px 3px 1px rgba(60, 64, 67, 0.15);\n",
              "      fill: #174EA6;\n",
              "    }\n",
              "\n",
              "    [theme=dark] .colab-df-convert {\n",
              "      background-color: #3B4455;\n",
              "      fill: #D2E3FC;\n",
              "    }\n",
              "\n",
              "    [theme=dark] .colab-df-convert:hover {\n",
              "      background-color: #434B5C;\n",
              "      box-shadow: 0px 1px 3px 1px rgba(0, 0, 0, 0.15);\n",
              "      filter: drop-shadow(0px 1px 2px rgba(0, 0, 0, 0.3));\n",
              "      fill: #FFFFFF;\n",
              "    }\n",
              "  </style>\n",
              "\n",
              "      <script>\n",
              "        const buttonEl =\n",
              "          document.querySelector('#df-8bac944c-d74d-41e2-a65b-ac7ace2d9f47 button.colab-df-convert');\n",
              "        buttonEl.style.display =\n",
              "          google.colab.kernel.accessAllowed ? 'block' : 'none';\n",
              "\n",
              "        async function convertToInteractive(key) {\n",
              "          const element = document.querySelector('#df-8bac944c-d74d-41e2-a65b-ac7ace2d9f47');\n",
              "          const dataTable =\n",
              "            await google.colab.kernel.invokeFunction('convertToInteractive',\n",
              "                                                     [key], {});\n",
              "          if (!dataTable) return;\n",
              "\n",
              "          const docLinkHtml = 'Like what you see? Visit the ' +\n",
              "            '<a target=\"_blank\" href=https://colab.research.google.com/notebooks/data_table.ipynb>data table notebook</a>'\n",
              "            + ' to learn more about interactive tables.';\n",
              "          element.innerHTML = '';\n",
              "          dataTable['output_type'] = 'display_data';\n",
              "          await google.colab.output.renderOutput(dataTable, element);\n",
              "          const docLink = document.createElement('div');\n",
              "          docLink.innerHTML = docLinkHtml;\n",
              "          element.appendChild(docLink);\n",
              "        }\n",
              "      </script>\n",
              "    </div>\n",
              "  </div>\n",
              "  "
            ],
            "text/plain": [
              "   Unnamed: 0  ... sentiments_val\n",
              "0           0  ...       negative\n",
              "1           1  ...       negative\n",
              "2           2  ...       positive\n",
              "3           3  ...       negative\n",
              "4           4  ...       negative\n",
              "\n",
              "[5 rows x 6 columns]"
            ]
          },
          "metadata": {},
          "execution_count": 3
        }
      ]
    },
    {
      "cell_type": "markdown",
      "source": [
        "## Prepare data for NN algorithm\n",
        "Data is already cleaned and preprocessed "
      ],
      "metadata": {
        "id": "Vb5aBt0Y_VHF"
      }
    },
    {
      "cell_type": "code",
      "source": [
        "temp = []\n",
        "data_to_list = tweets_txt['cleaned_text'].values.tolist()\n",
        "temp = data_to_list\n",
        "list(temp[:5])"
      ],
      "metadata": {
        "colab": {
          "base_uri": "https://localhost:8080/"
        },
        "id": "YKikn-Aajd-T",
        "outputId": "7a2ab062-3a5b-43e4-ef67-b920d98218ab"
      },
      "execution_count": 4,
      "outputs": [
        {
          "output_type": "execute_result",
          "data": {
            "text/plain": [
              "['coronavirus dotrze polski napotka opór znakomicie zorganizowanego publicznego systemu ochrony zdrowia napotka',\n",
              " 'kolejni polacy chcą wrócić wuhan',\n",
              " 'tymczasem wuhan odcięto reszty świata obszar porównywalny syrii mcd starbucks zawiesili działalność',\n",
              " 'zdziwię powiedzą listy pojechały chin wuhan odważny pojedzie',\n",
              " 'rp polaków wrócić wuhan ambasadzie rp pekinie powołano sztab kryzysowy spotkanie']"
            ]
          },
          "metadata": {},
          "execution_count": 4
        }
      ]
    },
    {
      "cell_type": "code",
      "source": [
        "data= np.array(temp)\n",
        "data[:5]"
      ],
      "metadata": {
        "colab": {
          "base_uri": "https://localhost:8080/"
        },
        "id": "F1P6syvUE2hA",
        "outputId": "78666b17-1bcc-4f41-db62-ba32d782dbd5"
      },
      "execution_count": 5,
      "outputs": [
        {
          "output_type": "execute_result",
          "data": {
            "text/plain": [
              "array(['coronavirus dotrze polski napotka opór znakomicie zorganizowanego publicznego systemu ochrony zdrowia napotka',\n",
              "       'kolejni polacy chcą wrócić wuhan',\n",
              "       'tymczasem wuhan odcięto reszty świata obszar porównywalny syrii mcd starbucks zawiesili działalność',\n",
              "       'zdziwię powiedzą listy pojechały chin wuhan odważny pojedzie',\n",
              "       'rp polaków wrócić wuhan ambasadzie rp pekinie powołano sztab kryzysowy spotkanie'],\n",
              "      dtype='<U135')"
            ]
          },
          "metadata": {},
          "execution_count": 5
        }
      ]
    },
    {
      "cell_type": "markdown",
      "metadata": {
        "papermill": {
          "duration": 0.037183,
          "end_time": "2020-10-06T21:19:48.013459",
          "exception": false,
          "start_time": "2020-10-06T21:19:47.976276",
          "status": "completed"
        },
        "tags": [],
        "id": "deA9uYtLTrRd"
      },
      "source": [
        "## Zamiana danych na wartości numeryczne"
      ]
    },
    {
      "cell_type": "code",
      "metadata": {
        "execution": {
          "iopub.execute_input": "2020-10-06T21:19:48.122784Z",
          "iopub.status.busy": "2020-10-06T21:19:48.121518Z",
          "iopub.status.idle": "2020-10-06T21:19:48.125042Z",
          "shell.execute_reply": "2020-10-06T21:19:48.125481Z"
        },
        "papermill": {
          "duration": 0.074223,
          "end_time": "2020-10-06T21:19:48.125627",
          "exception": false,
          "start_time": "2020-10-06T21:19:48.051404",
          "status": "completed"
        },
        "tags": [],
        "id": "P5eHbM3hTrRe"
      },
      "source": [
        "labels = np.array(tweets_txt['sentiments_val'])\n",
        "y = []\n",
        "for i in range(len(labels)):\n",
        "    if labels[i] == \"negative\":\n",
        "        y.append(0)\n",
        "    if labels[i] == \"positive\":\n",
        "        y.append(1)\n",
        "y = np.array(y)\n",
        "labels = tf.keras.utils.to_categorical(y, 2, dtype=\"float32\")\n",
        "del y"
      ],
      "execution_count": 6,
      "outputs": []
    },
    {
      "cell_type": "code",
      "metadata": {
        "execution": {
          "iopub.execute_input": "2020-10-06T21:19:48.206863Z",
          "iopub.status.busy": "2020-10-06T21:19:48.206068Z",
          "iopub.status.idle": "2020-10-06T21:19:48.209920Z",
          "shell.execute_reply": "2020-10-06T21:19:48.209425Z"
        },
        "papermill": {
          "duration": 0.046647,
          "end_time": "2020-10-06T21:19:48.210021",
          "exception": false,
          "start_time": "2020-10-06T21:19:48.163374",
          "status": "completed"
        },
        "tags": [],
        "id": "J25uvvGnTrRf",
        "colab": {
          "base_uri": "https://localhost:8080/"
        },
        "outputId": "f22a834e-8953-4031-ff40-a660561a7fa6"
      },
      "source": [
        "len(labels)"
      ],
      "execution_count": 7,
      "outputs": [
        {
          "output_type": "execute_result",
          "data": {
            "text/plain": [
              "485087"
            ]
          },
          "metadata": {},
          "execution_count": 7
        }
      ]
    },
    {
      "cell_type": "markdown",
      "metadata": {
        "papermill": {
          "duration": 0.038298,
          "end_time": "2020-10-06T21:19:48.287312",
          "exception": false,
          "start_time": "2020-10-06T21:19:48.249014",
          "status": "completed"
        },
        "tags": [],
        "id": "RgDNds0zTrRf"
      },
      "source": [
        "## Zamiana danych na tensory"
      ]
    },
    {
      "cell_type": "code",
      "metadata": {
        "execution": {
          "iopub.execute_input": "2020-10-06T21:19:48.373707Z",
          "iopub.status.busy": "2020-10-06T21:19:48.372469Z",
          "iopub.status.idle": "2020-10-06T21:19:49.386819Z",
          "shell.execute_reply": "2020-10-06T21:19:49.387562Z"
        },
        "papermill": {
          "duration": 1.062302,
          "end_time": "2020-10-06T21:19:49.387739",
          "exception": false,
          "start_time": "2020-10-06T21:19:48.325437",
          "status": "completed"
        },
        "tags": [],
        "id": "GZpoFZfxTrRg",
        "colab": {
          "base_uri": "https://localhost:8080/"
        },
        "outputId": "58ce72ce-75c3-4f57-8d25-4a6cf261e9a9"
      },
      "source": [
        "max_words = 5000\n",
        "max_len = 200\n",
        "\n",
        "tokenizer = Tokenizer(num_words=max_words)\n",
        "tokenizer.fit_on_texts(data)\n",
        "sequences = tokenizer.texts_to_sequences(data)\n",
        "tweets = pad_sequences(sequences, maxlen=max_len)\n",
        "print(tweets)"
      ],
      "execution_count": 8,
      "outputs": [
        {
          "output_type": "stream",
          "name": "stdout",
          "text": [
            "[[   0    0    0 ...  969  341   12]\n",
            " [   0    0    0 ...  186 1543   38]\n",
            " [   0    0    0 ... 3628  207 1825]\n",
            " ...\n",
            " [   0    0    0 ...    0    0  851]\n",
            " [   0    0    0 ...    0    0    0]\n",
            " [   0    0    0 ...  851 3785  851]]\n"
          ]
        }
      ]
    },
    {
      "cell_type": "code",
      "metadata": {
        "execution": {
          "iopub.execute_input": "2020-10-06T21:19:49.478734Z",
          "iopub.status.busy": "2020-10-06T21:19:49.477823Z",
          "iopub.status.idle": "2020-10-06T21:19:49.482217Z",
          "shell.execute_reply": "2020-10-06T21:19:49.483329Z"
        },
        "papermill": {
          "duration": 0.054099,
          "end_time": "2020-10-06T21:19:49.483550",
          "exception": false,
          "start_time": "2020-10-06T21:19:49.429451",
          "status": "completed"
        },
        "tags": [],
        "id": "igJ9ODC6TrRh",
        "colab": {
          "base_uri": "https://localhost:8080/"
        },
        "outputId": "099d89da-3049-4beb-e4ae-b6ca568e56ed"
      },
      "source": [
        "print(labels)"
      ],
      "execution_count": 9,
      "outputs": [
        {
          "output_type": "stream",
          "name": "stdout",
          "text": [
            "[[1. 0.]\n",
            " [1. 0.]\n",
            " [0. 1.]\n",
            " ...\n",
            " [0. 1.]\n",
            " [1. 0.]\n",
            " [0. 1.]]\n"
          ]
        }
      ]
    },
    {
      "cell_type": "code",
      "metadata": {
        "execution": {
          "iopub.execute_input": "2020-10-06T21:19:49.585814Z",
          "iopub.status.busy": "2020-10-06T21:19:49.584576Z",
          "iopub.status.idle": "2020-10-06T21:19:49.600360Z",
          "shell.execute_reply": "2020-10-06T21:19:49.601002Z"
        },
        "papermill": {
          "duration": 0.069178,
          "end_time": "2020-10-06T21:19:49.601136",
          "exception": false,
          "start_time": "2020-10-06T21:19:49.531958",
          "status": "completed"
        },
        "tags": [],
        "id": "jACXuB4YTrRh",
        "colab": {
          "base_uri": "https://localhost:8080/"
        },
        "outputId": "6ce98385-a938-49a8-fb29-19a05c53a478"
      },
      "source": [
        "# Podział na trening i test\n",
        "X_train, X_test, y_train, y_test = train_test_split(tweets, labels, random_state=0)\n",
        "print(len(X_train),len(X_test),len(y_train),len(y_test))"
      ],
      "execution_count": 10,
      "outputs": [
        {
          "output_type": "stream",
          "name": "stdout",
          "text": [
            "363815 121272 363815 121272\n"
          ]
        }
      ]
    },
    {
      "cell_type": "markdown",
      "metadata": {
        "papermill": {
          "duration": 0.044723,
          "end_time": "2020-10-06T21:19:49.690338",
          "exception": false,
          "start_time": "2020-10-06T21:19:49.645615",
          "status": "completed"
        },
        "tags": [],
        "id": "sFGpOBLYTrRi"
      },
      "source": [
        "## Bidirectional LSTM"
      ]
    },
    {
      "cell_type": "code",
      "metadata": {
        "execution": {
          "iopub.execute_input": "2020-10-06T21:30:18.875895Z",
          "iopub.status.busy": "2020-10-06T21:30:18.874621Z",
          "iopub.status.idle": "2020-10-06T21:49:59.410271Z",
          "shell.execute_reply": "2020-10-06T21:49:59.411560Z"
        },
        "papermill": {
          "duration": 1184.636954,
          "end_time": "2020-10-06T21:49:59.411827",
          "exception": false,
          "start_time": "2020-10-06T21:30:14.774873",
          "status": "completed"
        },
        "tags": [],
        "colab": {
          "base_uri": "https://localhost:8080/"
        },
        "outputId": "b75ff543-3f82-47ef-be11-ca17e3836c9e",
        "id": "r5dzuv-sqV5d"
      },
      "source": [
        "model2 = Sequential()\n",
        "model2.add(layers.Embedding(max_words, 40, input_length=max_len))\n",
        "model2.add(layers.Bidirectional(layers.LSTM(20,dropout=0.6)))\n",
        "model2.add(layers.Dense(2,activation='softmax'))\n",
        "model2.compile(optimizer='rmsprop',loss='categorical_crossentropy', metrics=['accuracy'])\n",
        "\n",
        "checkpoint = ModelCheckpoint(\"/content/drive/MyDrive/best_model.hdf5\", \n",
        "                              monitor='val_accuracy', \n",
        "                              verbose=1,\n",
        "                              save_best_only=True, \n",
        "                              mode='auto', \n",
        "                              period=1,\n",
        "                              save_weights_only=False)\n",
        "history = model2.fit(X_train, \n",
        "                     y_train, \n",
        "                     epochs=30, \n",
        "                     validation_data=(X_test, y_test),\n",
        "                     callbacks=[checkpoint])"
      ],
      "execution_count": null,
      "outputs": [
        {
          "output_type": "stream",
          "name": "stdout",
          "text": [
            "WARNING:tensorflow:`period` argument is deprecated. Please use `save_freq` to specify the frequency in number of batches seen.\n",
            "Epoch 1/30\n",
            "11370/11370 [==============================] - ETA: 0s - loss: 0.3227 - accuracy: 0.8523\n",
            "Epoch 00001: val_accuracy improved from -inf to 0.87334, saving model to /content/drive/MyDrive/best_model.hdf5\n",
            "11370/11370 [==============================] - 917s 80ms/step - loss: 0.3227 - accuracy: 0.8523 - val_loss: 0.2825 - val_accuracy: 0.8733\n",
            "Epoch 2/30\n",
            "11370/11370 [==============================] - ETA: 0s - loss: 0.2832 - accuracy: 0.8729\n",
            "Epoch 00002: val_accuracy improved from 0.87334 to 0.87536, saving model to /content/drive/MyDrive/best_model.hdf5\n",
            "11370/11370 [==============================] - 905s 80ms/step - loss: 0.2832 - accuracy: 0.8729 - val_loss: 0.2781 - val_accuracy: 0.8754\n",
            "Epoch 3/30\n",
            "11370/11370 [==============================] - ETA: 0s - loss: 0.2816 - accuracy: 0.8736\n",
            "Epoch 00003: val_accuracy did not improve from 0.87536\n",
            "11370/11370 [==============================] - 901s 79ms/step - loss: 0.2816 - accuracy: 0.8736 - val_loss: 0.2789 - val_accuracy: 0.8733\n",
            "Epoch 4/30\n",
            "11370/11370 [==============================] - ETA: 0s - loss: 0.2816 - accuracy: 0.8738\n",
            "Epoch 00004: val_accuracy did not improve from 0.87536\n",
            "11370/11370 [==============================] - 902s 79ms/step - loss: 0.2816 - accuracy: 0.8738 - val_loss: 0.2804 - val_accuracy: 0.8744\n",
            "Epoch 5/30\n",
            "11370/11370 [==============================] - ETA: 0s - loss: 0.2812 - accuracy: 0.8743\n",
            "Epoch 00005: val_accuracy improved from 0.87536 to 0.87593, saving model to /content/drive/MyDrive/best_model.hdf5\n",
            "11370/11370 [==============================] - 905s 80ms/step - loss: 0.2812 - accuracy: 0.8743 - val_loss: 0.2784 - val_accuracy: 0.8759\n",
            "Epoch 6/30\n",
            "11370/11370 [==============================] - ETA: 0s - loss: 0.2818 - accuracy: 0.8738\n",
            "Epoch 00006: val_accuracy did not improve from 0.87593\n",
            "11370/11370 [==============================] - 898s 79ms/step - loss: 0.2818 - accuracy: 0.8738 - val_loss: 0.2783 - val_accuracy: 0.8754\n",
            "Epoch 7/30\n",
            "11370/11370 [==============================] - ETA: 0s - loss: 0.2816 - accuracy: 0.8741\n",
            "Epoch 00007: val_accuracy did not improve from 0.87593\n",
            "11370/11370 [==============================] - 890s 78ms/step - loss: 0.2816 - accuracy: 0.8741 - val_loss: 0.2832 - val_accuracy: 0.8734\n",
            "Epoch 8/30\n",
            "11370/11370 [==============================] - ETA: 0s - loss: 0.2814 - accuracy: 0.8743\n",
            "Epoch 00008: val_accuracy improved from 0.87593 to 0.87648, saving model to /content/drive/MyDrive/best_model.hdf5\n",
            "11370/11370 [==============================] - 891s 78ms/step - loss: 0.2814 - accuracy: 0.8743 - val_loss: 0.2779 - val_accuracy: 0.8765\n",
            "Epoch 9/30\n",
            "11370/11370 [==============================] - ETA: 0s - loss: 0.2813 - accuracy: 0.8749\n",
            "Epoch 00009: val_accuracy did not improve from 0.87648\n",
            "11370/11370 [==============================] - 891s 78ms/step - loss: 0.2813 - accuracy: 0.8749 - val_loss: 0.2778 - val_accuracy: 0.8759\n",
            "Epoch 10/30\n",
            "11370/11370 [==============================] - ETA: 0s - loss: 0.2825 - accuracy: 0.8743\n",
            "Epoch 00010: val_accuracy improved from 0.87648 to 0.87674, saving model to /content/drive/MyDrive/best_model.hdf5\n",
            "11370/11370 [==============================] - 893s 79ms/step - loss: 0.2825 - accuracy: 0.8743 - val_loss: 0.2784 - val_accuracy: 0.8767\n",
            "Epoch 11/30\n",
            "11370/11370 [==============================] - ETA: 0s - loss: 0.2827 - accuracy: 0.8742\n",
            "Epoch 00011: val_accuracy did not improve from 0.87674\n",
            "11370/11370 [==============================] - 892s 78ms/step - loss: 0.2827 - accuracy: 0.8742 - val_loss: 0.2804 - val_accuracy: 0.8739\n",
            "Epoch 12/30\n",
            "11370/11370 [==============================] - ETA: 0s - loss: 0.2821 - accuracy: 0.8742\n",
            "Epoch 00012: val_accuracy did not improve from 0.87674\n",
            "11370/11370 [==============================] - 896s 79ms/step - loss: 0.2821 - accuracy: 0.8742 - val_loss: 0.2841 - val_accuracy: 0.8725\n",
            "Epoch 13/30\n",
            "11370/11370 [==============================] - ETA: 0s - loss: 0.2819 - accuracy: 0.8749\n",
            "Epoch 00013: val_accuracy did not improve from 0.87674\n",
            "11370/11370 [==============================] - 893s 79ms/step - loss: 0.2819 - accuracy: 0.8749 - val_loss: 0.2817 - val_accuracy: 0.8753\n",
            "Epoch 14/30\n",
            "11370/11370 [==============================] - ETA: 0s - loss: 0.2828 - accuracy: 0.8741\n",
            "Epoch 00014: val_accuracy did not improve from 0.87674\n",
            "11370/11370 [==============================] - 894s 79ms/step - loss: 0.2828 - accuracy: 0.8741 - val_loss: 0.2791 - val_accuracy: 0.8752\n",
            "Epoch 15/30\n",
            "11370/11370 [==============================] - ETA: 0s - loss: 0.2828 - accuracy: 0.8743\n",
            "Epoch 00015: val_accuracy did not improve from 0.87674\n",
            "11370/11370 [==============================] - 895s 79ms/step - loss: 0.2828 - accuracy: 0.8743 - val_loss: 0.2802 - val_accuracy: 0.8748\n",
            "Epoch 16/30\n",
            "11370/11370 [==============================] - ETA: 0s - loss: 0.2826 - accuracy: 0.8742\n",
            "Epoch 00016: val_accuracy did not improve from 0.87674\n",
            "11370/11370 [==============================] - 876s 77ms/step - loss: 0.2826 - accuracy: 0.8742 - val_loss: 0.2790 - val_accuracy: 0.8756\n",
            "Epoch 17/30\n",
            "11370/11370 [==============================] - ETA: 0s - loss: 0.2831 - accuracy: 0.8742\n",
            "Epoch 00017: val_accuracy did not improve from 0.87674\n",
            "11370/11370 [==============================] - 876s 77ms/step - loss: 0.2831 - accuracy: 0.8742 - val_loss: 0.2788 - val_accuracy: 0.8746\n",
            "Epoch 18/30\n",
            "11370/11370 [==============================] - ETA: 0s - loss: 0.2834 - accuracy: 0.8743\n",
            "Epoch 00018: val_accuracy did not improve from 0.87674\n",
            "11370/11370 [==============================] - 877s 77ms/step - loss: 0.2834 - accuracy: 0.8743 - val_loss: 0.2792 - val_accuracy: 0.8757\n",
            "Epoch 19/30\n",
            "11370/11370 [==============================] - ETA: 0s - loss: 0.2834 - accuracy: 0.8738\n",
            "Epoch 00019: val_accuracy did not improve from 0.87674\n",
            "11370/11370 [==============================] - 875s 77ms/step - loss: 0.2834 - accuracy: 0.8738 - val_loss: 0.2794 - val_accuracy: 0.8754\n",
            "Epoch 20/30\n",
            "11370/11370 [==============================] - ETA: 0s - loss: 0.2834 - accuracy: 0.8740\n",
            "Epoch 00020: val_accuracy did not improve from 0.87674\n",
            "11370/11370 [==============================] - 875s 77ms/step - loss: 0.2834 - accuracy: 0.8740 - val_loss: 0.2808 - val_accuracy: 0.8740\n",
            "Epoch 21/30\n",
            "11370/11370 [==============================] - ETA: 0s - loss: 0.2842 - accuracy: 0.8736\n",
            "Epoch 00021: val_accuracy did not improve from 0.87674\n",
            "11370/11370 [==============================] - 877s 77ms/step - loss: 0.2842 - accuracy: 0.8736 - val_loss: 0.2828 - val_accuracy: 0.8740\n",
            "Epoch 22/30\n",
            "11370/11370 [==============================] - ETA: 0s - loss: 0.2840 - accuracy: 0.8740\n",
            "Epoch 00022: val_accuracy did not improve from 0.87674\n",
            "11370/11370 [==============================] - 872s 77ms/step - loss: 0.2840 - accuracy: 0.8740 - val_loss: 0.2824 - val_accuracy: 0.8746\n",
            "Epoch 23/30\n",
            "11370/11370 [==============================] - ETA: 0s - loss: 0.2840 - accuracy: 0.8739\n",
            "Epoch 00023: val_accuracy did not improve from 0.87674\n",
            "11370/11370 [==============================] - 872s 77ms/step - loss: 0.2840 - accuracy: 0.8739 - val_loss: 0.2815 - val_accuracy: 0.8749\n",
            "Epoch 24/30\n",
            "11370/11370 [==============================] - ETA: 0s - loss: 0.2833 - accuracy: 0.8742\n",
            "Epoch 00024: val_accuracy did not improve from 0.87674\n",
            "11370/11370 [==============================] - 882s 78ms/step - loss: 0.2833 - accuracy: 0.8742 - val_loss: 0.2831 - val_accuracy: 0.8748\n",
            "Epoch 25/30\n",
            " 5482/11370 [=============>................] - ETA: 6:48 - loss: 0.2834 - accuracy: 0.8743"
          ]
        }
      ]
    },
    {
      "cell_type": "markdown",
      "metadata": {
        "papermill": {
          "duration": 13.897718,
          "end_time": "2020-10-06T21:57:43.244943",
          "exception": false,
          "start_time": "2020-10-06T21:57:29.347225",
          "status": "completed"
        },
        "tags": [],
        "id": "PvMTvEqaTrRl"
      },
      "source": [
        "## Ewaluacja najlepszego modelu"
      ]
    },
    {
      "cell_type": "markdown",
      "source": [
        ""
      ],
      "metadata": {
        "id": "xGGtsqOQmwlu"
      }
    },
    {
      "cell_type": "code",
      "metadata": {
        "execution": {
          "iopub.execute_input": "2020-10-06T21:58:11.467383Z",
          "iopub.status.busy": "2020-10-06T21:58:11.466210Z",
          "iopub.status.idle": "2020-10-06T21:58:12.123269Z",
          "shell.execute_reply": "2020-10-06T21:58:12.122665Z"
        },
        "papermill": {
          "duration": 14.579894,
          "end_time": "2020-10-06T21:58:12.123401",
          "exception": false,
          "start_time": "2020-10-06T21:57:57.543507",
          "status": "completed"
        },
        "tags": [],
        "id": "uwGMbk8oTrRl"
      },
      "source": [
        "# ładujemy najlepszy model\n",
        "best_model = keras.models.load_model(\"/content/drive/MyDrive/best_model.hdf5\")"
      ],
      "execution_count": 11,
      "outputs": []
    },
    {
      "cell_type": "code",
      "metadata": {
        "execution": {
          "iopub.execute_input": "2020-10-06T21:58:39.201557Z",
          "iopub.status.busy": "2020-10-06T21:58:39.200429Z",
          "iopub.status.idle": "2020-10-06T21:58:42.153698Z",
          "shell.execute_reply": "2020-10-06T21:58:42.152736Z"
        },
        "papermill": {
          "duration": 16.163436,
          "end_time": "2020-10-06T21:58:42.153869",
          "exception": false,
          "start_time": "2020-10-06T21:58:25.990433",
          "status": "completed"
        },
        "tags": [],
        "id": "cVW_3KOXTrRl",
        "colab": {
          "base_uri": "https://localhost:8080/"
        },
        "outputId": "473447df-15b4-4e88-f9c4-5d8db002c733"
      },
      "source": [
        "test_loss, test_acc = best_model.evaluate(X_test, y_test, verbose=2)\n",
        "print('Model accuracy: ',test_acc)"
      ],
      "execution_count": 12,
      "outputs": [
        {
          "output_type": "stream",
          "name": "stdout",
          "text": [
            "3790/3790 - 107s - loss: 0.2784 - accuracy: 0.8767 - 107s/epoch - 28ms/step\n",
            "Model accuracy:  0.8767399191856384\n"
          ]
        }
      ]
    },
    {
      "cell_type": "code",
      "metadata": {
        "execution": {
          "iopub.execute_input": "2020-10-06T21:59:08.598704Z",
          "iopub.status.busy": "2020-10-06T21:59:08.597660Z",
          "iopub.status.idle": "2020-10-06T21:59:11.143379Z",
          "shell.execute_reply": "2020-10-06T21:59:11.144225Z"
        },
        "papermill": {
          "duration": 15.873978,
          "end_time": "2020-10-06T21:59:11.144400",
          "exception": false,
          "start_time": "2020-10-06T21:58:55.270422",
          "status": "completed"
        },
        "tags": [],
        "id": "8uyBuqoiTrRl"
      },
      "source": [
        "predictions = best_model.predict(X_test)"
      ],
      "execution_count": 13,
      "outputs": []
    },
    {
      "cell_type": "markdown",
      "metadata": {
        "papermill": {
          "duration": 13.54467,
          "end_time": "2020-10-06T21:59:38.859073",
          "exception": false,
          "start_time": "2020-10-06T21:59:25.314403",
          "status": "completed"
        },
        "tags": [],
        "id": "Mox6U_nNTrRl"
      },
      "source": [
        "## Confusion matrix"
      ]
    },
    {
      "cell_type": "code",
      "metadata": {
        "execution": {
          "iopub.execute_input": "2020-10-06T22:00:05.244627Z",
          "iopub.status.busy": "2020-10-06T22:00:05.243340Z",
          "iopub.status.idle": "2020-10-06T22:00:05.261173Z",
          "shell.execute_reply": "2020-10-06T22:00:05.260523Z"
        },
        "papermill": {
          "duration": 13.356845,
          "end_time": "2020-10-06T22:00:05.261290",
          "exception": false,
          "start_time": "2020-10-06T21:59:51.904445",
          "status": "completed"
        },
        "tags": [],
        "id": "av7aqLMzTrRq"
      },
      "source": [
        "# from sklearn.metrics import confusion_matrix\n",
        "matrix = confusion_matrix(y_test.argmax(axis=1), np.around(predictions, decimals=0).argmax(axis=1))"
      ],
      "execution_count": 14,
      "outputs": []
    },
    {
      "cell_type": "code",
      "metadata": {
        "execution": {
          "iopub.execute_input": "2020-10-06T22:00:32.586908Z",
          "iopub.status.busy": "2020-10-06T22:00:32.586210Z",
          "iopub.status.idle": "2020-10-06T22:00:33.285612Z",
          "shell.execute_reply": "2020-10-06T22:00:33.285009Z"
        },
        "papermill": {
          "duration": 14.015558,
          "end_time": "2020-10-06T22:00:33.285736",
          "exception": false,
          "start_time": "2020-10-06T22:00:19.270178",
          "status": "completed"
        },
        "tags": [],
        "id": "xB44BYXrTrRr",
        "colab": {
          "base_uri": "https://localhost:8080/",
          "height": 880
        },
        "outputId": "e9d5257d-d9a1-4a15-c6b9-255a001ef01f"
      },
      "source": [
        "# import seaborn as sns\n",
        "conf_matrix = pd.DataFrame(matrix, index = ['Negative','Positive'],columns = ['Negative','Positive'])\n",
        "conf_matrix = conf_matrix.astype('float') / conf_matrix.sum(axis=1)[:, np.newaxis]\n",
        "plt.figure(figsize = (15,15))\n",
        "sns.heatmap(conf_matrix, annot=True, annot_kws={\"size\": 15})"
      ],
      "execution_count": 15,
      "outputs": [
        {
          "output_type": "execute_result",
          "data": {
            "text/plain": [
              "<matplotlib.axes._subplots.AxesSubplot at 0x7fcd104c1610>"
            ]
          },
          "metadata": {},
          "execution_count": 15
        },
        {
          "output_type": "display_data",
          "data": {
            "image/png": "[encoded data removed]",
            "text/plain": [
              "<Figure size 1080x1080 with 2 Axes>"
            ]
          },
          "metadata": {
            "needs_background": "light"
          }
        }
      ]
    },
    {
      "cell_type": "code",
      "metadata": {
        "execution": {
          "iopub.execute_input": "2020-10-06T22:01:26.949303Z",
          "iopub.status.busy": "2020-10-06T22:01:26.947906Z",
          "iopub.status.idle": "2020-10-06T22:01:26.951809Z",
          "shell.execute_reply": "2020-10-06T22:01:26.951229Z"
        },
        "papermill": {
          "duration": 14.303017,
          "end_time": "2020-10-06T22:01:26.951936",
          "exception": false,
          "start_time": "2020-10-06T22:01:12.648919",
          "status": "completed"
        },
        "tags": [],
        "id": "KKqaaXoNTrRr"
      },
      "source": [
        "sentiment = ['Negative','Positive']"
      ],
      "execution_count": 16,
      "outputs": []
    },
    {
      "cell_type": "code",
      "metadata": {
        "execution": {
          "iopub.execute_input": "2020-10-06T22:01:53.611240Z",
          "iopub.status.busy": "2020-10-06T22:01:53.610198Z",
          "iopub.status.idle": "2020-10-06T22:01:53.680730Z",
          "shell.execute_reply": "2020-10-06T22:01:53.679943Z"
        },
        "papermill": {
          "duration": 13.274625,
          "end_time": "2020-10-06T22:01:53.680880",
          "exception": false,
          "start_time": "2020-10-06T22:01:40.406255",
          "status": "completed"
        },
        "tags": [],
        "id": "sHUUWYi0TrRs",
        "colab": {
          "base_uri": "https://localhost:8080/",
          "height": 35
        },
        "outputId": "2cd5d3ae-7f3f-4771-bbe4-7b7868ff8264"
      },
      "source": [
        "sequence = tokenizer.texts_to_sequences(['covid to najgorsze co mnie w życiu spotkało'])\n",
        "test = pad_sequences(sequence, maxlen=max_len)\n",
        "sentiment[np.around(best_model.predict(test), decimals=0).argmax(axis=1)[0]]"
      ],
      "execution_count": 17,
      "outputs": [
        {
          "output_type": "execute_result",
          "data": {
            "application/vnd.google.colaboratory.intrinsic+json": {
              "type": "string"
            },
            "text/plain": [
              "'Negative'"
            ]
          },
          "metadata": {},
          "execution_count": 17
        }
      ]
    },
    {
      "cell_type": "code",
      "metadata": {
        "execution": {
          "iopub.execute_input": "2020-10-06T22:02:21.215521Z",
          "iopub.status.busy": "2020-10-06T22:02:21.214548Z",
          "iopub.status.idle": "2020-10-06T22:02:21.272639Z",
          "shell.execute_reply": "2020-10-06T22:02:21.271230Z"
        },
        "papermill": {
          "duration": 14.445195,
          "end_time": "2020-10-06T22:02:21.272790",
          "exception": false,
          "start_time": "2020-10-06T22:02:06.827595",
          "status": "completed"
        },
        "tags": [],
        "id": "S8VXf7JRTrRs",
        "colab": {
          "base_uri": "https://localhost:8080/",
          "height": 35
        },
        "outputId": "b21d2980-b62b-4857-8396-5ef9eeb7d1ee"
      },
      "source": [
        "sequence = tokenizer.texts_to_sequences(['Rząd całkowicie sobie nie radzi z pandemią'])\n",
        "test = pad_sequences(sequence, maxlen=max_len)\n",
        "sentiment[np.around(best_model.predict(test), decimals=0).argmax(axis=1)[0]]"
      ],
      "execution_count": 26,
      "outputs": [
        {
          "output_type": "execute_result",
          "data": {
            "application/vnd.google.colaboratory.intrinsic+json": {
              "type": "string"
            },
            "text/plain": [
              "'Negative'"
            ]
          },
          "metadata": {},
          "execution_count": 26
        }
      ]
    },
    {
      "cell_type": "code",
      "metadata": {
        "execution": {
          "iopub.execute_input": "2020-10-06T22:02:48.026609Z",
          "iopub.status.busy": "2020-10-06T22:02:48.025563Z",
          "iopub.status.idle": "2020-10-06T22:02:48.086453Z",
          "shell.execute_reply": "2020-10-06T22:02:48.085808Z"
        },
        "papermill": {
          "duration": 13.396502,
          "end_time": "2020-10-06T22:02:48.086621",
          "exception": false,
          "start_time": "2020-10-06T22:02:34.690119",
          "status": "completed"
        },
        "tags": [],
        "id": "aDYQlnRkTrRs",
        "colab": {
          "base_uri": "https://localhost:8080/",
          "height": 35
        },
        "outputId": "5789a32b-6642-4721-b9e6-403c508fc06f"
      },
      "source": [
        "sequence = tokenizer.texts_to_sequences(['wszystko wróci do normalności niedługo'])\n",
        "test = pad_sequences(sequence, maxlen=max_len)\n",
        "sentiment[np.around(best_model.predict(test), decimals=0).argmax(axis=1)[0]]"
      ],
      "execution_count": 28,
      "outputs": [
        {
          "output_type": "execute_result",
          "data": {
            "application/vnd.google.colaboratory.intrinsic+json": {
              "type": "string"
            },
            "text/plain": [
              "'Negative'"
            ]
          },
          "metadata": {},
          "execution_count": 28
        }
      ]
    }
  ]
}