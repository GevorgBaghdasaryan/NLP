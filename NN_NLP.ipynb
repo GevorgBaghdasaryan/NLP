{
  "nbformat": 4,
  "nbformat_minor": 0,
  "metadata": {
    "colab": {
      "name": "NN_NLP.ipynb",
      "provenance": [],
      "collapsed_sections": []
    },
    "kernelspec": {
      "name": "python3",
      "display_name": "Python 3"
    },
    "language_info": {
      "name": "python"
    },
    "accelerator": "GPU"
  },
  "cells": [
    {
      "cell_type": "markdown",
      "source": [
        "## **Neural Networks NLP analysis**"
      ],
      "metadata": {
        "id": "ocYoK9_RdOrv"
      }
    },
    {
      "cell_type": "code",
      "metadata": {
        "execution": {
          "iopub.execute_input": "2020-10-06T21:19:31.986613Z",
          "iopub.status.busy": "2020-10-06T21:19:31.985943Z",
          "iopub.status.idle": "2020-10-06T21:19:41.514922Z",
          "shell.execute_reply": "2020-10-06T21:19:41.515686Z"
        },
        "papermill": {
          "duration": 9.569887,
          "end_time": "2020-10-06T21:19:41.515898",
          "exception": false,
          "start_time": "2020-10-06T21:19:31.946011",
          "status": "completed"
        },
        "tags": [],
        "id": "P-1JVzZgTrRN"
      },
      "source": [
        "# pomocnicze\n",
        "import re\n",
        "import string\n",
        "import numpy as np\n",
        "import pandas as pd\n",
        "import csv\n",
        "\n",
        "# wizualizacja\n",
        "import seaborn as sns\n",
        "import matplotlib.pyplot as plt \n",
        "from wordcloud import WordCloud\n",
        "\n",
        "# preprocessing\n",
        "import spacy\n",
        "import nltk\n",
        "from nltk.corpus import stopwords\n",
        "from nltk.corpus import wordnet\n",
        "from nltk.stem import WordNetLemmatizer\n",
        "from nltk.tokenize.treebank import TreebankWordDetokenizer\n",
        "import gensim\n",
        "from gensim.utils import simple_preprocess\n",
        "\n",
        "# model\n",
        "import tensorflow as tf\n",
        "import keras\n",
        "from keras.models import Sequential\n",
        "from keras import layers\n",
        "from tensorflow.keras.optimizers import RMSprop, Adam\n",
        "from keras.preprocessing.text import Tokenizer\n",
        "from keras.preprocessing.sequence import pad_sequences\n",
        "from keras import regularizers\n",
        "from keras import backend as K\n",
        "from keras.callbacks import ModelCheckpoint\n",
        "from sklearn.model_selection import train_test_split\n",
        "\n",
        "# ewaluacja\n",
        "from sklearn.metrics import confusion_matrix\n",
        "\n",
        "import warnings\n",
        "warnings.filterwarnings('ignore')"
      ],
      "execution_count": 1,
      "outputs": []
    },
    {
      "cell_type": "markdown",
      "metadata": {
        "id": "Zrbr6k5tIpBG"
      },
      "source": [
        "### Podłączenie dysku Google"
      ]
    },
    {
      "cell_type": "code",
      "metadata": {
        "id": "7YyCVkHNIqxv",
        "colab": {
          "base_uri": "https://localhost:8080/"
        },
        "outputId": "a33dc3b9-3c0a-4d01-8341-96f370a2b625"
      },
      "source": [
        "from google.colab import drive\n",
        "drive.mount('/content/drive/')"
      ],
      "execution_count": 2,
      "outputs": [
        {
          "output_type": "stream",
          "name": "stdout",
          "text": [
            "Mounted at /content/drive/\n"
          ]
        }
      ]
    },
    {
      "cell_type": "code",
      "source": [
        "path = '/content/drive/MyDrive/tweets_labeled_bi.csv'   \n",
        "tweets_txt = pd.read_csv(path, delimiter = \",\", encoding='utf-8')\n",
        "tweets_txt.head()"
      ],
      "metadata": {
        "colab": {
          "base_uri": "https://localhost:8080/",
          "height": 206
        },
        "id": "emIU6ROad-X8",
        "outputId": "46c27782-4b75-41b3-82f9-26d73ce8e504"
      },
      "execution_count": 3,
      "outputs": [
        {
          "output_type": "execute_result",
          "data": {
            "text/html": [
              "\n",
              "  <div id=\"df-202874a8-01da-4262-ac06-9484a445fa08\">\n",
              "    <div class=\"colab-df-container\">\n",
              "      <div>\n",
              "<style scoped>\n",
              "    .dataframe tbody tr th:only-of-type {\n",
              "        vertical-align: middle;\n",
              "    }\n",
              "\n",
              "    .dataframe tbody tr th {\n",
              "        vertical-align: top;\n",
              "    }\n",
              "\n",
              "    .dataframe thead th {\n",
              "        text-align: right;\n",
              "    }\n",
              "</style>\n",
              "<table border=\"1\" class=\"dataframe\">\n",
              "  <thead>\n",
              "    <tr style=\"text-align: right;\">\n",
              "      <th></th>\n",
              "      <th>Unnamed: 0</th>\n",
              "      <th>text</th>\n",
              "      <th>clean_text</th>\n",
              "      <th>cleaned_text</th>\n",
              "      <th>sentiment</th>\n",
              "      <th>sentiments_val</th>\n",
              "    </tr>\n",
              "  </thead>\n",
              "  <tbody>\n",
              "    <tr>\n",
              "      <th>0</th>\n",
              "      <td>0</td>\n",
              "      <td>kiedy #coronavirus dotrze do polski, napotka o...</td>\n",
              "      <td>['coronavirus', 'dotrze', 'polski', 'napotka',...</td>\n",
              "      <td>coronavirus dotrze polski napotka opór znakomi...</td>\n",
              "      <td>0</td>\n",
              "      <td>negative</td>\n",
              "    </tr>\n",
              "    <tr>\n",
              "      <th>1</th>\n",
              "      <td>1</td>\n",
              "      <td>kolejni polacy chcą wrócić z wuhan https://t.c...</td>\n",
              "      <td>['kolejni', 'polacy', 'chcą', 'wrócić', 'wuhan']</td>\n",
              "      <td>kolejni polacy chcą wrócić wuhan</td>\n",
              "      <td>0</td>\n",
              "      <td>negative</td>\n",
              "    </tr>\n",
              "    <tr>\n",
              "      <th>2</th>\n",
              "      <td>2</td>\n",
              "      <td>a tymczasem w wuhan odcięto od reszty świata o...</td>\n",
              "      <td>['tymczasem', 'wuhan', 'odcięto', 'reszty', 'ś...</td>\n",
              "      <td>tymczasem wuhan odcięto reszty świata obszar p...</td>\n",
              "      <td>1</td>\n",
              "      <td>positive</td>\n",
              "    </tr>\n",
              "    <tr>\n",
              "      <th>3</th>\n",
              "      <td>3</td>\n",
              "      <td>@patrykwachowiec @kancelariasejmu nie zdziwię ...</td>\n",
              "      <td>['zdziwię', 'powiedzą', 'listy', 'pojechały', ...</td>\n",
              "      <td>zdziwię powiedzą listy pojechały chin wuhan od...</td>\n",
              "      <td>0</td>\n",
              "      <td>negative</td>\n",
              "    </tr>\n",
              "    <tr>\n",
              "      <th>4</th>\n",
              "      <td>4</td>\n",
              "      <td>.@msz_rp: 19 polaków chce wrócić z wuhan, w am...</td>\n",
              "      <td>['rp', 'polaków', 'wrócić', 'wuhan', 'ambasadz...</td>\n",
              "      <td>rp polaków wrócić wuhan ambasadzie rp pekinie ...</td>\n",
              "      <td>0</td>\n",
              "      <td>negative</td>\n",
              "    </tr>\n",
              "  </tbody>\n",
              "</table>\n",
              "</div>\n",
              "      <button class=\"colab-df-convert\" onclick=\"convertToInteractive('df-202874a8-01da-4262-ac06-9484a445fa08')\"\n",
              "              title=\"Convert this dataframe to an interactive table.\"\n",
              "              style=\"display:none;\">\n",
              "        \n",
              "  <svg xmlns=\"http://www.w3.org/2000/svg\" height=\"24px\"viewBox=\"0 0 24 24\"\n",
              "       width=\"24px\">\n",
              "    <path d=\"M0 0h24v24H0V0z\" fill=\"none\"/>\n",
              "    <path d=\"M18.56 5.44l.94 2.06.94-2.06 2.06-.94-2.06-.94-.94-2.06-.94 2.06-2.06.94zm-11 1L8.5 8.5l.94-2.06 2.06-.94-2.06-.94L8.5 2.5l-.94 2.06-2.06.94zm10 10l.94 2.06.94-2.06 2.06-.94-2.06-.94-.94-2.06-.94 2.06-2.06.94z\"/><path d=\"M17.41 7.96l-1.37-1.37c-.4-.4-.92-.59-1.43-.59-.52 0-1.04.2-1.43.59L10.3 9.45l-7.72 7.72c-.78.78-.78 2.05 0 2.83L4 21.41c.39.39.9.59 1.41.59.51 0 1.02-.2 1.41-.59l7.78-7.78 2.81-2.81c.8-.78.8-2.07 0-2.86zM5.41 20L4 18.59l7.72-7.72 1.47 1.35L5.41 20z\"/>\n",
              "  </svg>\n",
              "      </button>\n",
              "      \n",
              "  <style>\n",
              "    .colab-df-container {\n",
              "      display:flex;\n",
              "      flex-wrap:wrap;\n",
              "      gap: 12px;\n",
              "    }\n",
              "\n",
              "    .colab-df-convert {\n",
              "      background-color: #E8F0FE;\n",
              "      border: none;\n",
              "      border-radius: 50%;\n",
              "      cursor: pointer;\n",
              "      display: none;\n",
              "      fill: #1967D2;\n",
              "      height: 32px;\n",
              "      padding: 0 0 0 0;\n",
              "      width: 32px;\n",
              "    }\n",
              "\n",
              "    .colab-df-convert:hover {\n",
              "      background-color: #E2EBFA;\n",
              "      box-shadow: 0px 1px 2px rgba(60, 64, 67, 0.3), 0px 1px 3px 1px rgba(60, 64, 67, 0.15);\n",
              "      fill: #174EA6;\n",
              "    }\n",
              "\n",
              "    [theme=dark] .colab-df-convert {\n",
              "      background-color: #3B4455;\n",
              "      fill: #D2E3FC;\n",
              "    }\n",
              "\n",
              "    [theme=dark] .colab-df-convert:hover {\n",
              "      background-color: #434B5C;\n",
              "      box-shadow: 0px 1px 3px 1px rgba(0, 0, 0, 0.15);\n",
              "      filter: drop-shadow(0px 1px 2px rgba(0, 0, 0, 0.3));\n",
              "      fill: #FFFFFF;\n",
              "    }\n",
              "  </style>\n",
              "\n",
              "      <script>\n",
              "        const buttonEl =\n",
              "          document.querySelector('#df-202874a8-01da-4262-ac06-9484a445fa08 button.colab-df-convert');\n",
              "        buttonEl.style.display =\n",
              "          google.colab.kernel.accessAllowed ? 'block' : 'none';\n",
              "\n",
              "        async function convertToInteractive(key) {\n",
              "          const element = document.querySelector('#df-202874a8-01da-4262-ac06-9484a445fa08');\n",
              "          const dataTable =\n",
              "            await google.colab.kernel.invokeFunction('convertToInteractive',\n",
              "                                                     [key], {});\n",
              "          if (!dataTable) return;\n",
              "\n",
              "          const docLinkHtml = 'Like what you see? Visit the ' +\n",
              "            '<a target=\"_blank\" href=https://colab.research.google.com/notebooks/data_table.ipynb>data table notebook</a>'\n",
              "            + ' to learn more about interactive tables.';\n",
              "          element.innerHTML = '';\n",
              "          dataTable['output_type'] = 'display_data';\n",
              "          await google.colab.output.renderOutput(dataTable, element);\n",
              "          const docLink = document.createElement('div');\n",
              "          docLink.innerHTML = docLinkHtml;\n",
              "          element.appendChild(docLink);\n",
              "        }\n",
              "      </script>\n",
              "    </div>\n",
              "  </div>\n",
              "  "
            ],
            "text/plain": [
              "   Unnamed: 0  ... sentiments_val\n",
              "0           0  ...       negative\n",
              "1           1  ...       negative\n",
              "2           2  ...       positive\n",
              "3           3  ...       negative\n",
              "4           4  ...       negative\n",
              "\n",
              "[5 rows x 6 columns]"
            ]
          },
          "metadata": {},
          "execution_count": 3
        }
      ]
    },
    {
      "cell_type": "markdown",
      "source": [
        "## Prepare data for NN algorithm\n",
        "Data is already cleaned and preprocessed "
      ],
      "metadata": {
        "id": "Vb5aBt0Y_VHF"
      }
    },
    {
      "cell_type": "code",
      "source": [
        "temp = []\n",
        "data_to_list = tweets_txt['cleaned_text'].values.tolist()\n",
        "temp = data_to_list\n",
        "list(temp[:5])"
      ],
      "metadata": {
        "colab": {
          "base_uri": "https://localhost:8080/"
        },
        "id": "YKikn-Aajd-T",
        "outputId": "a69ee9c2-de30-4b9b-edf5-81fbcd4836e7"
      },
      "execution_count": 6,
      "outputs": [
        {
          "output_type": "execute_result",
          "data": {
            "text/plain": [
              "['coronavirus dotrze polski napotka opór znakomicie zorganizowanego publicznego systemu ochrony zdrowia napotka',\n",
              " 'kolejni polacy chcą wrócić wuhan',\n",
              " 'tymczasem wuhan odcięto reszty świata obszar porównywalny syrii mcd starbucks zawiesili działalność',\n",
              " 'zdziwię powiedzą listy pojechały chin wuhan odważny pojedzie',\n",
              " 'rp polaków wrócić wuhan ambasadzie rp pekinie powołano sztab kryzysowy spotkanie']"
            ]
          },
          "metadata": {},
          "execution_count": 6
        }
      ]
    },
    {
      "cell_type": "code",
      "source": [
        "data= np.array(temp)\n",
        "data[:5]"
      ],
      "metadata": {
        "colab": {
          "base_uri": "https://localhost:8080/"
        },
        "id": "F1P6syvUE2hA",
        "outputId": "15db0500-b78d-44cf-c797-0c88b98d2b3d"
      },
      "execution_count": 7,
      "outputs": [
        {
          "output_type": "execute_result",
          "data": {
            "text/plain": [
              "array(['coronavirus dotrze polski napotka opór znakomicie zorganizowanego publicznego systemu ochrony zdrowia napotka',\n",
              "       'kolejni polacy chcą wrócić wuhan',\n",
              "       'tymczasem wuhan odcięto reszty świata obszar porównywalny syrii mcd starbucks zawiesili działalność',\n",
              "       'zdziwię powiedzą listy pojechały chin wuhan odważny pojedzie',\n",
              "       'rp polaków wrócić wuhan ambasadzie rp pekinie powołano sztab kryzysowy spotkanie'],\n",
              "      dtype='<U135')"
            ]
          },
          "metadata": {},
          "execution_count": 7
        }
      ]
    },
    {
      "cell_type": "markdown",
      "metadata": {
        "papermill": {
          "duration": 0.037183,
          "end_time": "2020-10-06T21:19:48.013459",
          "exception": false,
          "start_time": "2020-10-06T21:19:47.976276",
          "status": "completed"
        },
        "tags": [],
        "id": "deA9uYtLTrRd"
      },
      "source": [
        "## Zamiana danych na wartości numeryczne"
      ]
    },
    {
      "cell_type": "code",
      "metadata": {
        "execution": {
          "iopub.execute_input": "2020-10-06T21:19:48.122784Z",
          "iopub.status.busy": "2020-10-06T21:19:48.121518Z",
          "iopub.status.idle": "2020-10-06T21:19:48.125042Z",
          "shell.execute_reply": "2020-10-06T21:19:48.125481Z"
        },
        "papermill": {
          "duration": 0.074223,
          "end_time": "2020-10-06T21:19:48.125627",
          "exception": false,
          "start_time": "2020-10-06T21:19:48.051404",
          "status": "completed"
        },
        "tags": [],
        "id": "P5eHbM3hTrRe"
      },
      "source": [
        "labels = np.array(tweets_txt['sentiments_val'])\n",
        "y = []\n",
        "for i in range(len(labels)):\n",
        "    if labels[i] == \"negative\":\n",
        "        y.append(0)\n",
        "    if labels[i] == \"positive\":\n",
        "        y.append(1)\n",
        "y = np.array(y)\n",
        "labels = tf.keras.utils.to_categorical(y, 2, dtype=\"float32\")\n",
        "del y"
      ],
      "execution_count": 8,
      "outputs": []
    },
    {
      "cell_type": "code",
      "metadata": {
        "execution": {
          "iopub.execute_input": "2020-10-06T21:19:48.206863Z",
          "iopub.status.busy": "2020-10-06T21:19:48.206068Z",
          "iopub.status.idle": "2020-10-06T21:19:48.209920Z",
          "shell.execute_reply": "2020-10-06T21:19:48.209425Z"
        },
        "papermill": {
          "duration": 0.046647,
          "end_time": "2020-10-06T21:19:48.210021",
          "exception": false,
          "start_time": "2020-10-06T21:19:48.163374",
          "status": "completed"
        },
        "tags": [],
        "id": "J25uvvGnTrRf",
        "colab": {
          "base_uri": "https://localhost:8080/"
        },
        "outputId": "07ebd97f-dc77-4544-e2b8-efad370e4ab3"
      },
      "source": [
        "len(labels)"
      ],
      "execution_count": 9,
      "outputs": [
        {
          "output_type": "execute_result",
          "data": {
            "text/plain": [
              "485087"
            ]
          },
          "metadata": {},
          "execution_count": 9
        }
      ]
    },
    {
      "cell_type": "markdown",
      "metadata": {
        "papermill": {
          "duration": 0.038298,
          "end_time": "2020-10-06T21:19:48.287312",
          "exception": false,
          "start_time": "2020-10-06T21:19:48.249014",
          "status": "completed"
        },
        "tags": [],
        "id": "RgDNds0zTrRf"
      },
      "source": [
        "## Zamiana danych na tensory"
      ]
    },
    {
      "cell_type": "code",
      "metadata": {
        "execution": {
          "iopub.execute_input": "2020-10-06T21:19:48.373707Z",
          "iopub.status.busy": "2020-10-06T21:19:48.372469Z",
          "iopub.status.idle": "2020-10-06T21:19:49.386819Z",
          "shell.execute_reply": "2020-10-06T21:19:49.387562Z"
        },
        "papermill": {
          "duration": 1.062302,
          "end_time": "2020-10-06T21:19:49.387739",
          "exception": false,
          "start_time": "2020-10-06T21:19:48.325437",
          "status": "completed"
        },
        "tags": [],
        "id": "GZpoFZfxTrRg",
        "colab": {
          "base_uri": "https://localhost:8080/"
        },
        "outputId": "3f3f83fd-2ffa-4f80-9456-997a0e7f6b6a"
      },
      "source": [
        "max_words = 5000\n",
        "max_len = 200\n",
        "\n",
        "tokenizer = Tokenizer(num_words=max_words)\n",
        "tokenizer.fit_on_texts(data)\n",
        "sequences = tokenizer.texts_to_sequences(data)\n",
        "tweets = pad_sequences(sequences, maxlen=max_len)\n",
        "print(tweets)"
      ],
      "execution_count": 10,
      "outputs": [
        {
          "output_type": "stream",
          "name": "stdout",
          "text": [
            "[[   0    0    0 ...  969  341   12]\n",
            " [   0    0    0 ...  186 1543   38]\n",
            " [   0    0    0 ... 3628  207 1825]\n",
            " ...\n",
            " [   0    0    0 ...    0    0  851]\n",
            " [   0    0    0 ...    0    0    0]\n",
            " [   0    0    0 ...  851 3785  851]]\n"
          ]
        }
      ]
    },
    {
      "cell_type": "code",
      "metadata": {
        "execution": {
          "iopub.execute_input": "2020-10-06T21:19:49.478734Z",
          "iopub.status.busy": "2020-10-06T21:19:49.477823Z",
          "iopub.status.idle": "2020-10-06T21:19:49.482217Z",
          "shell.execute_reply": "2020-10-06T21:19:49.483329Z"
        },
        "papermill": {
          "duration": 0.054099,
          "end_time": "2020-10-06T21:19:49.483550",
          "exception": false,
          "start_time": "2020-10-06T21:19:49.429451",
          "status": "completed"
        },
        "tags": [],
        "id": "igJ9ODC6TrRh",
        "colab": {
          "base_uri": "https://localhost:8080/"
        },
        "outputId": "aa3c644a-e6bf-480e-f13f-7952be6b2eb0"
      },
      "source": [
        "print(labels)"
      ],
      "execution_count": 11,
      "outputs": [
        {
          "output_type": "stream",
          "name": "stdout",
          "text": [
            "[[1. 0.]\n",
            " [1. 0.]\n",
            " [0. 1.]\n",
            " ...\n",
            " [0. 1.]\n",
            " [1. 0.]\n",
            " [0. 1.]]\n"
          ]
        }
      ]
    },
    {
      "cell_type": "code",
      "metadata": {
        "execution": {
          "iopub.execute_input": "2020-10-06T21:19:49.585814Z",
          "iopub.status.busy": "2020-10-06T21:19:49.584576Z",
          "iopub.status.idle": "2020-10-06T21:19:49.600360Z",
          "shell.execute_reply": "2020-10-06T21:19:49.601002Z"
        },
        "papermill": {
          "duration": 0.069178,
          "end_time": "2020-10-06T21:19:49.601136",
          "exception": false,
          "start_time": "2020-10-06T21:19:49.531958",
          "status": "completed"
        },
        "tags": [],
        "id": "jACXuB4YTrRh",
        "colab": {
          "base_uri": "https://localhost:8080/"
        },
        "outputId": "497bc591-7764-4c1f-fb7f-2e77d503d6df"
      },
      "source": [
        "# Podział na trening i test\n",
        "X_train, X_test, y_train, y_test = train_test_split(tweets, labels, random_state=0)\n",
        "print(len(X_train),len(X_test),len(y_train),len(y_test))"
      ],
      "execution_count": 12,
      "outputs": [
        {
          "output_type": "stream",
          "name": "stdout",
          "text": [
            "363815 121272 363815 121272\n"
          ]
        }
      ]
    },
    {
      "cell_type": "markdown",
      "metadata": {
        "papermill": {
          "duration": 0.044723,
          "end_time": "2020-10-06T21:19:49.690338",
          "exception": false,
          "start_time": "2020-10-06T21:19:49.645615",
          "status": "completed"
        },
        "tags": [],
        "id": "sFGpOBLYTrRi"
      },
      "source": [
        "## 1. Bidirectional LSTM"
      ]
    },
    {
      "cell_type": "code",
      "metadata": {
        "execution": {
          "iopub.execute_input": "2020-10-06T21:30:18.875895Z",
          "iopub.status.busy": "2020-10-06T21:30:18.874621Z",
          "iopub.status.idle": "2020-10-06T21:49:59.410271Z",
          "shell.execute_reply": "2020-10-06T21:49:59.411560Z"
        },
        "papermill": {
          "duration": 1184.636954,
          "end_time": "2020-10-06T21:49:59.411827",
          "exception": false,
          "start_time": "2020-10-06T21:30:14.774873",
          "status": "completed"
        },
        "tags": [],
        "colab": {
          "base_uri": "https://localhost:8080/"
        },
        "outputId": "b75ff543-3f82-47ef-be11-ca17e3836c9e",
        "id": "r5dzuv-sqV5d"
      },
      "source": [
        "model1 = Sequential()\n",
        "model1.add(layers.Embedding(max_words, 40, input_length=max_len))\n",
        "model1.add(layers.Bidirectional(layers.LSTM(20,dropout=0.6)))\n",
        "model1.add(layers.Dense(2,activation='softmax'))\n",
        "model1.compile(optimizer='rmsprop',loss='categorical_crossentropy', metrics=['accuracy'])\n",
        "\n",
        "checkpoint = ModelCheckpoint(\"/content/drive/MyDrive/best_model.hdf5\", \n",
        "                              monitor='val_accuracy', \n",
        "                              verbose=1,\n",
        "                              save_best_only=True, \n",
        "                              mode='auto', \n",
        "                              period=1,\n",
        "                              save_weights_only=False)\n",
        "history = model1.fit(X_train, \n",
        "                     y_train, \n",
        "                     epochs=30, \n",
        "                     validation_data=(X_test, y_test),\n",
        "                     callbacks=[checkpoint])"
      ],
      "execution_count": null,
      "outputs": [
        {
          "output_type": "stream",
          "name": "stdout",
          "text": [
            "WARNING:tensorflow:`period` argument is deprecated. Please use `save_freq` to specify the frequency in number of batches seen.\n",
            "Epoch 1/30\n",
            "11370/11370 [==============================] - ETA: 0s - loss: 0.3227 - accuracy: 0.8523\n",
            "Epoch 00001: val_accuracy improved from -inf to 0.87334, saving model to /content/drive/MyDrive/best_model.hdf5\n",
            "11370/11370 [==============================] - 917s 80ms/step - loss: 0.3227 - accuracy: 0.8523 - val_loss: 0.2825 - val_accuracy: 0.8733\n",
            "Epoch 2/30\n",
            "11370/11370 [==============================] - ETA: 0s - loss: 0.2832 - accuracy: 0.8729\n",
            "Epoch 00002: val_accuracy improved from 0.87334 to 0.87536, saving model to /content/drive/MyDrive/best_model.hdf5\n",
            "11370/11370 [==============================] - 905s 80ms/step - loss: 0.2832 - accuracy: 0.8729 - val_loss: 0.2781 - val_accuracy: 0.8754\n",
            "Epoch 3/30\n",
            "11370/11370 [==============================] - ETA: 0s - loss: 0.2816 - accuracy: 0.8736\n",
            "Epoch 00003: val_accuracy did not improve from 0.87536\n",
            "11370/11370 [==============================] - 901s 79ms/step - loss: 0.2816 - accuracy: 0.8736 - val_loss: 0.2789 - val_accuracy: 0.8733\n",
            "Epoch 4/30\n",
            "11370/11370 [==============================] - ETA: 0s - loss: 0.2816 - accuracy: 0.8738\n",
            "Epoch 00004: val_accuracy did not improve from 0.87536\n",
            "11370/11370 [==============================] - 902s 79ms/step - loss: 0.2816 - accuracy: 0.8738 - val_loss: 0.2804 - val_accuracy: 0.8744\n",
            "Epoch 5/30\n",
            "11370/11370 [==============================] - ETA: 0s - loss: 0.2812 - accuracy: 0.8743\n",
            "Epoch 00005: val_accuracy improved from 0.87536 to 0.87593, saving model to /content/drive/MyDrive/best_model.hdf5\n",
            "11370/11370 [==============================] - 905s 80ms/step - loss: 0.2812 - accuracy: 0.8743 - val_loss: 0.2784 - val_accuracy: 0.8759\n",
            "Epoch 6/30\n",
            "11370/11370 [==============================] - ETA: 0s - loss: 0.2818 - accuracy: 0.8738\n",
            "Epoch 00006: val_accuracy did not improve from 0.87593\n",
            "11370/11370 [==============================] - 898s 79ms/step - loss: 0.2818 - accuracy: 0.8738 - val_loss: 0.2783 - val_accuracy: 0.8754\n",
            "Epoch 7/30\n",
            "11370/11370 [==============================] - ETA: 0s - loss: 0.2816 - accuracy: 0.8741\n",
            "Epoch 00007: val_accuracy did not improve from 0.87593\n",
            "11370/11370 [==============================] - 890s 78ms/step - loss: 0.2816 - accuracy: 0.8741 - val_loss: 0.2832 - val_accuracy: 0.8734\n",
            "Epoch 8/30\n",
            "11370/11370 [==============================] - ETA: 0s - loss: 0.2814 - accuracy: 0.8743\n",
            "Epoch 00008: val_accuracy improved from 0.87593 to 0.87648, saving model to /content/drive/MyDrive/best_model.hdf5\n",
            "11370/11370 [==============================] - 891s 78ms/step - loss: 0.2814 - accuracy: 0.8743 - val_loss: 0.2779 - val_accuracy: 0.8765\n",
            "Epoch 9/30\n",
            "11370/11370 [==============================] - ETA: 0s - loss: 0.2813 - accuracy: 0.8749\n",
            "Epoch 00009: val_accuracy did not improve from 0.87648\n",
            "11370/11370 [==============================] - 891s 78ms/step - loss: 0.2813 - accuracy: 0.8749 - val_loss: 0.2778 - val_accuracy: 0.8759\n",
            "Epoch 10/30\n",
            "11370/11370 [==============================] - ETA: 0s - loss: 0.2825 - accuracy: 0.8743\n",
            "Epoch 00010: val_accuracy improved from 0.87648 to 0.87674, saving model to /content/drive/MyDrive/best_model.hdf5\n",
            "11370/11370 [==============================] - 893s 79ms/step - loss: 0.2825 - accuracy: 0.8743 - val_loss: 0.2784 - val_accuracy: 0.8767\n",
            "Epoch 11/30\n",
            "11370/11370 [==============================] - ETA: 0s - loss: 0.2827 - accuracy: 0.8742\n",
            "Epoch 00011: val_accuracy did not improve from 0.87674\n",
            "11370/11370 [==============================] - 892s 78ms/step - loss: 0.2827 - accuracy: 0.8742 - val_loss: 0.2804 - val_accuracy: 0.8739\n",
            "Epoch 12/30\n",
            "11370/11370 [==============================] - ETA: 0s - loss: 0.2821 - accuracy: 0.8742\n",
            "Epoch 00012: val_accuracy did not improve from 0.87674\n",
            "11370/11370 [==============================] - 896s 79ms/step - loss: 0.2821 - accuracy: 0.8742 - val_loss: 0.2841 - val_accuracy: 0.8725\n",
            "Epoch 13/30\n",
            "11370/11370 [==============================] - ETA: 0s - loss: 0.2819 - accuracy: 0.8749\n",
            "Epoch 00013: val_accuracy did not improve from 0.87674\n",
            "11370/11370 [==============================] - 893s 79ms/step - loss: 0.2819 - accuracy: 0.8749 - val_loss: 0.2817 - val_accuracy: 0.8753\n",
            "Epoch 14/30\n",
            "11370/11370 [==============================] - ETA: 0s - loss: 0.2828 - accuracy: 0.8741\n",
            "Epoch 00014: val_accuracy did not improve from 0.87674\n",
            "11370/11370 [==============================] - 894s 79ms/step - loss: 0.2828 - accuracy: 0.8741 - val_loss: 0.2791 - val_accuracy: 0.8752\n",
            "Epoch 15/30\n",
            "11370/11370 [==============================] - ETA: 0s - loss: 0.2828 - accuracy: 0.8743\n",
            "Epoch 00015: val_accuracy did not improve from 0.87674\n",
            "11370/11370 [==============================] - 895s 79ms/step - loss: 0.2828 - accuracy: 0.8743 - val_loss: 0.2802 - val_accuracy: 0.8748\n",
            "Epoch 16/30\n",
            "11370/11370 [==============================] - ETA: 0s - loss: 0.2826 - accuracy: 0.8742\n",
            "Epoch 00016: val_accuracy did not improve from 0.87674\n",
            "11370/11370 [==============================] - 876s 77ms/step - loss: 0.2826 - accuracy: 0.8742 - val_loss: 0.2790 - val_accuracy: 0.8756\n",
            "Epoch 17/30\n",
            "11370/11370 [==============================] - ETA: 0s - loss: 0.2831 - accuracy: 0.8742\n",
            "Epoch 00017: val_accuracy did not improve from 0.87674\n",
            "11370/11370 [==============================] - 876s 77ms/step - loss: 0.2831 - accuracy: 0.8742 - val_loss: 0.2788 - val_accuracy: 0.8746\n",
            "Epoch 18/30\n",
            "11370/11370 [==============================] - ETA: 0s - loss: 0.2834 - accuracy: 0.8743\n",
            "Epoch 00018: val_accuracy did not improve from 0.87674\n",
            "11370/11370 [==============================] - 877s 77ms/step - loss: 0.2834 - accuracy: 0.8743 - val_loss: 0.2792 - val_accuracy: 0.8757\n",
            "Epoch 19/30\n",
            "11370/11370 [==============================] - ETA: 0s - loss: 0.2834 - accuracy: 0.8738\n",
            "Epoch 00019: val_accuracy did not improve from 0.87674\n",
            "11370/11370 [==============================] - 875s 77ms/step - loss: 0.2834 - accuracy: 0.8738 - val_loss: 0.2794 - val_accuracy: 0.8754\n",
            "Epoch 20/30\n",
            "11370/11370 [==============================] - ETA: 0s - loss: 0.2834 - accuracy: 0.8740\n",
            "Epoch 00020: val_accuracy did not improve from 0.87674\n",
            "11370/11370 [==============================] - 875s 77ms/step - loss: 0.2834 - accuracy: 0.8740 - val_loss: 0.2808 - val_accuracy: 0.8740\n",
            "Epoch 21/30\n",
            "11370/11370 [==============================] - ETA: 0s - loss: 0.2842 - accuracy: 0.8736\n",
            "Epoch 00021: val_accuracy did not improve from 0.87674\n",
            "11370/11370 [==============================] - 877s 77ms/step - loss: 0.2842 - accuracy: 0.8736 - val_loss: 0.2828 - val_accuracy: 0.8740\n",
            "Epoch 22/30\n",
            "11370/11370 [==============================] - ETA: 0s - loss: 0.2840 - accuracy: 0.8740\n",
            "Epoch 00022: val_accuracy did not improve from 0.87674\n",
            "11370/11370 [==============================] - 872s 77ms/step - loss: 0.2840 - accuracy: 0.8740 - val_loss: 0.2824 - val_accuracy: 0.8746\n",
            "Epoch 23/30\n",
            "11370/11370 [==============================] - ETA: 0s - loss: 0.2840 - accuracy: 0.8739\n",
            "Epoch 00023: val_accuracy did not improve from 0.87674\n",
            "11370/11370 [==============================] - 872s 77ms/step - loss: 0.2840 - accuracy: 0.8739 - val_loss: 0.2815 - val_accuracy: 0.8749\n",
            "Epoch 24/30\n",
            "11370/11370 [==============================] - ETA: 0s - loss: 0.2833 - accuracy: 0.8742\n",
            "Epoch 00024: val_accuracy did not improve from 0.87674\n",
            "11370/11370 [==============================] - 882s 78ms/step - loss: 0.2833 - accuracy: 0.8742 - val_loss: 0.2831 - val_accuracy: 0.8748\n",
            "Epoch 25/30\n",
            " 5482/11370 [=============>................] - ETA: 6:48 - loss: 0.2834 - accuracy: 0.8743"
          ]
        }
      ]
    },
    {
      "cell_type": "markdown",
      "metadata": {
        "papermill": {
          "duration": 13.897718,
          "end_time": "2020-10-06T21:57:43.244943",
          "exception": false,
          "start_time": "2020-10-06T21:57:29.347225",
          "status": "completed"
        },
        "tags": [],
        "id": "PvMTvEqaTrRl"
      },
      "source": [
        "### Ewaluacja modelu"
      ]
    },
    {
      "cell_type": "code",
      "metadata": {
        "execution": {
          "iopub.execute_input": "2020-10-06T21:58:11.467383Z",
          "iopub.status.busy": "2020-10-06T21:58:11.466210Z",
          "iopub.status.idle": "2020-10-06T21:58:12.123269Z",
          "shell.execute_reply": "2020-10-06T21:58:12.122665Z"
        },
        "papermill": {
          "duration": 14.579894,
          "end_time": "2020-10-06T21:58:12.123401",
          "exception": false,
          "start_time": "2020-10-06T21:57:57.543507",
          "status": "completed"
        },
        "tags": [],
        "id": "uwGMbk8oTrRl"
      },
      "source": [
        "model1 = keras.models.load_model(\"/content/drive/MyDrive/best_model.hdf5\")"
      ],
      "execution_count": 44,
      "outputs": []
    },
    {
      "cell_type": "code",
      "metadata": {
        "execution": {
          "iopub.execute_input": "2020-10-06T21:58:39.201557Z",
          "iopub.status.busy": "2020-10-06T21:58:39.200429Z",
          "iopub.status.idle": "2020-10-06T21:58:42.153698Z",
          "shell.execute_reply": "2020-10-06T21:58:42.152736Z"
        },
        "papermill": {
          "duration": 16.163436,
          "end_time": "2020-10-06T21:58:42.153869",
          "exception": false,
          "start_time": "2020-10-06T21:58:25.990433",
          "status": "completed"
        },
        "tags": [],
        "id": "cVW_3KOXTrRl",
        "colab": {
          "base_uri": "https://localhost:8080/"
        },
        "outputId": "f05bde09-aa0f-48da-a2cc-ed610294a725"
      },
      "source": [
        "test_loss, test_acc = model1.evaluate(X_test, y_test, verbose=2)\n",
        "print('Model accuracy: ',test_acc)"
      ],
      "execution_count": 45,
      "outputs": [
        {
          "output_type": "stream",
          "name": "stdout",
          "text": [
            "3790/3790 - 72s - loss: 0.2784 - accuracy: 0.8767 - 72s/epoch - 19ms/step\n",
            "Model accuracy:  0.8767399191856384\n"
          ]
        }
      ]
    },
    {
      "cell_type": "code",
      "metadata": {
        "execution": {
          "iopub.execute_input": "2020-10-06T21:59:08.598704Z",
          "iopub.status.busy": "2020-10-06T21:59:08.597660Z",
          "iopub.status.idle": "2020-10-06T21:59:11.143379Z",
          "shell.execute_reply": "2020-10-06T21:59:11.144225Z"
        },
        "papermill": {
          "duration": 15.873978,
          "end_time": "2020-10-06T21:59:11.144400",
          "exception": false,
          "start_time": "2020-10-06T21:58:55.270422",
          "status": "completed"
        },
        "tags": [],
        "id": "8uyBuqoiTrRl"
      },
      "source": [
        "predictions1 = model1.predict(X_test)"
      ],
      "execution_count": 46,
      "outputs": []
    },
    {
      "cell_type": "markdown",
      "metadata": {
        "papermill": {
          "duration": 13.54467,
          "end_time": "2020-10-06T21:59:38.859073",
          "exception": false,
          "start_time": "2020-10-06T21:59:25.314403",
          "status": "completed"
        },
        "tags": [],
        "id": "Mox6U_nNTrRl"
      },
      "source": [
        "### Confusion matrix"
      ]
    },
    {
      "cell_type": "code",
      "metadata": {
        "execution": {
          "iopub.execute_input": "2020-10-06T22:00:05.244627Z",
          "iopub.status.busy": "2020-10-06T22:00:05.243340Z",
          "iopub.status.idle": "2020-10-06T22:00:05.261173Z",
          "shell.execute_reply": "2020-10-06T22:00:05.260523Z"
        },
        "papermill": {
          "duration": 13.356845,
          "end_time": "2020-10-06T22:00:05.261290",
          "exception": false,
          "start_time": "2020-10-06T21:59:51.904445",
          "status": "completed"
        },
        "tags": [],
        "id": "av7aqLMzTrRq"
      },
      "source": [
        "# from sklearn.metrics import confusion_matrix\n",
        "matrix = confusion_matrix(y_test.argmax(axis=1), np.around(predictions1, decimals=0).argmax(axis=1))"
      ],
      "execution_count": 47,
      "outputs": []
    },
    {
      "cell_type": "code",
      "metadata": {
        "execution": {
          "iopub.execute_input": "2020-10-06T22:00:32.586908Z",
          "iopub.status.busy": "2020-10-06T22:00:32.586210Z",
          "iopub.status.idle": "2020-10-06T22:00:33.285612Z",
          "shell.execute_reply": "2020-10-06T22:00:33.285009Z"
        },
        "papermill": {
          "duration": 14.015558,
          "end_time": "2020-10-06T22:00:33.285736",
          "exception": false,
          "start_time": "2020-10-06T22:00:19.270178",
          "status": "completed"
        },
        "tags": [],
        "id": "xB44BYXrTrRr",
        "colab": {
          "base_uri": "https://localhost:8080/",
          "height": 880
        },
        "outputId": "032946bd-3a97-4741-d269-b67cab3acd6a"
      },
      "source": [
        "# import seaborn as sns\n",
        "conf_matrix = pd.DataFrame(matrix, index = ['Negative','Positive'],columns = ['Negative','Positive'])\n",
        "conf_matrix = conf_matrix.astype('float') / conf_matrix.sum(axis=1)[:, np.newaxis]\n",
        "plt.figure(figsize = (15,15))\n",
        "sns.heatmap(conf_matrix, annot=True, annot_kws={\"size\": 15})"
      ],
      "execution_count": 48,
      "outputs": [
        {
          "output_type": "execute_result",
          "data": {
            "text/plain": [
              "<matplotlib.axes._subplots.AxesSubplot at 0x7fd6b5c22a90>"
            ]
          },
          "metadata": {},
          "execution_count": 48
        },
        {
          "output_type": "display_data",
          "data": {
            "image/png": "[encoded data removed]",
            "text/plain": [
              "<Figure size 1080x1080 with 2 Axes>"
            ]
          },
          "metadata": {
            "needs_background": "light"
          }
        }
      ]
    },
    {
      "cell_type": "code",
      "metadata": {
        "execution": {
          "iopub.execute_input": "2020-10-06T22:01:26.949303Z",
          "iopub.status.busy": "2020-10-06T22:01:26.947906Z",
          "iopub.status.idle": "2020-10-06T22:01:26.951809Z",
          "shell.execute_reply": "2020-10-06T22:01:26.951229Z"
        },
        "papermill": {
          "duration": 14.303017,
          "end_time": "2020-10-06T22:01:26.951936",
          "exception": false,
          "start_time": "2020-10-06T22:01:12.648919",
          "status": "completed"
        },
        "tags": [],
        "id": "KKqaaXoNTrRr"
      },
      "source": [
        "sentiment = ['Negative','Positive']"
      ],
      "execution_count": 49,
      "outputs": []
    },
    {
      "cell_type": "code",
      "metadata": {
        "execution": {
          "iopub.execute_input": "2020-10-06T22:01:53.611240Z",
          "iopub.status.busy": "2020-10-06T22:01:53.610198Z",
          "iopub.status.idle": "2020-10-06T22:01:53.680730Z",
          "shell.execute_reply": "2020-10-06T22:01:53.679943Z"
        },
        "papermill": {
          "duration": 13.274625,
          "end_time": "2020-10-06T22:01:53.680880",
          "exception": false,
          "start_time": "2020-10-06T22:01:40.406255",
          "status": "completed"
        },
        "tags": [],
        "id": "sHUUWYi0TrRs",
        "colab": {
          "base_uri": "https://localhost:8080/",
          "height": 35
        },
        "outputId": "7ff6e0fe-e3b7-4981-ae32-ace5eb43bee3"
      },
      "source": [
        "sequence = tokenizer.texts_to_sequences(['covid to najgorsze co mnie w życiu spotkało'])\n",
        "test = pad_sequences(sequence, maxlen=max_len)\n",
        "sentiment[np.around(model1.predict(test), decimals=0).argmax(axis=1)[0]]"
      ],
      "execution_count": 50,
      "outputs": [
        {
          "output_type": "execute_result",
          "data": {
            "application/vnd.google.colaboratory.intrinsic+json": {
              "type": "string"
            },
            "text/plain": [
              "'Negative'"
            ]
          },
          "metadata": {},
          "execution_count": 50
        }
      ]
    },
    {
      "cell_type": "code",
      "metadata": {
        "execution": {
          "iopub.execute_input": "2020-10-06T22:02:21.215521Z",
          "iopub.status.busy": "2020-10-06T22:02:21.214548Z",
          "iopub.status.idle": "2020-10-06T22:02:21.272639Z",
          "shell.execute_reply": "2020-10-06T22:02:21.271230Z"
        },
        "papermill": {
          "duration": 14.445195,
          "end_time": "2020-10-06T22:02:21.272790",
          "exception": false,
          "start_time": "2020-10-06T22:02:06.827595",
          "status": "completed"
        },
        "tags": [],
        "id": "S8VXf7JRTrRs",
        "colab": {
          "base_uri": "https://localhost:8080/",
          "height": 35
        },
        "outputId": "ef34639b-4d98-4c9c-ce79-3be3e8a4f1ef"
      },
      "source": [
        "sequence = tokenizer.texts_to_sequences(['Rząd całkowicie sobie nie radzi z pandemią'])\n",
        "test = pad_sequences(sequence, maxlen=max_len)\n",
        "sentiment[np.around(model1.predict(test), decimals=0).argmax(axis=1)[0]]"
      ],
      "execution_count": 51,
      "outputs": [
        {
          "output_type": "execute_result",
          "data": {
            "application/vnd.google.colaboratory.intrinsic+json": {
              "type": "string"
            },
            "text/plain": [
              "'Negative'"
            ]
          },
          "metadata": {},
          "execution_count": 51
        }
      ]
    },
    {
      "cell_type": "code",
      "metadata": {
        "execution": {
          "iopub.execute_input": "2020-10-06T22:02:48.026609Z",
          "iopub.status.busy": "2020-10-06T22:02:48.025563Z",
          "iopub.status.idle": "2020-10-06T22:02:48.086453Z",
          "shell.execute_reply": "2020-10-06T22:02:48.085808Z"
        },
        "papermill": {
          "duration": 13.396502,
          "end_time": "2020-10-06T22:02:48.086621",
          "exception": false,
          "start_time": "2020-10-06T22:02:34.690119",
          "status": "completed"
        },
        "tags": [],
        "id": "aDYQlnRkTrRs",
        "colab": {
          "base_uri": "https://localhost:8080/",
          "height": 35
        },
        "outputId": "58d26861-125b-4799-d6a2-ae61f604e36b"
      },
      "source": [
        "sequence = tokenizer.texts_to_sequences(['wszystko wróci do normalności niedługo'])\n",
        "test = pad_sequences(sequence, maxlen=max_len)\n",
        "sentiment[np.around(model1.predict(test), decimals=0).argmax(axis=1)[0]]"
      ],
      "execution_count": 52,
      "outputs": [
        {
          "output_type": "execute_result",
          "data": {
            "application/vnd.google.colaboratory.intrinsic+json": {
              "type": "string"
            },
            "text/plain": [
              "'Negative'"
            ]
          },
          "metadata": {},
          "execution_count": 52
        }
      ]
    },
    {
      "cell_type": "markdown",
      "metadata": {
        "papermill": {
          "duration": 0.044723,
          "end_time": "2020-10-06T21:19:49.690338",
          "exception": false,
          "start_time": "2020-10-06T21:19:49.645615",
          "status": "completed"
        },
        "tags": [],
        "id": "qgNIziE27CAN"
      },
      "source": [
        "##2. Convolutional model\n"
      ]
    },
    {
      "cell_type": "code",
      "metadata": {
        "execution": {
          "iopub.execute_input": "2020-10-06T21:30:18.875895Z",
          "iopub.status.busy": "2020-10-06T21:30:18.874621Z",
          "iopub.status.idle": "2020-10-06T21:49:59.410271Z",
          "shell.execute_reply": "2020-10-06T21:49:59.411560Z"
        },
        "papermill": {
          "duration": 1184.636954,
          "end_time": "2020-10-06T21:49:59.411827",
          "exception": false,
          "start_time": "2020-10-06T21:30:14.774873",
          "status": "completed"
        },
        "tags": [],
        "colab": {
          "base_uri": "https://localhost:8080/"
        },
        "outputId": "46cd1d45-387c-4c7e-a321-d157e3897ac3",
        "id": "Il0ewldG7CAO"
      },
      "source": [
        "from keras import regularizers\n",
        "model2 = Sequential()\n",
        "model2.add(layers.Embedding(max_words, 40, input_length=max_len))\n",
        "model2.add(layers.Conv1D(20, 6, activation='relu' ,kernel_regularizer=regularizers.l1_l2(l1=2e-3, l2=2e-3),bias_regularizer=regularizers.l2(2e-3)))\n",
        "model2.add(layers.MaxPooling1D(5))\n",
        "model2.add(layers.Conv1D(20, 6, activation='relu', kernel_regularizer=regularizers.l1_l2(l1=2e-3, l2=2e-3),bias_regularizer=regularizers.l2(2e-3)))\n",
        "model2.add(layers.GlobalMaxPooling1D())\n",
        "model2.add(layers.Dense(2,activation='relu'))\n",
        "model2.compile(optimizer='adam',loss='binary_crossentropy',metrics=['accuracy'])\n",
        "\n",
        "checkpoint2 = ModelCheckpoint(\"/content/drive/MyDrive/best_model2.hdf5\",\n",
        "                              monitor='val_accuracy', \n",
        "                              verbose=1,\n",
        "                              save_best_only=True,\n",
        "                              mode='auto', \n",
        "                              period=1,\n",
        "                              save_weights_only=False)\n",
        "history = model2.fit(X_train, \n",
        "                     y_train, \n",
        "                     epochs=70,\n",
        "                     validation_data=(X_test, y_test),\n",
        "                     callbacks=[checkpoint2])"
      ],
      "execution_count": 26,
      "outputs": [
        {
          "output_type": "stream",
          "name": "stdout",
          "text": [
            "WARNING:tensorflow:`period` argument is deprecated. Please use `save_freq` to specify the frequency in number of batches seen.\n",
            "Epoch 1/70\n",
            "11369/11370 [============================>.] - ETA: 0s - loss: 0.4457 - accuracy: 0.8416\n",
            "Epoch 00001: val_accuracy improved from -inf to 0.86742, saving model to /content/drive/MyDrive/best_model2.hdf5\n",
            "11370/11370 [==============================] - 105s 9ms/step - loss: 0.4457 - accuracy: 0.8416 - val_loss: 0.3567 - val_accuracy: 0.8674\n",
            "Epoch 2/70\n",
            "11368/11370 [============================>.] - ETA: 0s - loss: 0.4176 - accuracy: 0.8639\n",
            "Epoch 00002: val_accuracy did not improve from 0.86742\n",
            "11370/11370 [==============================] - 103s 9ms/step - loss: 0.4176 - accuracy: 0.8639 - val_loss: 0.5120 - val_accuracy: 0.8609\n",
            "Epoch 3/70\n",
            "11370/11370 [==============================] - ETA: 0s - loss: 0.4198 - accuracy: 0.8670\n",
            "Epoch 00003: val_accuracy did not improve from 0.86742\n",
            "11370/11370 [==============================] - 113s 10ms/step - loss: 0.4198 - accuracy: 0.8670 - val_loss: 0.4939 - val_accuracy: 0.8638\n",
            "Epoch 4/70\n",
            "11369/11370 [============================>.] - ETA: 0s - loss: 0.3905 - accuracy: 0.8708\n",
            "Epoch 00004: val_accuracy improved from 0.86742 to 0.86886, saving model to /content/drive/MyDrive/best_model2.hdf5\n",
            "11370/11370 [==============================] - 112s 10ms/step - loss: 0.3905 - accuracy: 0.8708 - val_loss: 0.4001 - val_accuracy: 0.8689\n",
            "Epoch 5/70\n",
            "11366/11370 [============================>.] - ETA: 0s - loss: 0.4919 - accuracy: 0.8656\n",
            "Epoch 00005: val_accuracy did not improve from 0.86886\n",
            "11370/11370 [==============================] - 114s 10ms/step - loss: 0.4919 - accuracy: 0.8656 - val_loss: 0.4469 - val_accuracy: 0.8685\n",
            "Epoch 6/70\n",
            "11369/11370 [============================>.] - ETA: 0s - loss: 0.4340 - accuracy: 0.8715\n",
            "Epoch 00006: val_accuracy did not improve from 0.86886\n",
            "11370/11370 [==============================] - 102s 9ms/step - loss: 0.4340 - accuracy: 0.8715 - val_loss: 0.4909 - val_accuracy: 0.8671\n",
            "Epoch 7/70\n",
            "11365/11370 [============================>.] - ETA: 0s - loss: 0.5103 - accuracy: 0.8667\n",
            "Epoch 00007: val_accuracy improved from 0.86886 to 0.87186, saving model to /content/drive/MyDrive/best_model2.hdf5\n",
            "11370/11370 [==============================] - 103s 9ms/step - loss: 0.5102 - accuracy: 0.8667 - val_loss: 0.3991 - val_accuracy: 0.8719\n",
            "Epoch 8/70\n",
            "11365/11370 [============================>.] - ETA: 0s - loss: 0.4658 - accuracy: 0.8707\n",
            "Epoch 00008: val_accuracy improved from 0.87186 to 0.87274, saving model to /content/drive/MyDrive/best_model2.hdf5\n",
            "11370/11370 [==============================] - 113s 10ms/step - loss: 0.4659 - accuracy: 0.8707 - val_loss: 0.3893 - val_accuracy: 0.8727\n",
            "Epoch 9/70\n",
            "11368/11370 [============================>.] - ETA: 0s - loss: 0.4574 - accuracy: 0.8727\n",
            "Epoch 00009: val_accuracy did not improve from 0.87274\n",
            "11370/11370 [==============================] - 102s 9ms/step - loss: 0.4574 - accuracy: 0.8728 - val_loss: 0.4727 - val_accuracy: 0.8696\n",
            "Epoch 10/70\n",
            "11367/11370 [============================>.] - ETA: 0s - loss: 0.3795 - accuracy: 0.8765\n",
            "Epoch 00010: val_accuracy did not improve from 0.87274\n",
            "11370/11370 [==============================] - 103s 9ms/step - loss: 0.3796 - accuracy: 0.8765 - val_loss: 0.5083 - val_accuracy: 0.8536\n",
            "Epoch 11/70\n",
            "11369/11370 [============================>.] - ETA: 0s - loss: 0.4557 - accuracy: 0.8732\n",
            "Epoch 00011: val_accuracy did not improve from 0.87274\n",
            "11370/11370 [==============================] - 113s 10ms/step - loss: 0.4557 - accuracy: 0.8732 - val_loss: 0.3918 - val_accuracy: 0.8670\n",
            "Epoch 12/70\n",
            "11368/11370 [============================>.] - ETA: 0s - loss: 0.4013 - accuracy: 0.8757\n",
            "Epoch 00012: val_accuracy did not improve from 0.87274\n",
            "11370/11370 [==============================] - 104s 9ms/step - loss: 0.4013 - accuracy: 0.8757 - val_loss: 0.4219 - val_accuracy: 0.8699\n",
            "Epoch 13/70\n",
            "11368/11370 [============================>.] - ETA: 0s - loss: 0.4117 - accuracy: 0.8767\n",
            "Epoch 00013: val_accuracy improved from 0.87274 to 0.87370, saving model to /content/drive/MyDrive/best_model2.hdf5\n",
            "11370/11370 [==============================] - 106s 9ms/step - loss: 0.4117 - accuracy: 0.8767 - val_loss: 0.4063 - val_accuracy: 0.8737\n",
            "Epoch 14/70\n",
            "11365/11370 [============================>.] - ETA: 0s - loss: 0.5013 - accuracy: 0.8713\n",
            "Epoch 00014: val_accuracy did not improve from 0.87370\n",
            "11370/11370 [==============================] - 116s 10ms/step - loss: 0.5012 - accuracy: 0.8713 - val_loss: 0.3802 - val_accuracy: 0.8727\n",
            "Epoch 15/70\n",
            "11370/11370 [==============================] - ETA: 0s - loss: 0.4053 - accuracy: 0.8759\n",
            "Epoch 00015: val_accuracy did not improve from 0.87370\n",
            "11370/11370 [==============================] - 117s 10ms/step - loss: 0.4053 - accuracy: 0.8759 - val_loss: 0.4427 - val_accuracy: 0.8723\n",
            "Epoch 16/70\n",
            "11369/11370 [============================>.] - ETA: 0s - loss: 0.3877 - accuracy: 0.8794\n",
            "Epoch 00016: val_accuracy did not improve from 0.87370\n",
            "11370/11370 [==============================] - 116s 10ms/step - loss: 0.3877 - accuracy: 0.8794 - val_loss: 0.3968 - val_accuracy: 0.8725\n",
            "Epoch 17/70\n",
            "11369/11370 [============================>.] - ETA: 0s - loss: 0.3415 - accuracy: 0.8824\n",
            "Epoch 00017: val_accuracy did not improve from 0.87370\n",
            "11370/11370 [==============================] - 106s 9ms/step - loss: 0.3415 - accuracy: 0.8824 - val_loss: 0.3719 - val_accuracy: 0.8704\n",
            "Epoch 18/70\n",
            "11366/11370 [============================>.] - ETA: 0s - loss: 0.4224 - accuracy: 0.8766\n",
            "Epoch 00018: val_accuracy did not improve from 0.87370\n",
            "11370/11370 [==============================] - 116s 10ms/step - loss: 0.4223 - accuracy: 0.8767 - val_loss: 0.4244 - val_accuracy: 0.8735\n",
            "Epoch 19/70\n",
            "11370/11370 [==============================] - ETA: 0s - loss: 0.4186 - accuracy: 0.8767\n",
            "Epoch 00019: val_accuracy did not improve from 0.87370\n",
            "11370/11370 [==============================] - 107s 9ms/step - loss: 0.4186 - accuracy: 0.8767 - val_loss: 0.4448 - val_accuracy: 0.8688\n",
            "Epoch 20/70\n",
            "11370/11370 [==============================] - ETA: 0s - loss: 0.4652 - accuracy: 0.8738\n",
            "Epoch 00020: val_accuracy did not improve from 0.87370\n",
            "11370/11370 [==============================] - 115s 10ms/step - loss: 0.4652 - accuracy: 0.8738 - val_loss: 0.4424 - val_accuracy: 0.8716\n",
            "Epoch 21/70\n",
            "11367/11370 [============================>.] - ETA: 0s - loss: 0.3674 - accuracy: 0.8803\n",
            "Epoch 00021: val_accuracy did not improve from 0.87370\n",
            "11370/11370 [==============================] - 116s 10ms/step - loss: 0.3674 - accuracy: 0.8803 - val_loss: 0.5023 - val_accuracy: 0.8588\n",
            "Epoch 22/70\n",
            "11368/11370 [============================>.] - ETA: 0s - loss: 0.3620 - accuracy: 0.8830\n",
            "Epoch 00022: val_accuracy did not improve from 0.87370\n",
            "11370/11370 [==============================] - 117s 10ms/step - loss: 0.3620 - accuracy: 0.8830 - val_loss: 0.3769 - val_accuracy: 0.8718\n",
            "Epoch 23/70\n",
            "11365/11370 [============================>.] - ETA: 0s - loss: 0.4222 - accuracy: 0.8787\n",
            "Epoch 00023: val_accuracy did not improve from 0.87370\n",
            "11370/11370 [==============================] - 117s 10ms/step - loss: 0.4223 - accuracy: 0.8787 - val_loss: 0.5289 - val_accuracy: 0.8531\n",
            "Epoch 24/70\n",
            "11366/11370 [============================>.] - ETA: 0s - loss: 0.4111 - accuracy: 0.8790\n",
            "Epoch 00024: val_accuracy did not improve from 0.87370\n",
            "11370/11370 [==============================] - 116s 10ms/step - loss: 0.4111 - accuracy: 0.8790 - val_loss: 0.5708 - val_accuracy: 0.8629\n",
            "Epoch 25/70\n",
            "11368/11370 [============================>.] - ETA: 0s - loss: 0.4165 - accuracy: 0.8800\n",
            "Epoch 00025: val_accuracy did not improve from 0.87370\n",
            "11370/11370 [==============================] - 116s 10ms/step - loss: 0.4164 - accuracy: 0.8800 - val_loss: 0.4029 - val_accuracy: 0.8725\n",
            "Epoch 26/70\n",
            "11366/11370 [============================>.] - ETA: 0s - loss: 0.3279 - accuracy: 0.8847\n",
            "Epoch 00026: val_accuracy did not improve from 0.87370\n",
            "11370/11370 [==============================] - 116s 10ms/step - loss: 0.3279 - accuracy: 0.8847 - val_loss: 0.3746 - val_accuracy: 0.8719\n",
            "Epoch 27/70\n",
            "11367/11370 [============================>.] - ETA: 0s - loss: 0.3612 - accuracy: 0.8815\n",
            "Epoch 00027: val_accuracy did not improve from 0.87370\n",
            "11370/11370 [==============================] - 116s 10ms/step - loss: 0.3612 - accuracy: 0.8815 - val_loss: 0.3907 - val_accuracy: 0.8719\n",
            "Epoch 28/70\n",
            "11369/11370 [============================>.] - ETA: 0s - loss: 0.3360 - accuracy: 0.8861\n",
            "Epoch 00028: val_accuracy did not improve from 0.87370\n",
            "11370/11370 [==============================] - 117s 10ms/step - loss: 0.3360 - accuracy: 0.8861 - val_loss: 0.4332 - val_accuracy: 0.8715\n",
            "Epoch 29/70\n",
            "11365/11370 [============================>.] - ETA: 0s - loss: 0.6528 - accuracy: 0.8711\n",
            "Epoch 00029: val_accuracy did not improve from 0.87370\n",
            "11370/11370 [==============================] - 106s 9ms/step - loss: 0.6528 - accuracy: 0.8711 - val_loss: 0.5494 - val_accuracy: 0.8725\n",
            "Epoch 30/70\n",
            "11369/11370 [============================>.] - ETA: 0s - loss: 0.6665 - accuracy: 0.8688\n",
            "Epoch 00030: val_accuracy did not improve from 0.87370\n",
            "11370/11370 [==============================] - 106s 9ms/step - loss: 0.6664 - accuracy: 0.8688 - val_loss: 0.3882 - val_accuracy: 0.8724\n",
            "Epoch 31/70\n",
            "11368/11370 [============================>.] - ETA: 0s - loss: 0.3800 - accuracy: 0.8812\n",
            "Epoch 00031: val_accuracy did not improve from 0.87370\n",
            "11370/11370 [==============================] - 107s 9ms/step - loss: 0.3800 - accuracy: 0.8812 - val_loss: 0.4297 - val_accuracy: 0.8704\n",
            "Epoch 32/70\n",
            "11366/11370 [============================>.] - ETA: 0s - loss: 0.3604 - accuracy: 0.8838\n",
            "Epoch 00032: val_accuracy did not improve from 0.87370\n",
            "11370/11370 [==============================] - 117s 10ms/step - loss: 0.3604 - accuracy: 0.8838 - val_loss: 0.4345 - val_accuracy: 0.8726\n",
            "Epoch 33/70\n",
            "11370/11370 [==============================] - ETA: 0s - loss: 0.3524 - accuracy: 0.8851\n",
            "Epoch 00033: val_accuracy did not improve from 0.87370\n",
            "11370/11370 [==============================] - 108s 9ms/step - loss: 0.3524 - accuracy: 0.8851 - val_loss: 0.4078 - val_accuracy: 0.8706\n",
            "Epoch 34/70\n",
            "11368/11370 [============================>.] - ETA: 0s - loss: 0.4065 - accuracy: 0.8806\n",
            "Epoch 00034: val_accuracy did not improve from 0.87370\n",
            "11370/11370 [==============================] - 117s 10ms/step - loss: 0.4065 - accuracy: 0.8806 - val_loss: 0.4478 - val_accuracy: 0.8692\n",
            "Epoch 35/70\n",
            "11370/11370 [==============================] - ETA: 0s - loss: 0.3878 - accuracy: 0.8815\n",
            "Epoch 00035: val_accuracy did not improve from 0.87370\n",
            "11370/11370 [==============================] - 117s 10ms/step - loss: 0.3878 - accuracy: 0.8815 - val_loss: 0.4065 - val_accuracy: 0.8726\n",
            "Epoch 36/70\n",
            "11368/11370 [============================>.] - ETA: 0s - loss: 0.3716 - accuracy: 0.8831\n",
            "Epoch 00036: val_accuracy did not improve from 0.87370\n",
            "11370/11370 [==============================] - 117s 10ms/step - loss: 0.3716 - accuracy: 0.8831 - val_loss: 0.5226 - val_accuracy: 0.8579\n",
            "Epoch 37/70\n",
            "11369/11370 [============================>.] - ETA: 0s - loss: 0.4287 - accuracy: 0.8794\n",
            "Epoch 00037: val_accuracy did not improve from 0.87370\n",
            "11370/11370 [==============================] - 116s 10ms/step - loss: 0.4287 - accuracy: 0.8794 - val_loss: 0.3967 - val_accuracy: 0.8711\n",
            "Epoch 38/70\n",
            "11369/11370 [============================>.] - ETA: 0s - loss: 0.3625 - accuracy: 0.8827\n",
            "Epoch 00038: val_accuracy did not improve from 0.87370\n",
            "11370/11370 [==============================] - 107s 9ms/step - loss: 0.3625 - accuracy: 0.8827 - val_loss: 0.4042 - val_accuracy: 0.8714\n",
            "Epoch 39/70\n",
            "11369/11370 [============================>.] - ETA: 0s - loss: 0.4615 - accuracy: 0.8772\n",
            "Epoch 00039: val_accuracy did not improve from 0.87370\n",
            "11370/11370 [==============================] - 107s 9ms/step - loss: 0.4616 - accuracy: 0.8772 - val_loss: 0.4561 - val_accuracy: 0.8721\n",
            "Epoch 40/70\n",
            "11367/11370 [============================>.] - ETA: 0s - loss: 0.3480 - accuracy: 0.8860\n",
            "Epoch 00040: val_accuracy did not improve from 0.87370\n",
            "11370/11370 [==============================] - 108s 9ms/step - loss: 0.3480 - accuracy: 0.8859 - val_loss: 0.3859 - val_accuracy: 0.8703\n",
            "Epoch 41/70\n",
            "11369/11370 [============================>.] - ETA: 0s - loss: 0.4012 - accuracy: 0.8823\n",
            "Epoch 00041: val_accuracy did not improve from 0.87370\n",
            "11370/11370 [==============================] - 108s 10ms/step - loss: 0.4012 - accuracy: 0.8822 - val_loss: 0.4245 - val_accuracy: 0.8714\n",
            "Epoch 42/70\n",
            "11365/11370 [============================>.] - ETA: 0s - loss: 0.4274 - accuracy: 0.8802\n",
            "Epoch 00042: val_accuracy did not improve from 0.87370\n",
            "11370/11370 [==============================] - 107s 9ms/step - loss: 0.4275 - accuracy: 0.8802 - val_loss: 0.5450 - val_accuracy: 0.8690\n",
            "Epoch 43/70\n",
            "11369/11370 [============================>.] - ETA: 0s - loss: 0.4912 - accuracy: 0.8763\n",
            "Epoch 00043: val_accuracy did not improve from 0.87370\n",
            "11370/11370 [==============================] - 117s 10ms/step - loss: 0.4912 - accuracy: 0.8763 - val_loss: 0.3989 - val_accuracy: 0.8629\n",
            "Epoch 44/70\n",
            "11365/11370 [============================>.] - ETA: 0s - loss: 0.4005 - accuracy: 0.8818\n",
            "Epoch 00044: val_accuracy did not improve from 0.87370\n",
            "11370/11370 [==============================] - 108s 9ms/step - loss: 0.4006 - accuracy: 0.8818 - val_loss: 0.4797 - val_accuracy: 0.8713\n",
            "Epoch 45/70\n",
            "11370/11370 [==============================] - ETA: 0s - loss: 0.4585 - accuracy: 0.8796\n",
            "Epoch 00045: val_accuracy did not improve from 0.87370\n",
            "11370/11370 [==============================] - 117s 10ms/step - loss: 0.4585 - accuracy: 0.8796 - val_loss: 0.4854 - val_accuracy: 0.8727\n",
            "Epoch 46/70\n",
            "11368/11370 [============================>.] - ETA: 0s - loss: 0.4042 - accuracy: 0.8831\n",
            "Epoch 00046: val_accuracy did not improve from 0.87370\n",
            "11370/11370 [==============================] - 117s 10ms/step - loss: 0.4042 - accuracy: 0.8831 - val_loss: 0.4421 - val_accuracy: 0.8689\n",
            "Epoch 47/70\n",
            "11369/11370 [============================>.] - ETA: 0s - loss: 0.3590 - accuracy: 0.8868\n",
            "Epoch 00047: val_accuracy did not improve from 0.87370\n",
            "11370/11370 [==============================] - 107s 9ms/step - loss: 0.3590 - accuracy: 0.8868 - val_loss: 0.4128 - val_accuracy: 0.8672\n",
            "Epoch 48/70\n",
            "11369/11370 [============================>.] - ETA: 0s - loss: 0.4031 - accuracy: 0.8836\n",
            "Epoch 00048: val_accuracy did not improve from 0.87370\n",
            "11370/11370 [==============================] - 118s 10ms/step - loss: 0.4031 - accuracy: 0.8836 - val_loss: 0.4104 - val_accuracy: 0.8718\n",
            "Epoch 49/70\n",
            "11369/11370 [============================>.] - ETA: 0s - loss: 0.3693 - accuracy: 0.8854\n",
            "Epoch 00049: val_accuracy did not improve from 0.87370\n",
            "11370/11370 [==============================] - 118s 10ms/step - loss: 0.3693 - accuracy: 0.8854 - val_loss: 0.4152 - val_accuracy: 0.8563\n",
            "Epoch 50/70\n",
            "11370/11370 [==============================] - ETA: 0s - loss: 0.4390 - accuracy: 0.8805\n",
            "Epoch 00050: val_accuracy did not improve from 0.87370\n",
            "11370/11370 [==============================] - 118s 10ms/step - loss: 0.4390 - accuracy: 0.8805 - val_loss: 0.4237 - val_accuracy: 0.8712\n",
            "Epoch 51/70\n",
            "11370/11370 [==============================] - ETA: 0s - loss: 0.3812 - accuracy: 0.8839\n",
            "Epoch 00051: val_accuracy did not improve from 0.87370\n",
            "11370/11370 [==============================] - 118s 10ms/step - loss: 0.3812 - accuracy: 0.8839 - val_loss: 0.4230 - val_accuracy: 0.8714\n",
            "Epoch 52/70\n",
            "11366/11370 [============================>.] - ETA: 0s - loss: 0.3650 - accuracy: 0.8848\n",
            "Epoch 00052: val_accuracy did not improve from 0.87370\n",
            "11370/11370 [==============================] - 119s 10ms/step - loss: 0.3649 - accuracy: 0.8848 - val_loss: 0.4079 - val_accuracy: 0.8706\n",
            "Epoch 53/70\n",
            "11365/11370 [============================>.] - ETA: 0s - loss: 0.3454 - accuracy: 0.8881\n",
            "Epoch 00053: val_accuracy did not improve from 0.87370\n",
            "11370/11370 [==============================] - 118s 10ms/step - loss: 0.3454 - accuracy: 0.8881 - val_loss: 0.5227 - val_accuracy: 0.8617\n",
            "Epoch 54/70\n",
            "11365/11370 [============================>.] - ETA: 0s - loss: 0.3650 - accuracy: 0.8850\n",
            "Epoch 00054: val_accuracy did not improve from 0.87370\n",
            "11370/11370 [==============================] - 119s 10ms/step - loss: 0.3650 - accuracy: 0.8850 - val_loss: 0.3893 - val_accuracy: 0.8707\n",
            "Epoch 55/70\n",
            "11367/11370 [============================>.] - ETA: 0s - loss: 0.3466 - accuracy: 0.8881\n",
            "Epoch 00055: val_accuracy did not improve from 0.87370\n",
            "11370/11370 [==============================] - 118s 10ms/step - loss: 0.3466 - accuracy: 0.8881 - val_loss: 0.4190 - val_accuracy: 0.8719\n",
            "Epoch 56/70\n",
            "11369/11370 [============================>.] - ETA: 0s - loss: 0.3534 - accuracy: 0.8880\n",
            "Epoch 00056: val_accuracy did not improve from 0.87370\n",
            "11370/11370 [==============================] - 118s 10ms/step - loss: 0.3534 - accuracy: 0.8880 - val_loss: 0.4349 - val_accuracy: 0.8647\n",
            "Epoch 57/70\n",
            "11369/11370 [============================>.] - ETA: 0s - loss: 0.4306 - accuracy: 0.8826\n",
            "Epoch 00057: val_accuracy did not improve from 0.87370\n",
            "11370/11370 [==============================] - 119s 10ms/step - loss: 0.4306 - accuracy: 0.8826 - val_loss: 0.6037 - val_accuracy: 0.8605\n",
            "Epoch 58/70\n",
            "11365/11370 [============================>.] - ETA: 0s - loss: 0.3976 - accuracy: 0.8866\n",
            "Epoch 00058: val_accuracy did not improve from 0.87370\n",
            "11370/11370 [==============================] - 119s 10ms/step - loss: 0.3976 - accuracy: 0.8866 - val_loss: 0.4291 - val_accuracy: 0.8672\n",
            "Epoch 59/70\n",
            "11367/11370 [============================>.] - ETA: 0s - loss: 0.3631 - accuracy: 0.8875\n",
            "Epoch 00059: val_accuracy did not improve from 0.87370\n",
            "11370/11370 [==============================] - 109s 10ms/step - loss: 0.3631 - accuracy: 0.8875 - val_loss: 0.4228 - val_accuracy: 0.8695\n",
            "Epoch 60/70\n",
            "11365/11370 [============================>.] - ETA: 0s - loss: 0.3695 - accuracy: 0.8868\n",
            "Epoch 00060: val_accuracy did not improve from 0.87370\n",
            "11370/11370 [==============================] - 109s 10ms/step - loss: 0.3695 - accuracy: 0.8868 - val_loss: 0.5155 - val_accuracy: 0.8675\n",
            "Epoch 61/70\n",
            "11365/11370 [============================>.] - ETA: 0s - loss: 0.3820 - accuracy: 0.8866\n",
            "Epoch 00061: val_accuracy did not improve from 0.87370\n",
            "11370/11370 [==============================] - 119s 10ms/step - loss: 0.3820 - accuracy: 0.8866 - val_loss: 0.4279 - val_accuracy: 0.8706\n",
            "Epoch 62/70\n",
            "11369/11370 [============================>.] - ETA: 0s - loss: 0.4077 - accuracy: 0.8851\n",
            "Epoch 00062: val_accuracy did not improve from 0.87370\n",
            "11370/11370 [==============================] - 110s 10ms/step - loss: 0.4077 - accuracy: 0.8851 - val_loss: 0.4611 - val_accuracy: 0.8715\n",
            "Epoch 63/70\n",
            "11368/11370 [============================>.] - ETA: 0s - loss: 0.3803 - accuracy: 0.8857\n",
            "Epoch 00063: val_accuracy did not improve from 0.87370\n",
            "11370/11370 [==============================] - 119s 10ms/step - loss: 0.3804 - accuracy: 0.8857 - val_loss: 0.4343 - val_accuracy: 0.8720\n",
            "Epoch 64/70\n",
            "11366/11370 [============================>.] - ETA: 0s - loss: 0.4440 - accuracy: 0.8816\n",
            "Epoch 00064: val_accuracy did not improve from 0.87370\n",
            "11370/11370 [==============================] - 110s 10ms/step - loss: 0.4440 - accuracy: 0.8816 - val_loss: 0.4670 - val_accuracy: 0.8721\n",
            "Epoch 65/70\n",
            "11367/11370 [============================>.] - ETA: 0s - loss: 0.3479 - accuracy: 0.8887\n",
            "Epoch 00065: val_accuracy did not improve from 0.87370\n",
            "11370/11370 [==============================] - 110s 10ms/step - loss: 0.3478 - accuracy: 0.8888 - val_loss: 0.3821 - val_accuracy: 0.8702\n",
            "Epoch 66/70\n",
            "11370/11370 [==============================] - ETA: 0s - loss: 0.3909 - accuracy: 0.8845\n",
            "Epoch 00066: val_accuracy did not improve from 0.87370\n",
            "11370/11370 [==============================] - 109s 10ms/step - loss: 0.3909 - accuracy: 0.8845 - val_loss: 0.4058 - val_accuracy: 0.8729\n",
            "Epoch 67/70\n",
            "11369/11370 [============================>.] - ETA: 0s - loss: 0.3781 - accuracy: 0.8861\n",
            "Epoch 00067: val_accuracy did not improve from 0.87370\n",
            "11370/11370 [==============================] - 119s 10ms/step - loss: 0.3781 - accuracy: 0.8861 - val_loss: 0.4458 - val_accuracy: 0.8712\n",
            "Epoch 68/70\n",
            "11368/11370 [============================>.] - ETA: 0s - loss: 0.3401 - accuracy: 0.8893\n",
            "Epoch 00068: val_accuracy did not improve from 0.87370\n",
            "11370/11370 [==============================] - 109s 10ms/step - loss: 0.3401 - accuracy: 0.8893 - val_loss: 0.3968 - val_accuracy: 0.8659\n",
            "Epoch 69/70\n",
            "11365/11370 [============================>.] - ETA: 0s - loss: 0.3566 - accuracy: 0.8877\n",
            "Epoch 00069: val_accuracy did not improve from 0.87370\n",
            "11370/11370 [==============================] - 109s 10ms/step - loss: 0.3567 - accuracy: 0.8877 - val_loss: 0.4127 - val_accuracy: 0.8705\n",
            "Epoch 70/70\n",
            "11365/11370 [============================>.] - ETA: 0s - loss: 0.3506 - accuracy: 0.8883\n",
            "Epoch 00070: val_accuracy did not improve from 0.87370\n",
            "11370/11370 [==============================] - 110s 10ms/step - loss: 0.3505 - accuracy: 0.8883 - val_loss: 0.3955 - val_accuracy: 0.8717\n"
          ]
        }
      ]
    },
    {
      "cell_type": "markdown",
      "metadata": {
        "papermill": {
          "duration": 13.897718,
          "end_time": "2020-10-06T21:57:43.244943",
          "exception": false,
          "start_time": "2020-10-06T21:57:29.347225",
          "status": "completed"
        },
        "tags": [],
        "id": "eBDqNNrG7CAP"
      },
      "source": [
        "### Ewaluacja modelu"
      ]
    },
    {
      "cell_type": "code",
      "metadata": {
        "execution": {
          "iopub.execute_input": "2020-10-06T21:58:11.467383Z",
          "iopub.status.busy": "2020-10-06T21:58:11.466210Z",
          "iopub.status.idle": "2020-10-06T21:58:12.123269Z",
          "shell.execute_reply": "2020-10-06T21:58:12.122665Z"
        },
        "papermill": {
          "duration": 14.579894,
          "end_time": "2020-10-06T21:58:12.123401",
          "exception": false,
          "start_time": "2020-10-06T21:57:57.543507",
          "status": "completed"
        },
        "tags": [],
        "id": "IJGe_aXT7CAQ"
      },
      "source": [
        "model2 = keras.models.load_model(\"/content/drive/MyDrive/best_model2.hdf5\")"
      ],
      "execution_count": 30,
      "outputs": []
    },
    {
      "cell_type": "code",
      "metadata": {
        "execution": {
          "iopub.execute_input": "2020-10-06T21:58:39.201557Z",
          "iopub.status.busy": "2020-10-06T21:58:39.200429Z",
          "iopub.status.idle": "2020-10-06T21:58:42.153698Z",
          "shell.execute_reply": "2020-10-06T21:58:42.152736Z"
        },
        "papermill": {
          "duration": 16.163436,
          "end_time": "2020-10-06T21:58:42.153869",
          "exception": false,
          "start_time": "2020-10-06T21:58:25.990433",
          "status": "completed"
        },
        "tags": [],
        "colab": {
          "base_uri": "https://localhost:8080/"
        },
        "outputId": "2befcfad-6145-450c-dc49-0c09a85c4087",
        "id": "vOCSIVyA7CAR"
      },
      "source": [
        "test_loss, test_acc = model2.evaluate(X_test, y_test, verbose=2)\n",
        "print('Model accuracy: ',test_acc)"
      ],
      "execution_count": 31,
      "outputs": [
        {
          "output_type": "stream",
          "name": "stdout",
          "text": [
            "3790/3790 - 13s - loss: 0.4063 - accuracy: 0.8737 - 13s/epoch - 3ms/step\n",
            "Model accuracy:  0.8736971616744995\n"
          ]
        }
      ]
    },
    {
      "cell_type": "code",
      "metadata": {
        "execution": {
          "iopub.execute_input": "2020-10-06T21:59:08.598704Z",
          "iopub.status.busy": "2020-10-06T21:59:08.597660Z",
          "iopub.status.idle": "2020-10-06T21:59:11.143379Z",
          "shell.execute_reply": "2020-10-06T21:59:11.144225Z"
        },
        "papermill": {
          "duration": 15.873978,
          "end_time": "2020-10-06T21:59:11.144400",
          "exception": false,
          "start_time": "2020-10-06T21:58:55.270422",
          "status": "completed"
        },
        "tags": [],
        "id": "VWIj1nv67CAR"
      },
      "source": [
        "predictions2 = model2.predict(X_test)"
      ],
      "execution_count": 32,
      "outputs": []
    },
    {
      "cell_type": "markdown",
      "metadata": {
        "papermill": {
          "duration": 13.54467,
          "end_time": "2020-10-06T21:59:38.859073",
          "exception": false,
          "start_time": "2020-10-06T21:59:25.314403",
          "status": "completed"
        },
        "tags": [],
        "id": "xEbhAEYo7CAR"
      },
      "source": [
        "### Confusion matrix"
      ]
    },
    {
      "cell_type": "code",
      "metadata": {
        "execution": {
          "iopub.execute_input": "2020-10-06T22:00:05.244627Z",
          "iopub.status.busy": "2020-10-06T22:00:05.243340Z",
          "iopub.status.idle": "2020-10-06T22:00:05.261173Z",
          "shell.execute_reply": "2020-10-06T22:00:05.260523Z"
        },
        "papermill": {
          "duration": 13.356845,
          "end_time": "2020-10-06T22:00:05.261290",
          "exception": false,
          "start_time": "2020-10-06T21:59:51.904445",
          "status": "completed"
        },
        "tags": [],
        "id": "6vXXu0dN7CAS"
      },
      "source": [
        "# from sklearn.metrics import confusion_matrix\n",
        "matrix = confusion_matrix(y_test.argmax(axis=1), np.around(predictions2, decimals=0).argmax(axis=1))"
      ],
      "execution_count": 33,
      "outputs": []
    },
    {
      "cell_type": "code",
      "metadata": {
        "execution": {
          "iopub.execute_input": "2020-10-06T22:00:32.586908Z",
          "iopub.status.busy": "2020-10-06T22:00:32.586210Z",
          "iopub.status.idle": "2020-10-06T22:00:33.285612Z",
          "shell.execute_reply": "2020-10-06T22:00:33.285009Z"
        },
        "papermill": {
          "duration": 14.015558,
          "end_time": "2020-10-06T22:00:33.285736",
          "exception": false,
          "start_time": "2020-10-06T22:00:19.270178",
          "status": "completed"
        },
        "tags": [],
        "colab": {
          "base_uri": "https://localhost:8080/",
          "height": 880
        },
        "outputId": "9c48e5a2-a409-425c-ebb3-7d42272fedc4",
        "id": "ZYZe1cfo7CAS"
      },
      "source": [
        "# import seaborn as sns\n",
        "conf_matrix = pd.DataFrame(matrix, index = ['Negative','Positive'],columns = ['Negative','Positive'])\n",
        "conf_matrix = conf_matrix.astype('float') / conf_matrix.sum(axis=1)[:, np.newaxis]\n",
        "plt.figure(figsize = (15,15))\n",
        "sns.heatmap(conf_matrix, annot=True, annot_kws={\"size\": 15})"
      ],
      "execution_count": 34,
      "outputs": [
        {
          "output_type": "execute_result",
          "data": {
            "text/plain": [
              "<matplotlib.axes._subplots.AxesSubplot at 0x7fd6d92fd910>"
            ]
          },
          "metadata": {},
          "execution_count": 34
        },
        {
          "output_type": "display_data",
          "data": {
            "image/png": "[encoded data removed]",
            "text/plain": [
              "<Figure size 1080x1080 with 2 Axes>"
            ]
          },
          "metadata": {
            "needs_background": "light"
          }
        }
      ]
    },
    {
      "cell_type": "code",
      "metadata": {
        "execution": {
          "iopub.execute_input": "2020-10-06T22:01:26.949303Z",
          "iopub.status.busy": "2020-10-06T22:01:26.947906Z",
          "iopub.status.idle": "2020-10-06T22:01:26.951809Z",
          "shell.execute_reply": "2020-10-06T22:01:26.951229Z"
        },
        "papermill": {
          "duration": 14.303017,
          "end_time": "2020-10-06T22:01:26.951936",
          "exception": false,
          "start_time": "2020-10-06T22:01:12.648919",
          "status": "completed"
        },
        "tags": [],
        "id": "ZOv0J2067CAT"
      },
      "source": [
        "sentiment = ['Negative','Positive']"
      ],
      "execution_count": 35,
      "outputs": []
    },
    {
      "cell_type": "code",
      "metadata": {
        "execution": {
          "iopub.execute_input": "2020-10-06T22:01:53.611240Z",
          "iopub.status.busy": "2020-10-06T22:01:53.610198Z",
          "iopub.status.idle": "2020-10-06T22:01:53.680730Z",
          "shell.execute_reply": "2020-10-06T22:01:53.679943Z"
        },
        "papermill": {
          "duration": 13.274625,
          "end_time": "2020-10-06T22:01:53.680880",
          "exception": false,
          "start_time": "2020-10-06T22:01:40.406255",
          "status": "completed"
        },
        "tags": [],
        "colab": {
          "base_uri": "https://localhost:8080/",
          "height": 35
        },
        "outputId": "3748287c-a48c-402f-a14a-d58aa4f190cf",
        "id": "OZTc0h767CAT"
      },
      "source": [
        "sequence = tokenizer.texts_to_sequences(['Szczepienia są niezbędne aby zakończyć pandemię'])\n",
        "test = pad_sequences(sequence, maxlen=max_len)\n",
        "sentiment[np.around(model2.predict(test), decimals=0).argmax(axis=1)[0]]"
      ],
      "execution_count": 36,
      "outputs": [
        {
          "output_type": "execute_result",
          "data": {
            "application/vnd.google.colaboratory.intrinsic+json": {
              "type": "string"
            },
            "text/plain": [
              "'Negative'"
            ]
          },
          "metadata": {},
          "execution_count": 36
        }
      ]
    },
    {
      "cell_type": "code",
      "metadata": {
        "execution": {
          "iopub.execute_input": "2020-10-06T22:02:21.215521Z",
          "iopub.status.busy": "2020-10-06T22:02:21.214548Z",
          "iopub.status.idle": "2020-10-06T22:02:21.272639Z",
          "shell.execute_reply": "2020-10-06T22:02:21.271230Z"
        },
        "papermill": {
          "duration": 14.445195,
          "end_time": "2020-10-06T22:02:21.272790",
          "exception": false,
          "start_time": "2020-10-06T22:02:06.827595",
          "status": "completed"
        },
        "tags": [],
        "colab": {
          "base_uri": "https://localhost:8080/",
          "height": 35
        },
        "outputId": "ff5f76bc-8ac4-4fc4-90fa-6528cb653cfc",
        "id": "ctfHWgPj7CAT"
      },
      "source": [
        "sequence = tokenizer.texts_to_sequences(['Mój współpracownik zaraził mnie covidem'])\n",
        "test = pad_sequences(sequence, maxlen=max_len)\n",
        "sentiment[np.around(model2.predict(test), decimals=0).argmax(axis=1)[0]]"
      ],
      "execution_count": 37,
      "outputs": [
        {
          "output_type": "execute_result",
          "data": {
            "application/vnd.google.colaboratory.intrinsic+json": {
              "type": "string"
            },
            "text/plain": [
              "'Negative'"
            ]
          },
          "metadata": {},
          "execution_count": 37
        }
      ]
    },
    {
      "cell_type": "code",
      "metadata": {
        "execution": {
          "iopub.execute_input": "2020-10-06T22:02:48.026609Z",
          "iopub.status.busy": "2020-10-06T22:02:48.025563Z",
          "iopub.status.idle": "2020-10-06T22:02:48.086453Z",
          "shell.execute_reply": "2020-10-06T22:02:48.085808Z"
        },
        "papermill": {
          "duration": 13.396502,
          "end_time": "2020-10-06T22:02:48.086621",
          "exception": false,
          "start_time": "2020-10-06T22:02:34.690119",
          "status": "completed"
        },
        "tags": [],
        "colab": {
          "base_uri": "https://localhost:8080/",
          "height": 35
        },
        "outputId": "bc153028-6b43-4016-8c7e-8da647822540",
        "id": "gWkrPnah7CAU"
      },
      "source": [
        "sequence = tokenizer.texts_to_sequences(['Cieszę się, że coraz mniej obawiamy się koronawirusa i epidemii. COVID-19 jest w odwrocie, już nie musimy się go bać. Trzeba pójść na wybory.'])\n",
        "test = pad_sequences(sequence, maxlen=max_len)\n",
        "sentiment[np.around(model2.predict(test), decimals=0).argmax(axis=1)[0]]"
      ],
      "execution_count": 39,
      "outputs": [
        {
          "output_type": "execute_result",
          "data": {
            "application/vnd.google.colaboratory.intrinsic+json": {
              "type": "string"
            },
            "text/plain": [
              "'Negative'"
            ]
          },
          "metadata": {},
          "execution_count": 39
        }
      ]
    }
  ]
}