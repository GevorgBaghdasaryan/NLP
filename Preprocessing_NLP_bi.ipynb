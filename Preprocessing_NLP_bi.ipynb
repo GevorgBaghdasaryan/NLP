{
  "cells": [
    {
      "cell_type": "markdown",
      "metadata": {
        "id": "jV6jkzC4-0Lz"
      },
      "source": [
        "## **Downloading the data using Twitter API**"
      ]
    },
    {
      "cell_type": "code",
      "execution_count": 1,
      "metadata": {
        "colab": {
          "base_uri": "https://localhost:8080/"
        },
        "id": "WnJh46e1Ma6O",
        "outputId": "b46928c0-d659-4d77-ee1f-3b0a7c93648d"
      },
      "outputs": [
        {
          "output_type": "stream",
          "name": "stdout",
          "text": [
            "\u001b[?25l\r\u001b[K     |██████                          | 10 kB 24.9 MB/s eta 0:00:01\r\u001b[K     |████████████                    | 20 kB 12.3 MB/s eta 0:00:01\r\u001b[K     |██████████████████              | 30 kB 9.6 MB/s eta 0:00:01\r\u001b[K     |████████████████████████        | 40 kB 8.8 MB/s eta 0:00:01\r\u001b[K     |██████████████████████████████  | 51 kB 5.0 MB/s eta 0:00:01\r\u001b[K     |████████████████████████████████| 54 kB 1.8 MB/s \n",
            "\u001b[?25h\u001b[?25l\r\u001b[K     |███▎                            | 10 kB 22.8 MB/s eta 0:00:01\r\u001b[K     |██████▋                         | 20 kB 32.5 MB/s eta 0:00:01\r\u001b[K     |██████████                      | 30 kB 42.1 MB/s eta 0:00:01\r\u001b[K     |█████████████▎                  | 40 kB 28.6 MB/s eta 0:00:01\r\u001b[K     |████████████████▋               | 51 kB 32.4 MB/s eta 0:00:01\r\u001b[K     |████████████████████            | 61 kB 27.5 MB/s eta 0:00:01\r\u001b[K     |███████████████████████▎        | 71 kB 29.6 MB/s eta 0:00:01\r\u001b[K     |██████████████████████████▋     | 81 kB 32.0 MB/s eta 0:00:01\r\u001b[K     |██████████████████████████████  | 92 kB 28.8 MB/s eta 0:00:01\r\u001b[K     |████████████████████████████████| 98 kB 6.5 MB/s \n",
            "\u001b[?25h  Building wheel for configobj (setup.py) ... \u001b[?25l\u001b[?25hdone\n",
            "  Building wheel for wget (setup.py) ... \u001b[?25l\u001b[?25hdone\n"
          ]
        }
      ],
      "source": [
        "!pip install twarc -q     #Twarc\n",
        "!pip install tweepy -q    #Tweepy 3.8.0\n",
        "!pip install argparse -q    #Argparse 3.2\n",
        "!pip install xtract -q    #Xtract 0.1 a3\n",
        "!pip install wget -q    #Wget 3.2\n",
        "!pip install -U -q PyDrive"
      ]
    },
    {
      "cell_type": "code",
      "execution_count": 2,
      "metadata": {
        "colab": {
          "base_uri": "https://localhost:8080/"
        },
        "id": "p38ZzNt2EOQZ",
        "outputId": "49df6552-eee7-47c5-8dba-9615ea92df1d"
      },
      "outputs": [
        {
          "output_type": "stream",
          "name": "stdout",
          "text": [
            "\u001b[K     |████████████████████████████████| 9.9 MB 5.4 MB/s \n",
            "\u001b[K     |████████████████████████████████| 2.1 MB 48.2 MB/s \n",
            "\u001b[?25h"
          ]
        }
      ],
      "source": [
        "!python -m pip install spacy==2.3.2 -q"
      ]
    },
    {
      "cell_type": "code",
      "execution_count": 3,
      "metadata": {
        "id": "jLqg-H_rEOoP",
        "colab": {
          "base_uri": "https://localhost:8080/"
        },
        "outputId": "ab77f07f-8dfa-4e2d-8bd8-417858b7bfcd"
      },
      "outputs": [
        {
          "output_type": "stream",
          "name": "stdout",
          "text": [
            "\u001b[K     |████████████████████████████████| 79.9 MB 1.7 MB/s \n",
            "\u001b[?25h  Building wheel for pl-core-news-md (setup.py) ... \u001b[?25l\u001b[?25hdone\n",
            "\u001b[38;5;2m✔ Download and installation successful\u001b[0m\n",
            "You can now load the model via spacy.load('pl_core_news_md')\n"
          ]
        }
      ],
      "source": [
        "# always restart session after spacy installation\n",
        "!python -m spacy download pl_core_news_md  -q"
      ]
    },
    {
      "cell_type": "code",
      "execution_count": 1,
      "metadata": {
        "id": "N5pA6Y_Dhn5N"
      },
      "outputs": [],
      "source": [
        "## install and download \n",
        "from IPython.display import clear_output\n",
        "import pandas as pd\n",
        "from pydrive.auth import GoogleAuth\n",
        "from pydrive.drive import GoogleDrive\n",
        "from google.colab import auth\n",
        "from oauth2client.client import GoogleCredentials\n",
        "import re\n",
        "import numpy as np\n",
        "import string\n",
        "import time\n",
        "\n",
        "# wizualizacja\n",
        "import seaborn as sns\n",
        "from wordcloud import WordCloud\n",
        "import matplotlib.pyplot as plt\n",
        "# nltk - do preprocessingu\n",
        "import nltk\n",
        "from nltk.stem import WordNetLemmatizer\n",
        "import spacy\n",
        "# sklearn - modele do ML\n",
        "from sklearn.svm import LinearSVC\n",
        "from sklearn.naive_bayes import BernoulliNB\n",
        "from sklearn.linear_model import LogisticRegression\n",
        "from sklearn.model_selection import train_test_split\n",
        "from sklearn.feature_extraction.text import TfidfVectorizer\n",
        "from sklearn.metrics import confusion_matrix, classification_report"
      ]
    },
    {
      "cell_type": "markdown",
      "metadata": {
        "id": "v1iAbQCdv_N6"
      },
      "source": [
        "### Download dataset containing tweets id's\n",
        "\n",
        "Source: https://zenodo.org/record/5090588#.Ybe_7b3MJPb\n"
      ]
    },
    {
      "cell_type": "code",
      "execution_count": 2,
      "metadata": {
        "colab": {
          "base_uri": "https://localhost:8080/"
        },
        "id": "xndRQFZxubqy",
        "outputId": "c693d394-975d-4169-ce53-9201519d00df"
      },
      "outputs": [
        {
          "output_type": "stream",
          "name": "stdout",
          "text": [
            "Mounted at /content/drive/\n"
          ]
        }
      ],
      "source": [
        "#Authenticate\n",
        "from google.colab import drive\n",
        "drive.mount('/content/drive/')"
      ]
    },
    {
      "cell_type": "code",
      "execution_count": 3,
      "metadata": {
        "colab": {
          "base_uri": "https://localhost:8080/"
        },
        "id": "JDYcZo-ZuqXn",
        "outputId": "2e49f50d-c86c-4ac1-df92-c4f279481620"
      },
      "outputs": [
        {
          "output_type": "stream",
          "name": "stdout",
          "text": [
            "                   tweet_id        date      time lang country_place\n",
            "0       1219370546116407297  2020-01-20  21:26:07   pl           NaN\n",
            "1       1220355028961103872  2020-01-23  14:38:06   pl           NaN\n",
            "2       1221099475982323712  2020-01-25  15:56:16   pl           NaN\n",
            "3       1221232003393167360  2020-01-26  00:42:53   pl           NaN\n",
            "4       1221344960194195457  2020-01-26  08:11:44   pl           NaN\n",
            "...                     ...         ...       ...  ...           ...\n",
            "583800  1414043803485409285  2021-07-11  02:08:09   pl           NaN\n",
            "583801  1414043861954015232  2021-07-11  02:08:23   pl           NaN\n",
            "583802  1414049377589645315  2021-07-11  02:30:18   pl           NaN\n",
            "583803  1414064422453137411  2021-07-11  03:30:05   pl           NaN\n",
            "583804  1414064490786734081  2021-07-11  03:30:21   pl           NaN\n",
            "\n",
            "[583805 rows x 5 columns]\n"
          ]
        }
      ],
      "source": [
        "path = '/content/drive/MyDrive/pl_covid_tweets_clean.txt'   \n",
        "df = pd.read_csv(path, delimiter = \"\\t\")\n",
        "print(df)"
      ]
    },
    {
      "cell_type": "markdown",
      "metadata": {
        "id": "Gjbw5dB75vrd"
      },
      "source": [
        "### Introducing Twitter credentials to authenticate\n"
      ]
    },
    {
      "cell_type": "code",
      "execution_count": 171,
      "metadata": {
        "id": "VXYOhRk_1E_f"
      },
      "outputs": [],
      "source": [
        "%run ./drive/MyDrive/my_keys.ipynb"
      ]
    },
    {
      "cell_type": "code",
      "execution_count": null,
      "metadata": {
        "id": "qaKDQJlX1LVD"
      },
      "outputs": [],
      "source": [
        "import tweepy\n",
        "auth = tweepy.OAuthHandler(consumer_key, consumer_secret)\n",
        "auth.set_access_token(access_token, access_token_secret)\n",
        "api = tweepy.API(auth, wait_on_rate_limit=True)"
      ]
    },
    {
      "cell_type": "markdown",
      "metadata": {
        "id": "EEP5CDpjuQLe"
      },
      "source": [
        "### Scrapping the Tweets from input dataframe and saving as txt file in Drive\n",
        "This step need to be run only once"
      ]
    },
    {
      "cell_type": "code",
      "execution_count": null,
      "metadata": {
        "id": "vc0iwkKt4sBS"
      },
      "outputs": [],
      "source": [
        "#tweets = api.statuses_lookup(list(df['tweet_id'][:100]))\n",
        "tweet_txt = []\n",
        "sec = 0 \n",
        "a = 0\n",
        "b = 100\n",
        "while sec < round(len(df)/100):\n",
        "  try:\n",
        "    tweets = api.statuses_lookup(list(df['tweet_id'][a:b]))\n",
        "    for i in tweets:\n",
        "      tweet_txt.append(i.text)\n",
        "   \n",
        "    if (sec % 100) == 0:\n",
        "      with open('/content/drive/MyDrive/tweets.txt', 'w') as f:\n",
        "        for item in tweet_txt:\n",
        "        #line1 = item.split(\",\");\n",
        "          item = item.replace('\\n', ' ')\n",
        "        #f.write(item + '\\n')\n",
        "          f.write(\"%s\\n\" % item)\n",
        "      print(\"sequence number:\", sec)\n",
        "    sec+=1\n",
        "    a = 100 * sec\n",
        "    b = 100 + 100 * sec\n",
        "\n",
        "  except BaseException as e:\n",
        "          print('failed on_status,',str(e)) # print the error code obtained from twitter\n",
        "          time.sleep(5) # provide a time before resuming the code when an error arises"
      ]
    },
    {
      "cell_type": "markdown",
      "metadata": {
        "id": "pBCN3EddvFyy"
      },
      "source": [
        "### Loading the data"
      ]
    },
    {
      "cell_type": "code",
      "execution_count": 4,
      "metadata": {
        "colab": {
          "base_uri": "https://localhost:8080/",
          "height": 478
        },
        "id": "gyUYurEywkt8",
        "outputId": "d81cd332-a33a-4fab-c58e-ba22e13b7feb"
      },
      "outputs": [
        {
          "output_type": "stream",
          "name": "stderr",
          "text": [
            "/usr/local/lib/python3.7/dist-packages/ipykernel_launcher.py:3: ParserWarning: Falling back to the 'python' engine because the 'c' engine does not support regex separators (separators > 1 char and different from '\\s+' are interpreted as regex); you can avoid this warning by specifying engine='python'.\n",
            "  This is separate from the ipykernel package so we can avoid doing imports until\n"
          ]
        },
        {
          "output_type": "execute_result",
          "data": {
            "text/html": [
              "\n",
              "  <div id=\"df-06bb82db-2869-4ef0-a315-4b02e699fc50\">\n",
              "    <div class=\"colab-df-container\">\n",
              "      <div>\n",
              "<style scoped>\n",
              "    .dataframe tbody tr th:only-of-type {\n",
              "        vertical-align: middle;\n",
              "    }\n",
              "\n",
              "    .dataframe tbody tr th {\n",
              "        vertical-align: top;\n",
              "    }\n",
              "\n",
              "    .dataframe thead th {\n",
              "        text-align: right;\n",
              "    }\n",
              "</style>\n",
              "<table border=\"1\" class=\"dataframe\">\n",
              "  <thead>\n",
              "    <tr style=\"text-align: right;\">\n",
              "      <th></th>\n",
              "      <th>text</th>\n",
              "    </tr>\n",
              "  </thead>\n",
              "  <tbody>\n",
              "    <tr>\n",
              "      <th>0</th>\n",
              "      <td>Kiedy #coronavirus dotrze do Polski, napotka o...</td>\n",
              "    </tr>\n",
              "    <tr>\n",
              "      <th>1</th>\n",
              "      <td>Kolejni Polacy chcą wrócić z Wuhan https://t.c...</td>\n",
              "    </tr>\n",
              "    <tr>\n",
              "      <th>2</th>\n",
              "      <td>A tymczasem w Wuhan odcięto od reszty świata o...</td>\n",
              "    </tr>\n",
              "    <tr>\n",
              "      <th>3</th>\n",
              "      <td>@PatrykWachowiec @KancelariaSejmu nie zdziwię ...</td>\n",
              "    </tr>\n",
              "    <tr>\n",
              "      <th>4</th>\n",
              "      <td>.@MSZ_RP: 19 Polaków chce wrócić z Wuhan, w am...</td>\n",
              "    </tr>\n",
              "    <tr>\n",
              "      <th>...</th>\n",
              "      <td>...</td>\n",
              "    </tr>\n",
              "    <tr>\n",
              "      <th>485082</th>\n",
              "      <td>Adi w natarciu 😁 https://t.co/CXdSR1AST2</td>\n",
              "    </tr>\n",
              "    <tr>\n",
              "      <th>485083</th>\n",
              "      <td>Kwarantanna osób zaszczepionych nie jest potrz...</td>\n",
              "    </tr>\n",
              "    <tr>\n",
              "      <th>485084</th>\n",
              "      <td>pkp 4.0 ready sik? https://t.co/fHzdNsd3AL</td>\n",
              "    </tr>\n",
              "    <tr>\n",
              "      <th>485085</th>\n",
              "      <td>@rafalhubert Alfabet, jak będzie trzeba, to si...</td>\n",
              "    </tr>\n",
              "    <tr>\n",
              "      <th>485086</th>\n",
              "      <td>Pkp oh pkp.. https://t.co/UI5sxQ5SlJ</td>\n",
              "    </tr>\n",
              "  </tbody>\n",
              "</table>\n",
              "<p>485087 rows × 1 columns</p>\n",
              "</div>\n",
              "      <button class=\"colab-df-convert\" onclick=\"convertToInteractive('df-06bb82db-2869-4ef0-a315-4b02e699fc50')\"\n",
              "              title=\"Convert this dataframe to an interactive table.\"\n",
              "              style=\"display:none;\">\n",
              "        \n",
              "  <svg xmlns=\"http://www.w3.org/2000/svg\" height=\"24px\"viewBox=\"0 0 24 24\"\n",
              "       width=\"24px\">\n",
              "    <path d=\"M0 0h24v24H0V0z\" fill=\"none\"/>\n",
              "    <path d=\"M18.56 5.44l.94 2.06.94-2.06 2.06-.94-2.06-.94-.94-2.06-.94 2.06-2.06.94zm-11 1L8.5 8.5l.94-2.06 2.06-.94-2.06-.94L8.5 2.5l-.94 2.06-2.06.94zm10 10l.94 2.06.94-2.06 2.06-.94-2.06-.94-.94-2.06-.94 2.06-2.06.94z\"/><path d=\"M17.41 7.96l-1.37-1.37c-.4-.4-.92-.59-1.43-.59-.52 0-1.04.2-1.43.59L10.3 9.45l-7.72 7.72c-.78.78-.78 2.05 0 2.83L4 21.41c.39.39.9.59 1.41.59.51 0 1.02-.2 1.41-.59l7.78-7.78 2.81-2.81c.8-.78.8-2.07 0-2.86zM5.41 20L4 18.59l7.72-7.72 1.47 1.35L5.41 20z\"/>\n",
              "  </svg>\n",
              "      </button>\n",
              "      \n",
              "  <style>\n",
              "    .colab-df-container {\n",
              "      display:flex;\n",
              "      flex-wrap:wrap;\n",
              "      gap: 12px;\n",
              "    }\n",
              "\n",
              "    .colab-df-convert {\n",
              "      background-color: #E8F0FE;\n",
              "      border: none;\n",
              "      border-radius: 50%;\n",
              "      cursor: pointer;\n",
              "      display: none;\n",
              "      fill: #1967D2;\n",
              "      height: 32px;\n",
              "      padding: 0 0 0 0;\n",
              "      width: 32px;\n",
              "    }\n",
              "\n",
              "    .colab-df-convert:hover {\n",
              "      background-color: #E2EBFA;\n",
              "      box-shadow: 0px 1px 2px rgba(60, 64, 67, 0.3), 0px 1px 3px 1px rgba(60, 64, 67, 0.15);\n",
              "      fill: #174EA6;\n",
              "    }\n",
              "\n",
              "    [theme=dark] .colab-df-convert {\n",
              "      background-color: #3B4455;\n",
              "      fill: #D2E3FC;\n",
              "    }\n",
              "\n",
              "    [theme=dark] .colab-df-convert:hover {\n",
              "      background-color: #434B5C;\n",
              "      box-shadow: 0px 1px 3px 1px rgba(0, 0, 0, 0.15);\n",
              "      filter: drop-shadow(0px 1px 2px rgba(0, 0, 0, 0.3));\n",
              "      fill: #FFFFFF;\n",
              "    }\n",
              "  </style>\n",
              "\n",
              "      <script>\n",
              "        const buttonEl =\n",
              "          document.querySelector('#df-06bb82db-2869-4ef0-a315-4b02e699fc50 button.colab-df-convert');\n",
              "        buttonEl.style.display =\n",
              "          google.colab.kernel.accessAllowed ? 'block' : 'none';\n",
              "\n",
              "        async function convertToInteractive(key) {\n",
              "          const element = document.querySelector('#df-06bb82db-2869-4ef0-a315-4b02e699fc50');\n",
              "          const dataTable =\n",
              "            await google.colab.kernel.invokeFunction('convertToInteractive',\n",
              "                                                     [key], {});\n",
              "          if (!dataTable) return;\n",
              "\n",
              "          const docLinkHtml = 'Like what you see? Visit the ' +\n",
              "            '<a target=\"_blank\" href=https://colab.research.google.com/notebooks/data_table.ipynb>data table notebook</a>'\n",
              "            + ' to learn more about interactive tables.';\n",
              "          element.innerHTML = '';\n",
              "          dataTable['output_type'] = 'display_data';\n",
              "          await google.colab.output.renderOutput(dataTable, element);\n",
              "          const docLink = document.createElement('div');\n",
              "          docLink.innerHTML = docLinkHtml;\n",
              "          element.appendChild(docLink);\n",
              "        }\n",
              "      </script>\n",
              "    </div>\n",
              "  </div>\n",
              "  "
            ],
            "text/plain": [
              "                                                     text\n",
              "0       Kiedy #coronavirus dotrze do Polski, napotka o...\n",
              "1       Kolejni Polacy chcą wrócić z Wuhan https://t.c...\n",
              "2       A tymczasem w Wuhan odcięto od reszty świata o...\n",
              "3       @PatrykWachowiec @KancelariaSejmu nie zdziwię ...\n",
              "4       .@MSZ_RP: 19 Polaków chce wrócić z Wuhan, w am...\n",
              "...                                                   ...\n",
              "485082           Adi w natarciu 😁 https://t.co/CXdSR1AST2\n",
              "485083  Kwarantanna osób zaszczepionych nie jest potrz...\n",
              "485084         pkp 4.0 ready sik? https://t.co/fHzdNsd3AL\n",
              "485085  @rafalhubert Alfabet, jak będzie trzeba, to si...\n",
              "485086               Pkp oh pkp.. https://t.co/UI5sxQ5SlJ\n",
              "\n",
              "[485087 rows x 1 columns]"
            ]
          },
          "metadata": {},
          "execution_count": 4
        }
      ],
      "source": [
        "# Wczytywanie danych\n",
        "PATH = '/content/drive/MyDrive/' \n",
        "tweets_txt = pd.read_csv(f'{PATH}tweets.txt', sep='delimiter', header = None)\n",
        "tweets_txt.columns =['text']\n",
        "tweets_txt['text'] = tweets_txt['text'].astype(str)\n",
        "\n",
        "tweets_txt"
      ]
    },
    {
      "cell_type": "markdown",
      "metadata": {
        "id": "n23GI7XM-svc"
      },
      "source": [
        "## **Data cleaning**"
      ]
    },
    {
      "cell_type": "markdown",
      "metadata": {
        "id": "7FGzSYM1ulUU"
      },
      "source": [
        "#### Drop duplicate values\n"
      ]
    },
    {
      "cell_type": "code",
      "execution_count": 5,
      "metadata": {
        "colab": {
          "base_uri": "https://localhost:8080/",
          "height": 424
        },
        "id": "X6OFHGfayAj1",
        "outputId": "46c3856f-1d29-489b-cd66-f0d84676b8e5"
      },
      "outputs": [
        {
          "output_type": "execute_result",
          "data": {
            "text/html": [
              "\n",
              "  <div id=\"df-1e96195e-1391-4d7c-bb8d-51b9d58721c5\">\n",
              "    <div class=\"colab-df-container\">\n",
              "      <div>\n",
              "<style scoped>\n",
              "    .dataframe tbody tr th:only-of-type {\n",
              "        vertical-align: middle;\n",
              "    }\n",
              "\n",
              "    .dataframe tbody tr th {\n",
              "        vertical-align: top;\n",
              "    }\n",
              "\n",
              "    .dataframe thead th {\n",
              "        text-align: right;\n",
              "    }\n",
              "</style>\n",
              "<table border=\"1\" class=\"dataframe\">\n",
              "  <thead>\n",
              "    <tr style=\"text-align: right;\">\n",
              "      <th></th>\n",
              "      <th>text</th>\n",
              "    </tr>\n",
              "  </thead>\n",
              "  <tbody>\n",
              "    <tr>\n",
              "      <th>0</th>\n",
              "      <td>Kiedy #coronavirus dotrze do Polski, napotka o...</td>\n",
              "    </tr>\n",
              "    <tr>\n",
              "      <th>1</th>\n",
              "      <td>Kolejni Polacy chcą wrócić z Wuhan https://t.c...</td>\n",
              "    </tr>\n",
              "    <tr>\n",
              "      <th>2</th>\n",
              "      <td>A tymczasem w Wuhan odcięto od reszty świata o...</td>\n",
              "    </tr>\n",
              "    <tr>\n",
              "      <th>3</th>\n",
              "      <td>@PatrykWachowiec @KancelariaSejmu nie zdziwię ...</td>\n",
              "    </tr>\n",
              "    <tr>\n",
              "      <th>4</th>\n",
              "      <td>.@MSZ_RP: 19 Polaków chce wrócić z Wuhan, w am...</td>\n",
              "    </tr>\n",
              "    <tr>\n",
              "      <th>...</th>\n",
              "      <td>...</td>\n",
              "    </tr>\n",
              "    <tr>\n",
              "      <th>485082</th>\n",
              "      <td>Adi w natarciu 😁 https://t.co/CXdSR1AST2</td>\n",
              "    </tr>\n",
              "    <tr>\n",
              "      <th>485083</th>\n",
              "      <td>Kwarantanna osób zaszczepionych nie jest potrz...</td>\n",
              "    </tr>\n",
              "    <tr>\n",
              "      <th>485084</th>\n",
              "      <td>pkp 4.0 ready sik? https://t.co/fHzdNsd3AL</td>\n",
              "    </tr>\n",
              "    <tr>\n",
              "      <th>485085</th>\n",
              "      <td>@rafalhubert Alfabet, jak będzie trzeba, to si...</td>\n",
              "    </tr>\n",
              "    <tr>\n",
              "      <th>485086</th>\n",
              "      <td>Pkp oh pkp.. https://t.co/UI5sxQ5SlJ</td>\n",
              "    </tr>\n",
              "  </tbody>\n",
              "</table>\n",
              "<p>485087 rows × 1 columns</p>\n",
              "</div>\n",
              "      <button class=\"colab-df-convert\" onclick=\"convertToInteractive('df-1e96195e-1391-4d7c-bb8d-51b9d58721c5')\"\n",
              "              title=\"Convert this dataframe to an interactive table.\"\n",
              "              style=\"display:none;\">\n",
              "        \n",
              "  <svg xmlns=\"http://www.w3.org/2000/svg\" height=\"24px\"viewBox=\"0 0 24 24\"\n",
              "       width=\"24px\">\n",
              "    <path d=\"M0 0h24v24H0V0z\" fill=\"none\"/>\n",
              "    <path d=\"M18.56 5.44l.94 2.06.94-2.06 2.06-.94-2.06-.94-.94-2.06-.94 2.06-2.06.94zm-11 1L8.5 8.5l.94-2.06 2.06-.94-2.06-.94L8.5 2.5l-.94 2.06-2.06.94zm10 10l.94 2.06.94-2.06 2.06-.94-2.06-.94-.94-2.06-.94 2.06-2.06.94z\"/><path d=\"M17.41 7.96l-1.37-1.37c-.4-.4-.92-.59-1.43-.59-.52 0-1.04.2-1.43.59L10.3 9.45l-7.72 7.72c-.78.78-.78 2.05 0 2.83L4 21.41c.39.39.9.59 1.41.59.51 0 1.02-.2 1.41-.59l7.78-7.78 2.81-2.81c.8-.78.8-2.07 0-2.86zM5.41 20L4 18.59l7.72-7.72 1.47 1.35L5.41 20z\"/>\n",
              "  </svg>\n",
              "      </button>\n",
              "      \n",
              "  <style>\n",
              "    .colab-df-container {\n",
              "      display:flex;\n",
              "      flex-wrap:wrap;\n",
              "      gap: 12px;\n",
              "    }\n",
              "\n",
              "    .colab-df-convert {\n",
              "      background-color: #E8F0FE;\n",
              "      border: none;\n",
              "      border-radius: 50%;\n",
              "      cursor: pointer;\n",
              "      display: none;\n",
              "      fill: #1967D2;\n",
              "      height: 32px;\n",
              "      padding: 0 0 0 0;\n",
              "      width: 32px;\n",
              "    }\n",
              "\n",
              "    .colab-df-convert:hover {\n",
              "      background-color: #E2EBFA;\n",
              "      box-shadow: 0px 1px 2px rgba(60, 64, 67, 0.3), 0px 1px 3px 1px rgba(60, 64, 67, 0.15);\n",
              "      fill: #174EA6;\n",
              "    }\n",
              "\n",
              "    [theme=dark] .colab-df-convert {\n",
              "      background-color: #3B4455;\n",
              "      fill: #D2E3FC;\n",
              "    }\n",
              "\n",
              "    [theme=dark] .colab-df-convert:hover {\n",
              "      background-color: #434B5C;\n",
              "      box-shadow: 0px 1px 3px 1px rgba(0, 0, 0, 0.15);\n",
              "      filter: drop-shadow(0px 1px 2px rgba(0, 0, 0, 0.3));\n",
              "      fill: #FFFFFF;\n",
              "    }\n",
              "  </style>\n",
              "\n",
              "      <script>\n",
              "        const buttonEl =\n",
              "          document.querySelector('#df-1e96195e-1391-4d7c-bb8d-51b9d58721c5 button.colab-df-convert');\n",
              "        buttonEl.style.display =\n",
              "          google.colab.kernel.accessAllowed ? 'block' : 'none';\n",
              "\n",
              "        async function convertToInteractive(key) {\n",
              "          const element = document.querySelector('#df-1e96195e-1391-4d7c-bb8d-51b9d58721c5');\n",
              "          const dataTable =\n",
              "            await google.colab.kernel.invokeFunction('convertToInteractive',\n",
              "                                                     [key], {});\n",
              "          if (!dataTable) return;\n",
              "\n",
              "          const docLinkHtml = 'Like what you see? Visit the ' +\n",
              "            '<a target=\"_blank\" href=https://colab.research.google.com/notebooks/data_table.ipynb>data table notebook</a>'\n",
              "            + ' to learn more about interactive tables.';\n",
              "          element.innerHTML = '';\n",
              "          dataTable['output_type'] = 'display_data';\n",
              "          await google.colab.output.renderOutput(dataTable, element);\n",
              "          const docLink = document.createElement('div');\n",
              "          docLink.innerHTML = docLinkHtml;\n",
              "          element.appendChild(docLink);\n",
              "        }\n",
              "      </script>\n",
              "    </div>\n",
              "  </div>\n",
              "  "
            ],
            "text/plain": [
              "                                                     text\n",
              "0       Kiedy #coronavirus dotrze do Polski, napotka o...\n",
              "1       Kolejni Polacy chcą wrócić z Wuhan https://t.c...\n",
              "2       A tymczasem w Wuhan odcięto od reszty świata o...\n",
              "3       @PatrykWachowiec @KancelariaSejmu nie zdziwię ...\n",
              "4       .@MSZ_RP: 19 Polaków chce wrócić z Wuhan, w am...\n",
              "...                                                   ...\n",
              "485082           Adi w natarciu 😁 https://t.co/CXdSR1AST2\n",
              "485083  Kwarantanna osób zaszczepionych nie jest potrz...\n",
              "485084         pkp 4.0 ready sik? https://t.co/fHzdNsd3AL\n",
              "485085  @rafalhubert Alfabet, jak będzie trzeba, to si...\n",
              "485086               Pkp oh pkp.. https://t.co/UI5sxQ5SlJ\n",
              "\n",
              "[485087 rows x 1 columns]"
            ]
          },
          "metadata": {},
          "execution_count": 5
        }
      ],
      "source": [
        "# drop duplicate values\n",
        "tweets_txt['text'].drop_duplicates(keep=\"first\", inplace=True)\n",
        "tweets_txt"
      ]
    },
    {
      "cell_type": "markdown",
      "metadata": {
        "id": "iY59768MutlU"
      },
      "source": [
        "#### Normalization - make all strings lowercase\n"
      ]
    },
    {
      "cell_type": "code",
      "execution_count": 6,
      "metadata": {
        "colab": {
          "base_uri": "https://localhost:8080/"
        },
        "id": "IRyht27K_hfa",
        "outputId": "9e8f075f-db0e-4e64-92da-0e3734310026"
      },
      "outputs": [
        {
          "output_type": "execute_result",
          "data": {
            "text/plain": [
              "0    kiedy #coronavirus dotrze do polski, napotka o...\n",
              "1    kolejni polacy chcą wrócić z wuhan https://t.c...\n",
              "2    a tymczasem w wuhan odcięto od reszty świata o...\n",
              "3    @patrykwachowiec @kancelariasejmu nie zdziwię ...\n",
              "4    .@msz_rp: 19 polaków chce wrócić z wuhan, w am...\n",
              "Name: text, dtype: object"
            ]
          },
          "metadata": {},
          "execution_count": 6
        }
      ],
      "source": [
        "### Normalization make all strings lowercase\n",
        "tweets_txt['text']= tweets_txt['text'].str.lower() \n",
        "tweets_txt['text'].head()"
      ]
    },
    {
      "cell_type": "markdown",
      "metadata": {
        "id": "sCofoM8NAGNA"
      },
      "source": [
        "#### Stopwords"
      ]
    },
    {
      "cell_type": "code",
      "execution_count": 7,
      "metadata": {
        "id": "erLEQ7AtAW16"
      },
      "outputs": [],
      "source": [
        "import spacy\n",
        "nlp = spacy.load('pl_core_news_md')"
      ]
    },
    {
      "cell_type": "code",
      "execution_count": 8,
      "metadata": {
        "colab": {
          "base_uri": "https://localhost:8080/"
        },
        "id": "c7olu0x-rlaB",
        "outputId": "d18dd3e5-e630-4351-daa2-dc90ace134de"
      },
      "outputs": [
        {
          "output_type": "stream",
          "name": "stdout",
          "text": [
            "[nltk_data] Downloading package wordnet to /root/nltk_data...\n",
            "[nltk_data]   Unzipping corpora/wordnet.zip.\n"
          ]
        },
        {
          "output_type": "execute_result",
          "data": {
            "text/plain": [
              "True"
            ]
          },
          "metadata": {},
          "execution_count": 8
        }
      ],
      "source": [
        "lemma = WordNetLemmatizer()\n",
        "nltk.download('wordnet')"
      ]
    },
    {
      "cell_type": "code",
      "execution_count": 9,
      "metadata": {
        "colab": {
          "base_uri": "https://localhost:8080/"
        },
        "id": "L7hsYj2VCOzW",
        "outputId": "8bfd29f9-772d-4ef7-f051-e5bd8990c559"
      },
      "outputs": [
        {
          "output_type": "stream",
          "name": "stdout",
          "text": [
            "{'vi', 'viii', 'tu', 'możliwe', 'jakas', 'być', 'ku', 'byl', 'ktoś', 'dzisiaj', 'bardzo', 'to', 'dwa', 'twoim', 'taka', 'juz', 'aj', 'coś', 'naszych', 'kilku', 'wielu', 'dlatego', 'powinno', 'nasz', 'cie', 'jeden', 'ok', 'sobą', 'pana', 'ktos', 'roku', 'godz', 'pan', 'te', 'tego', 'jedynie', 'sama', 'było', 'choć', 'ze', 'sie', 'albo', 'żeby', 'mam', 'wszyscy', 'dla', 'bynajmniej', 'takie', 'twoja', 'że', 'wszystkich', 'moi', 'totez', 'lub', 'kazdy', 'żadnych', 'ciebie', 'nigdy', 'ponad', 'powinna', 'mna', 'ix', 'dwoje', 'ich', 'aż', 'niej', 'został', 'az', 'je', 'nim', 'ktorym', 'mogą', 'więc', 'moim', 'innych', 'ach', 'mamy', 'od', 'która', 'iz', 'zaś', 'jakichs', 'wszystko', 'przeciez', 'aczkolwiek', 'może', 'bardziej', 'nam', 'ktore', 'zadnych', 'on', 'moje', 'tys', 'twój', 'ależ', 'jego', 'no', 'cos', 'dosc', 'gdyż', 'inny', 'wiele', 'ja', 'był', 'razie', 'jemu', 'nasze', 'ktorego', 'rowniez', 'którzy', 'xi', 'soba', 'przy', 'bo', 'ono', 'nimi', 'dość', 'tam', 'jakos', 'ani', 'kims', 'ci', 'gdyby', 'chce', 'zostal', 'nich', 'xv', 'mnie', 'tobą', 'gdzie', 'nia', 'z', 'której', 'ktora', 'one', 'wasze', 'wie', 'temu', 'takze', 'znowu', 'beda', 'bym', 'przedtem', 'mają', 'musi', 'twym', 'tobie', 'wami', 'cali', 'coraz', 'każdy', 'sam', 'dziś', 'oraz', 'również', 'były', 'pomimo', 'podczas', 'bowiem', 'jeśli', 'będą', 'poza', 'nie', 'była', 'acz', 'taki', 'niz', 'jej', 'ona', 'miedzy', 'też', 'przecież', 'żaden', 'kimś', 'nawet', 'ty', 'naszego', 'moja', 'czy', 'bez', 'żadne', 'żadna', 'jezeli', 'byla', 'im', 'zawsze', 'owszem', 'xii', 'ale', 'wasz', 'powinien', 'jakoś', 'do', 'jakiż', 'mój', 'wśród', 'co', 'a', 'ten', 'na', 'gdziekolwiek', 'gdzieś', 'ktorzy', 'więcej', 'którego', 'kierunku', 'niech', 'bedzie', 'będzie', 'iż', 'cokolwiek', 'twoi', 'totobą', 'mu', 'czemu', 'pod', 'pani', 'miał', 'jakis', 'jednym', 'moj', 'cała', 'iv', 'swoje', 'jedno', 'sposób', 'tym', 'zapewne', 'jakby', 'zadna', 'caly', 'wy', 'toba', 'byc', 'natomiast', 'aby', 'przed', 'skad', 'gdzies', 'inna', 'jakiz', 'mozliwe', 'trzeba', 'teraz', 'obok', 'raz', 'nią', 'jestem', 'tel', 'daleko', 'alez', 'my', 'mi', 'mimo', 'przede', 'nasi', 'które', 'często', 'niego', 'powinni', 'was', 'skąd', 'by', 'właśnie', 'kilka', 'byli', 'niż', 'się', 'dzis', 'który', 'oto', 'dlaczego', 'czasami', 'także', 'ktokolwiek', 'sobie', 'gdyz', 'tzw', 'prawie', 'xiv', 'ma', 'wtedy', 'dokad', 'cały', 'bede', 'jeżeli', 'nad', 'jedna', 'znow', 'moga', 'będę', 'ktorych', 'oni', 'wasi', 'natychmiast', 'duzo', 'wszystkie', 'tę', 'kto', 'jednak', 'niemu', 'twoje', 'jako', 'ją', 'zeby', 'jednakze', 'byly', 'już', 'według', 'tej', 'cala', 'mozna', 'ktorej', 'jakiś', 'toteż', 'jakichś', 'cię', 'znów', 'którym', 'zadne', 'jak', 'dokąd', 'ponieważ', 'nic', 'lecz', 'jednakże', 'w', 'we', 'tych', 'jaki', 'po', 'dwie', 'wasza', 'wlasnie', 'moze', 'nami', 'ktory', 'wszystkim', 'dwaj', 'twoj', 'ile', 'takich', 'go', 'o', 'u', 'czasem', 'których', 'jesli', 'jakie', 'bylo', 'vii', 'gdy', 'jakkolwiek', 'są', 'kiedy', 'zaden', 'ta', 'i', 'tak', 'nas', 'za', 'przez', 'wam', 'sposob', 'inne', 'tylko', 'tutaj', 'mną', 'można', 'między', 'poniewaz', 'dużo', 'mało', 'jest', 'dobrze', 'około', 'jeszcze', 'czyli', 'xiii', 'jakaś', 'nasza'}\n"
          ]
        }
      ],
      "source": [
        "stopwordlist = nlp.Defaults.stop_words\n",
        "print(stopwordlist)"
      ]
    },
    {
      "cell_type": "markdown",
      "metadata": {
        "id": "BC_uaKSewSPz"
      },
      "source": [
        "#### Cleaning and tokenization"
      ]
    },
    {
      "cell_type": "code",
      "execution_count": 10,
      "metadata": {
        "id": "YBzrl3h8rTmL"
      },
      "outputs": [],
      "source": [
        "def clean_text(text):\n",
        "  text = re.sub('https?:\\/\\/[a-zA-Z0-9@:%._\\/+~#=?&;-]*', ' ', text) # URL \n",
        "  text = re.sub('\\$[a-zA-Z0-9]*', ' ', text)\n",
        "  text = re.sub('\\@[a-zA-Z0-9]*', ' ', text)\n",
        "  text = re.sub('[0-9]+', '', text)  # deleting numbers\n",
        "  text = re.sub(r'(.)1+', r'1', text) # repeating chars\n",
        "  #text = re.sub('[^a-zA-Z\\']', ' ', text) \n",
        " # text = re.sub(r'[^\\w\\s]','', text)\n",
        "  #text = re.sub('[A-Za-zżźćńółęąśŻŹĆĄŚĘŁÓŃ]', ' ', text)\n",
        "  #text.strip(string.punctuation)\n",
        "\n",
        "  text = re.sub(r'[^\\w\\s]','',text) #remove everything except words and space\n",
        "  text = re.sub(r'_','', text)\n",
        "  text = re.sub('\\t', '', text)\n",
        "  text = ' '.join( [w for w in text.split() if len(w)>1] )\n",
        "  text = ' '.join([lemma.lemmatize(x) for x in nltk.wordpunct_tokenize(text) if x not in stopwordlist])\n",
        "  text = [lemma.lemmatize(x,nltk.corpus.reader.wordnet.VERB) for x in nltk.wordpunct_tokenize(text) if x not in stopwordlist]\n",
        "  return text "
      ]
    },
    {
      "cell_type": "code",
      "execution_count": 11,
      "metadata": {
        "colab": {
          "base_uri": "https://localhost:8080/",
          "height": 206
        },
        "id": "-RZ28XdErWWG",
        "outputId": "b7669e12-c5a8-4c1f-dd38-c46359be5e77"
      },
      "outputs": [
        {
          "output_type": "execute_result",
          "data": {
            "text/html": [
              "\n",
              "  <div id=\"df-56e6ebfb-f772-4477-9c84-a1e96ac55cbf\">\n",
              "    <div class=\"colab-df-container\">\n",
              "      <div>\n",
              "<style scoped>\n",
              "    .dataframe tbody tr th:only-of-type {\n",
              "        vertical-align: middle;\n",
              "    }\n",
              "\n",
              "    .dataframe tbody tr th {\n",
              "        vertical-align: top;\n",
              "    }\n",
              "\n",
              "    .dataframe thead th {\n",
              "        text-align: right;\n",
              "    }\n",
              "</style>\n",
              "<table border=\"1\" class=\"dataframe\">\n",
              "  <thead>\n",
              "    <tr style=\"text-align: right;\">\n",
              "      <th></th>\n",
              "      <th>text</th>\n",
              "      <th>clean_text</th>\n",
              "    </tr>\n",
              "  </thead>\n",
              "  <tbody>\n",
              "    <tr>\n",
              "      <th>0</th>\n",
              "      <td>kiedy #coronavirus dotrze do polski, napotka o...</td>\n",
              "      <td>[coronavirus, dotrze, polski, napotka, opór, z...</td>\n",
              "    </tr>\n",
              "    <tr>\n",
              "      <th>1</th>\n",
              "      <td>kolejni polacy chcą wrócić z wuhan https://t.c...</td>\n",
              "      <td>[kolejni, polacy, chcą, wrócić, wuhan]</td>\n",
              "    </tr>\n",
              "    <tr>\n",
              "      <th>2</th>\n",
              "      <td>a tymczasem w wuhan odcięto od reszty świata o...</td>\n",
              "      <td>[tymczasem, wuhan, odcięto, reszty, świata, ob...</td>\n",
              "    </tr>\n",
              "    <tr>\n",
              "      <th>3</th>\n",
              "      <td>@patrykwachowiec @kancelariasejmu nie zdziwię ...</td>\n",
              "      <td>[zdziwię, powiedzą, listy, pojechały, chin, wu...</td>\n",
              "    </tr>\n",
              "    <tr>\n",
              "      <th>4</th>\n",
              "      <td>.@msz_rp: 19 polaków chce wrócić z wuhan, w am...</td>\n",
              "      <td>[rp, polaków, wrócić, wuhan, ambasadzie, rp, p...</td>\n",
              "    </tr>\n",
              "  </tbody>\n",
              "</table>\n",
              "</div>\n",
              "      <button class=\"colab-df-convert\" onclick=\"convertToInteractive('df-56e6ebfb-f772-4477-9c84-a1e96ac55cbf')\"\n",
              "              title=\"Convert this dataframe to an interactive table.\"\n",
              "              style=\"display:none;\">\n",
              "        \n",
              "  <svg xmlns=\"http://www.w3.org/2000/svg\" height=\"24px\"viewBox=\"0 0 24 24\"\n",
              "       width=\"24px\">\n",
              "    <path d=\"M0 0h24v24H0V0z\" fill=\"none\"/>\n",
              "    <path d=\"M18.56 5.44l.94 2.06.94-2.06 2.06-.94-2.06-.94-.94-2.06-.94 2.06-2.06.94zm-11 1L8.5 8.5l.94-2.06 2.06-.94-2.06-.94L8.5 2.5l-.94 2.06-2.06.94zm10 10l.94 2.06.94-2.06 2.06-.94-2.06-.94-.94-2.06-.94 2.06-2.06.94z\"/><path d=\"M17.41 7.96l-1.37-1.37c-.4-.4-.92-.59-1.43-.59-.52 0-1.04.2-1.43.59L10.3 9.45l-7.72 7.72c-.78.78-.78 2.05 0 2.83L4 21.41c.39.39.9.59 1.41.59.51 0 1.02-.2 1.41-.59l7.78-7.78 2.81-2.81c.8-.78.8-2.07 0-2.86zM5.41 20L4 18.59l7.72-7.72 1.47 1.35L5.41 20z\"/>\n",
              "  </svg>\n",
              "      </button>\n",
              "      \n",
              "  <style>\n",
              "    .colab-df-container {\n",
              "      display:flex;\n",
              "      flex-wrap:wrap;\n",
              "      gap: 12px;\n",
              "    }\n",
              "\n",
              "    .colab-df-convert {\n",
              "      background-color: #E8F0FE;\n",
              "      border: none;\n",
              "      border-radius: 50%;\n",
              "      cursor: pointer;\n",
              "      display: none;\n",
              "      fill: #1967D2;\n",
              "      height: 32px;\n",
              "      padding: 0 0 0 0;\n",
              "      width: 32px;\n",
              "    }\n",
              "\n",
              "    .colab-df-convert:hover {\n",
              "      background-color: #E2EBFA;\n",
              "      box-shadow: 0px 1px 2px rgba(60, 64, 67, 0.3), 0px 1px 3px 1px rgba(60, 64, 67, 0.15);\n",
              "      fill: #174EA6;\n",
              "    }\n",
              "\n",
              "    [theme=dark] .colab-df-convert {\n",
              "      background-color: #3B4455;\n",
              "      fill: #D2E3FC;\n",
              "    }\n",
              "\n",
              "    [theme=dark] .colab-df-convert:hover {\n",
              "      background-color: #434B5C;\n",
              "      box-shadow: 0px 1px 3px 1px rgba(0, 0, 0, 0.15);\n",
              "      filter: drop-shadow(0px 1px 2px rgba(0, 0, 0, 0.3));\n",
              "      fill: #FFFFFF;\n",
              "    }\n",
              "  </style>\n",
              "\n",
              "      <script>\n",
              "        const buttonEl =\n",
              "          document.querySelector('#df-56e6ebfb-f772-4477-9c84-a1e96ac55cbf button.colab-df-convert');\n",
              "        buttonEl.style.display =\n",
              "          google.colab.kernel.accessAllowed ? 'block' : 'none';\n",
              "\n",
              "        async function convertToInteractive(key) {\n",
              "          const element = document.querySelector('#df-56e6ebfb-f772-4477-9c84-a1e96ac55cbf');\n",
              "          const dataTable =\n",
              "            await google.colab.kernel.invokeFunction('convertToInteractive',\n",
              "                                                     [key], {});\n",
              "          if (!dataTable) return;\n",
              "\n",
              "          const docLinkHtml = 'Like what you see? Visit the ' +\n",
              "            '<a target=\"_blank\" href=https://colab.research.google.com/notebooks/data_table.ipynb>data table notebook</a>'\n",
              "            + ' to learn more about interactive tables.';\n",
              "          element.innerHTML = '';\n",
              "          dataTable['output_type'] = 'display_data';\n",
              "          await google.colab.output.renderOutput(dataTable, element);\n",
              "          const docLink = document.createElement('div');\n",
              "          docLink.innerHTML = docLinkHtml;\n",
              "          element.appendChild(docLink);\n",
              "        }\n",
              "      </script>\n",
              "    </div>\n",
              "  </div>\n",
              "  "
            ],
            "text/plain": [
              "                                                text                                         clean_text\n",
              "0  kiedy #coronavirus dotrze do polski, napotka o...  [coronavirus, dotrze, polski, napotka, opór, z...\n",
              "1  kolejni polacy chcą wrócić z wuhan https://t.c...             [kolejni, polacy, chcą, wrócić, wuhan]\n",
              "2  a tymczasem w wuhan odcięto od reszty świata o...  [tymczasem, wuhan, odcięto, reszty, świata, ob...\n",
              "3  @patrykwachowiec @kancelariasejmu nie zdziwię ...  [zdziwię, powiedzą, listy, pojechały, chin, wu...\n",
              "4  .@msz_rp: 19 polaków chce wrócić z wuhan, w am...  [rp, polaków, wrócić, wuhan, ambasadzie, rp, p..."
            ]
          },
          "metadata": {},
          "execution_count": 11
        }
      ],
      "source": [
        "tweets_txt['clean_text'] = tweets_txt['text'].apply(clean_text)\n",
        "tweets_txt.head()"
      ]
    },
    {
      "cell_type": "code",
      "execution_count": 12,
      "metadata": {
        "colab": {
          "base_uri": "https://localhost:8080/",
          "height": 424
        },
        "id": "6JqjBFHxNJfe",
        "outputId": "408c6c4c-0b4e-4101-8122-e67e6bc93529"
      },
      "outputs": [
        {
          "output_type": "execute_result",
          "data": {
            "text/html": [
              "\n",
              "  <div id=\"df-991241ca-8a6d-4df1-a510-c7983fa93a3d\">\n",
              "    <div class=\"colab-df-container\">\n",
              "      <div>\n",
              "<style scoped>\n",
              "    .dataframe tbody tr th:only-of-type {\n",
              "        vertical-align: middle;\n",
              "    }\n",
              "\n",
              "    .dataframe tbody tr th {\n",
              "        vertical-align: top;\n",
              "    }\n",
              "\n",
              "    .dataframe thead th {\n",
              "        text-align: right;\n",
              "    }\n",
              "</style>\n",
              "<table border=\"1\" class=\"dataframe\">\n",
              "  <thead>\n",
              "    <tr style=\"text-align: right;\">\n",
              "      <th></th>\n",
              "      <th>text</th>\n",
              "      <th>clean_text</th>\n",
              "      <th>cleaned_text</th>\n",
              "    </tr>\n",
              "  </thead>\n",
              "  <tbody>\n",
              "    <tr>\n",
              "      <th>0</th>\n",
              "      <td>kiedy #coronavirus dotrze do polski, napotka o...</td>\n",
              "      <td>[coronavirus, dotrze, polski, napotka, opór, z...</td>\n",
              "      <td>coronavirus dotrze polski napotka opór znakomi...</td>\n",
              "    </tr>\n",
              "    <tr>\n",
              "      <th>1</th>\n",
              "      <td>kolejni polacy chcą wrócić z wuhan https://t.c...</td>\n",
              "      <td>[kolejni, polacy, chcą, wrócić, wuhan]</td>\n",
              "      <td>kolejni polacy chcą wrócić wuhan</td>\n",
              "    </tr>\n",
              "    <tr>\n",
              "      <th>2</th>\n",
              "      <td>a tymczasem w wuhan odcięto od reszty świata o...</td>\n",
              "      <td>[tymczasem, wuhan, odcięto, reszty, świata, ob...</td>\n",
              "      <td>tymczasem wuhan odcięto reszty świata obszar p...</td>\n",
              "    </tr>\n",
              "    <tr>\n",
              "      <th>3</th>\n",
              "      <td>@patrykwachowiec @kancelariasejmu nie zdziwię ...</td>\n",
              "      <td>[zdziwię, powiedzą, listy, pojechały, chin, wu...</td>\n",
              "      <td>zdziwię powiedzą listy pojechały chin wuhan od...</td>\n",
              "    </tr>\n",
              "    <tr>\n",
              "      <th>4</th>\n",
              "      <td>.@msz_rp: 19 polaków chce wrócić z wuhan, w am...</td>\n",
              "      <td>[rp, polaków, wrócić, wuhan, ambasadzie, rp, p...</td>\n",
              "      <td>rp polaków wrócić wuhan ambasadzie rp pekinie ...</td>\n",
              "    </tr>\n",
              "    <tr>\n",
              "      <th>...</th>\n",
              "      <td>...</td>\n",
              "      <td>...</td>\n",
              "      <td>...</td>\n",
              "    </tr>\n",
              "    <tr>\n",
              "      <th>485082</th>\n",
              "      <td>adi w natarciu 😁 https://t.co/cxdsr1ast2</td>\n",
              "      <td>[adi, natarciu]</td>\n",
              "      <td>adi natarciu</td>\n",
              "    </tr>\n",
              "    <tr>\n",
              "      <th>485083</th>\n",
              "      <td>kwarantanna osób zaszczepionych nie jest potrz...</td>\n",
              "      <td>[kwarantanna, osób, zaszczepionych, potrzebna,...</td>\n",
              "      <td>kwarantanna osób zaszczepionych potrzebna przy...</td>\n",
              "    </tr>\n",
              "    <tr>\n",
              "      <th>485084</th>\n",
              "      <td>pkp 4.0 ready sik? https://t.co/fhzdnsd3al</td>\n",
              "      <td>[pkp, ready, sik]</td>\n",
              "      <td>pkp ready sik</td>\n",
              "    </tr>\n",
              "    <tr>\n",
              "      <th>485085</th>\n",
              "      <td>@rafalhubert alfabet, jak będzie trzeba, to si...</td>\n",
              "      <td>[alfabet, rozszerzy, look]</td>\n",
              "      <td>alfabet rozszerzy look</td>\n",
              "    </tr>\n",
              "    <tr>\n",
              "      <th>485086</th>\n",
              "      <td>pkp oh pkp.. https://t.co/ui5sxq5slj</td>\n",
              "      <td>[pkp, oh, pkp]</td>\n",
              "      <td>pkp oh pkp</td>\n",
              "    </tr>\n",
              "  </tbody>\n",
              "</table>\n",
              "<p>485087 rows × 3 columns</p>\n",
              "</div>\n",
              "      <button class=\"colab-df-convert\" onclick=\"convertToInteractive('df-991241ca-8a6d-4df1-a510-c7983fa93a3d')\"\n",
              "              title=\"Convert this dataframe to an interactive table.\"\n",
              "              style=\"display:none;\">\n",
              "        \n",
              "  <svg xmlns=\"http://www.w3.org/2000/svg\" height=\"24px\"viewBox=\"0 0 24 24\"\n",
              "       width=\"24px\">\n",
              "    <path d=\"M0 0h24v24H0V0z\" fill=\"none\"/>\n",
              "    <path d=\"M18.56 5.44l.94 2.06.94-2.06 2.06-.94-2.06-.94-.94-2.06-.94 2.06-2.06.94zm-11 1L8.5 8.5l.94-2.06 2.06-.94-2.06-.94L8.5 2.5l-.94 2.06-2.06.94zm10 10l.94 2.06.94-2.06 2.06-.94-2.06-.94-.94-2.06-.94 2.06-2.06.94z\"/><path d=\"M17.41 7.96l-1.37-1.37c-.4-.4-.92-.59-1.43-.59-.52 0-1.04.2-1.43.59L10.3 9.45l-7.72 7.72c-.78.78-.78 2.05 0 2.83L4 21.41c.39.39.9.59 1.41.59.51 0 1.02-.2 1.41-.59l7.78-7.78 2.81-2.81c.8-.78.8-2.07 0-2.86zM5.41 20L4 18.59l7.72-7.72 1.47 1.35L5.41 20z\"/>\n",
              "  </svg>\n",
              "      </button>\n",
              "      \n",
              "  <style>\n",
              "    .colab-df-container {\n",
              "      display:flex;\n",
              "      flex-wrap:wrap;\n",
              "      gap: 12px;\n",
              "    }\n",
              "\n",
              "    .colab-df-convert {\n",
              "      background-color: #E8F0FE;\n",
              "      border: none;\n",
              "      border-radius: 50%;\n",
              "      cursor: pointer;\n",
              "      display: none;\n",
              "      fill: #1967D2;\n",
              "      height: 32px;\n",
              "      padding: 0 0 0 0;\n",
              "      width: 32px;\n",
              "    }\n",
              "\n",
              "    .colab-df-convert:hover {\n",
              "      background-color: #E2EBFA;\n",
              "      box-shadow: 0px 1px 2px rgba(60, 64, 67, 0.3), 0px 1px 3px 1px rgba(60, 64, 67, 0.15);\n",
              "      fill: #174EA6;\n",
              "    }\n",
              "\n",
              "    [theme=dark] .colab-df-convert {\n",
              "      background-color: #3B4455;\n",
              "      fill: #D2E3FC;\n",
              "    }\n",
              "\n",
              "    [theme=dark] .colab-df-convert:hover {\n",
              "      background-color: #434B5C;\n",
              "      box-shadow: 0px 1px 3px 1px rgba(0, 0, 0, 0.15);\n",
              "      filter: drop-shadow(0px 1px 2px rgba(0, 0, 0, 0.3));\n",
              "      fill: #FFFFFF;\n",
              "    }\n",
              "  </style>\n",
              "\n",
              "      <script>\n",
              "        const buttonEl =\n",
              "          document.querySelector('#df-991241ca-8a6d-4df1-a510-c7983fa93a3d button.colab-df-convert');\n",
              "        buttonEl.style.display =\n",
              "          google.colab.kernel.accessAllowed ? 'block' : 'none';\n",
              "\n",
              "        async function convertToInteractive(key) {\n",
              "          const element = document.querySelector('#df-991241ca-8a6d-4df1-a510-c7983fa93a3d');\n",
              "          const dataTable =\n",
              "            await google.colab.kernel.invokeFunction('convertToInteractive',\n",
              "                                                     [key], {});\n",
              "          if (!dataTable) return;\n",
              "\n",
              "          const docLinkHtml = 'Like what you see? Visit the ' +\n",
              "            '<a target=\"_blank\" href=https://colab.research.google.com/notebooks/data_table.ipynb>data table notebook</a>'\n",
              "            + ' to learn more about interactive tables.';\n",
              "          element.innerHTML = '';\n",
              "          dataTable['output_type'] = 'display_data';\n",
              "          await google.colab.output.renderOutput(dataTable, element);\n",
              "          const docLink = document.createElement('div');\n",
              "          docLink.innerHTML = docLinkHtml;\n",
              "          element.appendChild(docLink);\n",
              "        }\n",
              "      </script>\n",
              "    </div>\n",
              "  </div>\n",
              "  "
            ],
            "text/plain": [
              "                                                     text  ...                                       cleaned_text\n",
              "0       kiedy #coronavirus dotrze do polski, napotka o...  ...  coronavirus dotrze polski napotka opór znakomi...\n",
              "1       kolejni polacy chcą wrócić z wuhan https://t.c...  ...                   kolejni polacy chcą wrócić wuhan\n",
              "2       a tymczasem w wuhan odcięto od reszty świata o...  ...  tymczasem wuhan odcięto reszty świata obszar p...\n",
              "3       @patrykwachowiec @kancelariasejmu nie zdziwię ...  ...  zdziwię powiedzą listy pojechały chin wuhan od...\n",
              "4       .@msz_rp: 19 polaków chce wrócić z wuhan, w am...  ...  rp polaków wrócić wuhan ambasadzie rp pekinie ...\n",
              "...                                                   ...  ...                                                ...\n",
              "485082           adi w natarciu 😁 https://t.co/cxdsr1ast2  ...                                       adi natarciu\n",
              "485083  kwarantanna osób zaszczepionych nie jest potrz...  ...  kwarantanna osób zaszczepionych potrzebna przy...\n",
              "485084         pkp 4.0 ready sik? https://t.co/fhzdnsd3al  ...                                      pkp ready sik\n",
              "485085  @rafalhubert alfabet, jak będzie trzeba, to si...  ...                             alfabet rozszerzy look\n",
              "485086               pkp oh pkp.. https://t.co/ui5sxq5slj  ...                                         pkp oh pkp\n",
              "\n",
              "[485087 rows x 3 columns]"
            ]
          },
          "metadata": {},
          "execution_count": 12
        }
      ],
      "source": [
        "tweets_txt.dropna(subset = [\"clean_text\"], inplace=True)\n",
        "tweets_txt['cleaned_text'] = tweets_txt['clean_text'].apply(lambda x:' '.join(x))\n",
        "tweets_txt"
      ]
    },
    {
      "cell_type": "markdown",
      "metadata": {
        "id": "6Uc6fNo-6ER3"
      },
      "source": [
        "## **Labeling**"
      ]
    },
    {
      "cell_type": "code",
      "execution_count": 13,
      "metadata": {
        "id": "xj85hyZNOwH1"
      },
      "outputs": [],
      "source": [
        "#gensim\n",
        "from gensim.models.phrases import Phrases, Phraser\n",
        "from gensim.models import Word2Vec\n",
        "#wordcloud \n",
        "from wordcloud import WordCloud "
      ]
    },
    {
      "cell_type": "code",
      "execution_count": 14,
      "metadata": {
        "colab": {
          "base_uri": "https://localhost:8080/"
        },
        "id": "TVC7vNBzEU42",
        "outputId": "fd034a8e-fd0a-4e3d-8d04-e629e20969ad"
      },
      "outputs": [
        {
          "output_type": "execute_result",
          "data": {
            "text/plain": [
              "['kolejni_polacy', 'chcą_wrócić', 'wuhan']"
            ]
          },
          "metadata": {},
          "execution_count": 14
        }
      ],
      "source": [
        "sent = [row for row in tweets_txt['clean_text']]\n",
        "\n",
        "phrases = Phrases(sent, min_count=1, progress_per=485087)\n",
        "bigram = Phraser(phrases)\n",
        "sentences = bigram[sent]\n",
        "sentences[1]"
      ]
    },
    {
      "cell_type": "code",
      "execution_count": 15,
      "metadata": {
        "id": "Mz6yqhFnKSFa"
      },
      "outputs": [],
      "source": [
        "# inicjalizacja modelu word2vec\n",
        "import multiprocessing\n",
        "w2v_model = Word2Vec(min_count=4,\n",
        "                     window=5,\n",
        "                     size =300,\n",
        "                     sample=1e-5, \n",
        "                     alpha=0.03, \n",
        "                     min_alpha=0.0007, \n",
        "                     negative=20,\n",
        "                     seed= 42,\n",
        "                     workers=multiprocessing.cpu_count()-1)\n",
        "\n",
        "\n",
        "w2v_model.build_vocab(sentences, progress_per= 485087)"
      ]
    },
    {
      "cell_type": "code",
      "execution_count": 16,
      "metadata": {
        "colab": {
          "base_uri": "https://localhost:8080/"
        },
        "id": "CDn-6hFJKYit",
        "outputId": "bfd15db9-c444-4386-c087-bd2389d6a9e8"
      },
      "outputs": [
        {
          "output_type": "execute_result",
          "data": {
            "text/plain": [
              "(45031581, 89220000)"
            ]
          },
          "metadata": {},
          "execution_count": 16
        }
      ],
      "source": [
        "w2v_model.train(sentences, total_examples=w2v_model.corpus_count, epochs=30, report_delay=1)"
      ]
    },
    {
      "cell_type": "code",
      "execution_count": 19,
      "metadata": {
        "colab": {
          "base_uri": "https://localhost:8080/"
        },
        "id": "Xp-zofTWPjk_",
        "outputId": "8d3419f5-6106-42d0-b60d-37de1ec70f23"
      },
      "outputs": [
        {
          "output_type": "execute_result",
          "data": {
            "text/plain": [
              "[('lubię', 0.9088984727859497),\n",
              " ('moda', 0.8970432281494141),\n",
              " ('memy', 0.8962926864624023),\n",
              " ('piękne', 0.8956923484802246),\n",
              " ('notatki', 0.8945770263671875),\n",
              " ('potrafisz', 0.8912384510040283),\n",
              " ('ehhh', 0.8911154270172119),\n",
              " ('zasięgi', 0.8889053463935852),\n",
              " ('filmach', 0.8841354250907898),\n",
              " ('znacie_jakieś', 0.8835195302963257)]"
            ]
          },
          "metadata": {},
          "execution_count": 19
        }
      ],
      "source": [
        "w2v_model.wv.most_similar(positive=[\"fajne\"])"
      ]
    },
    {
      "cell_type": "code",
      "execution_count": 20,
      "metadata": {
        "id": "6vagYpqJPmXf"
      },
      "outputs": [],
      "source": [
        "w2v_model.save(\"/content/drive/MyDrive/word2vec.model\")"
      ]
    },
    {
      "cell_type": "code",
      "execution_count": 21,
      "metadata": {
        "id": "t_vNbW2IPorz"
      },
      "outputs": [],
      "source": [
        "word_vectors = Word2Vec.load(\"/content/drive/MyDrive/word2vec.model\").wv"
      ]
    },
    {
      "cell_type": "code",
      "execution_count": 22,
      "metadata": {
        "id": "6f5q4PFwPqr-"
      },
      "outputs": [],
      "source": [
        "from sklearn.cluster import KMeans\n",
        "model = KMeans(n_clusters=2, max_iter=1000, random_state=42, n_init=50).fit(X=word_vectors.vectors.astype('double'))"
      ]
    },
    {
      "cell_type": "code",
      "execution_count": 23,
      "metadata": {
        "colab": {
          "base_uri": "https://localhost:8080/"
        },
        "id": "orswlt5fPsRs",
        "outputId": "c895a24c-4056-45dc-9eb2-729c55a90b33"
      },
      "outputs": [
        {
          "output_type": "execute_result",
          "data": {
            "text/plain": [
              "[('zdrowotnych_formie', 0.9937599897384644),\n",
              " ('chiny_wzywają', 0.993700385093689),\n",
              " ('wielkie_ogniska', 0.993156373500824),\n",
              " ('wbrytania_przypadkiem', 0.9924830794334412),\n",
              " ('dolnośląskiego_świętokrzyskiego', 0.9921672940254211),\n",
              " ('stworzenia_globalnego', 0.9921330809593201),\n",
              " ('chińska_dziennikarka', 0.991966187953949),\n",
              " ('zapobiegać_pogorszeniu', 0.9918882250785828),\n",
              " ('zachodniopomorskim_urzędzie', 0.991742730140686),\n",
              " ('prof_bruno', 0.9916995763778687),\n",
              " ('wojewodzie_pokazuje', 0.9916785359382629),\n",
              " ('zmarł_osobisty', 0.9916049838066101),\n",
              " ('poprawy_humoru', 0.9913811683654785),\n",
              " ('lżejszym_przebiegu', 0.9912915825843811),\n",
              " ('alarmujące_informacje', 0.9912467002868652),\n",
              " ('pracownicy_jednego', 0.9909833073616028),\n",
              " ('prasy_szczepionka', 0.9909192323684692),\n",
              " ('paszportami_zaszczepionych', 0.990867555141449),\n",
              " ('mobilny_szpital', 0.9908087253570557),\n",
              " ('wojewódzkim_szczecinie', 0.9907767176628113),\n",
              " ('zachodniopomorskiego_świętokrzyskiego', 0.9906965494155884),\n",
              " ('okres_dawkami', 0.9906039237976074),\n",
              " ('francji_funkcjonuje', 0.990511417388916),\n",
              " ('govplkoronawirus', 0.99049311876297),\n",
              " ('lubelskiego_świętokrzyskiego', 0.9904277324676514),\n",
              " ('zostać_wypisane', 0.9904170632362366),\n",
              " ('zakaz_wyjazdu', 0.9903479218482971),\n",
              " ('mikrobiolog_odpoczynek', 0.9903362989425659),\n",
              " ('lek_depresję', 0.9903152585029602),\n",
              " ('aplikacji_smartfony', 0.9902703166007996),\n",
              " ('opowiada_unijnymi', 0.9901597499847412),\n",
              " ('szczepieniom_przeciwko', 0.9901169538497925),\n",
              " ('uznawana_najstarszą', 0.9900976419448853),\n",
              " ('przewodnicząca_komisjaeuropejska', 0.9899972677230835),\n",
              " ('latki_władze', 0.9899017810821533),\n",
              " ('zwolniły_miejsce', 0.9898415207862854),\n",
              " ('psychiatrycznego_warszawie', 0.9898409843444824),\n",
              " ('dystrybucyjną_testów', 0.9897513389587402),\n",
              " ('formy_normalnego', 0.9897377490997314),\n",
              " ('görlitz', 0.9896632432937622),\n",
              " ('kaukazu', 0.9896529912948608),\n",
              " ('spokój_ważne', 0.9896228313446045),\n",
              " ('leków_szczepią', 0.9894422292709351),\n",
              " ('międzynarodowego_zespołu', 0.989420473575592),\n",
              " ('fatima_mai', 0.9894056916236877),\n",
              " ('biomaxima_umowę', 0.989382266998291),\n",
              " ('ograniczy_obchody', 0.9893652200698853),\n",
              " ('zniszczył_własne', 0.9893143177032471),\n",
              " ('degenerata_stanie', 0.9892908930778503),\n",
              " ('sprawia_polskich', 0.9892838001251221),\n",
              " ('antycovid_rozbiła', 0.9891929626464844),\n",
              " ('sytuacja_wywołana', 0.9891899228096008),\n",
              " ('powrót_jakiejś', 0.9891877174377441),\n",
              " ('wojska_sp', 0.9891386032104492),\n",
              " ('wydolności_oddechowej', 0.9891037940979004),\n",
              " ('dalej_wierz', 0.9890435934066772),\n",
              " ('zachodniopomorskiego_podlaskiego', 0.9889538884162903),\n",
              " ('strażaka_któremu', 0.9889248609542847),\n",
              " ('rosnąć_przechorowaniu', 0.9889014363288879),\n",
              " ('włochy_iran', 0.9887835383415222),\n",
              " ('grupie_kolejką', 0.9887036681175232),\n",
              " ('swoją_populację', 0.9887010455131531),\n",
              " ('policja_belgijska', 0.9886914491653442),\n",
              " ('powiaty_strefie', 0.9886758923530579),\n",
              " ('biobójc', 0.9886372685432434),\n",
              " ('luis', 0.9886337518692017),\n",
              " ('utrzymać_higieny', 0.9885921478271484),\n",
              " ('lubelskiego_opolskiego', 0.9885337352752686),\n",
              " ('wyborcza_zamknijcie', 0.9884282350540161),\n",
              " ('pomaga_szczepieniach', 0.9884252548217773),\n",
              " ('decyzja_związana', 0.9884059429168701),\n",
              " ('podstawie_zarządzeń', 0.9884036779403687),\n",
              " ('płuca_letniego', 0.9883842468261719),\n",
              " ('zakończyła_kolejna', 0.9883652329444885),\n",
              " ('lekarz_papieża', 0.9881833791732788),\n",
              " ('dover_wspólnie', 0.9881182909011841),\n",
              " ('chcała_prawda', 0.988116979598999),\n",
              " ('wynalazków', 0.9880214929580688),\n",
              " ('dzieci_pozostac', 0.9880211353302002),\n",
              " ('medium_mossadui', 0.9880101680755615),\n",
              " ('zeitung', 0.987920343875885),\n",
              " ('rozsze', 0.9878566265106201),\n",
              " ('ciąży_zachorowała', 0.98780757188797),\n",
              " ('padają_rekordy', 0.9878029823303223),\n",
              " ('odmienną_żywotnością', 0.9877166748046875),\n",
              " ('osobę_hiszpanii', 0.9877148866653442),\n",
              " ('zwłok_potwierdziła', 0.9877134561538696),\n",
              " ('kradzież_szczepionek', 0.987703263759613),\n",
              " ('epijobs', 0.9876893758773804),\n",
              " ('afganistanie_pałacu', 0.9876822829246521),\n",
              " ('rządowa_aplikacja', 0.9876378178596497),\n",
              " ('nowoczesnytotalitaryzm_pandemiastrachu', 0.9876207113265991),\n",
              " ('drużyna_zakażona', 0.9875862002372742),\n",
              " ('belgia_najbardziej', 0.9875551462173462),\n",
              " ('pokładzie_lotniskowca', 0.9875420331954956),\n",
              " ('chory_pomysł', 0.9874960780143738),\n",
              " ('przeciwpasożytniczy', 0.9874950647354126),\n",
              " ('narodzenia_całym', 0.987470269203186),\n",
              " ('zatoru_płuc', 0.9874362349510193),\n",
              " ('powstanie_unijny', 0.9874270558357239),\n",
              " ('wykraść_szczepionkę', 0.9874218106269836),\n",
              " ('delegalizacji_aborcji', 0.9873769283294678),\n",
              " ('hiszpanii_mieszkańcy', 0.9873690605163574),\n",
              " ('niepokojące_wiadomości', 0.9873557090759277),\n",
              " ('zmniejszyć_śmiertelność', 0.9873207807540894),\n",
              " ('ruch_lidla', 0.9873064160346985),\n",
              " ('ekspert_trzecia', 0.9872439503669739),\n",
              " ('włoska_wyspa', 0.987238883972168),\n",
              " ('del_valle', 0.9872339963912964),\n",
              " ('coronavirus_charakteryzuje', 0.987204909324646),\n",
              " ('ozdrowieńców_wydłuża', 0.9872012138366699),\n",
              " ('tętniaki_aorty', 0.9871855974197388),\n",
              " ('rysunek_wykonany', 0.9871747493743896),\n",
              " ('zdrowie_nowytotalitaryzm', 0.9871177673339844),\n",
              " ('bezpieczne_dziecka', 0.9871002435684204),\n",
              " ('związku_sensacyjnymi', 0.9870908856391907),\n",
              " ('taktakty_owco', 0.9870611429214478),\n",
              " ('palaszczuk_antic', 0.9870471358299255),\n",
              " ('aborcja_aborcją', 0.9870419502258301),\n",
              " ('światowych_mediach', 0.9869949221611023),\n",
              " ('pastor_chojecki', 0.986956775188446),\n",
              " ('natale_addio', 0.9869373440742493),\n",
              " ('października_powiat', 0.9869071245193481),\n",
              " ('fala_depresji', 0.9868742227554321),\n",
              " ('fałszywapandemia_chodzi', 0.9868162870407104),\n",
              " ('testowania_kątem', 0.986793041229248),\n",
              " ('systemu_certyfikatów', 0.9867650866508484),\n",
              " ('badanie_mleko', 0.9867587685585022),\n",
              " ('ekspertach_morawieckiego', 0.9866628646850586),\n",
              " ('zbadać_pochodzenie', 0.9866354465484619),\n",
              " ('prasa_covidsa', 0.9865984916687012),\n",
              " ('zależności_powierzchni', 0.986595630645752),\n",
              " ('dokonało', 0.986586332321167),\n",
              " ('osoby_okularach', 0.9865655899047852),\n",
              " ('zapowiadany_przekładany', 0.9864949584007263),\n",
              " ('premiere_kimchi', 0.9864856004714966),\n",
              " ('atakuje_wyborczą', 0.9864825010299683),\n",
              " ('ct_patch', 0.9864485859870911),\n",
              " ('młode_dorosłe', 0.9864417910575867),\n",
              " ('theendofyear_akunacompany', 0.9863836765289307),\n",
              " ('dicembre_dopo', 0.9863778352737427),\n",
              " ('województwie_morawskośląskim', 0.9863248467445374),\n",
              " ('sister_domownicy', 0.9863142967224121),\n",
              " ('życia_możliwy', 0.9862954616546631),\n",
              " ('szkół_placówek', 0.9862701296806335),\n",
              " ('polaków_zaszczepiło', 0.9862682223320007),\n",
              " ('rasistowski_terror', 0.986228346824646),\n",
              " ('letnia_ana', 0.9862130880355835),\n",
              " ('mabion_drugie', 0.9862027168273926),\n",
              " ('wybrzeże', 0.9861862659454346),\n",
              " ('noworocznym', 0.9861785769462585),\n",
              " ('użytku_wykrywają', 0.9861598014831543),\n",
              " ('kobiety_wystąpieniu', 0.9861458539962769),\n",
              " ('odpowiedzialnie_ograniczonym', 0.9861335754394531),\n",
              " ('kostnym', 0.9860959649085999),\n",
              " ('wiadomość_dotycząca', 0.9860612154006958),\n",
              " ('yunankaşarıhürriyet', 0.9860402345657349),\n",
              " ('trafiła_kosza', 0.98601895570755),\n",
              " ('największych_producentów', 0.9860180616378784),\n",
              " ('prezydenckim_zaraziło', 0.9860063791275024),\n",
              " ('hero_v', 0.9860000610351562),\n",
              " ('szeroki_program', 0.985995888710022),\n",
              " ('orgię', 0.9859392642974854),\n",
              " ('pytania_rozmowa', 0.9859336614608765),\n",
              " ('nowo_wybrany', 0.9859333038330078),\n",
              " ('koncernów_wspierających', 0.9859161376953125),\n",
              " ('zależał', 0.9859118461608887),\n",
              " ('wrażliwe_stresy', 0.9859068393707275),\n",
              " ('prof_krasnodębski', 0.9858911037445068),\n",
              " ('samoizolacji_sierpnia', 0.9858896732330322),\n",
              " ('warrior_wlm', 0.9858694076538086),\n",
              " ('ops_yustisi', 0.9858670234680176),\n",
              " ('naprawić_płuca', 0.9858656525611877),\n",
              " ('nagłówkami_dotyczącymi', 0.9858549237251282),\n",
              " ('zlecenie_novavax', 0.9858205318450928),\n",
              " ('batkiwszczyna_julia', 0.9857746362686157),\n",
              " ('wektorowych_przeciw', 0.9857712984085083),\n",
              " ('opublikowano_dane', 0.985770046710968),\n",
              " ('drożdże_piwowarskie', 0.9857460260391235),\n",
              " ('przekazania_who', 0.9857441186904907),\n",
              " ('polska_sprowadzać', 0.9857306480407715),\n",
              " ('samolot_wuhan', 0.985725462436676),\n",
              " ('obejrzy_chocia', 0.9857231378555298),\n",
              " ('cztery_zespoły', 0.9856958389282227),\n",
              " ('alweoprodaktkontainsherbs_gtechnology', 0.9856443405151367),\n",
              " ('pandemie_verwoes', 0.9856404066085815),\n",
              " ('perezida_museveni', 0.9856359958648682),\n",
              " ('koronawirusa_zamówione', 0.9856303930282593),\n",
              " ('świecie_wariantów', 0.9856254458427429),\n",
              " ('tragiczne_żniwo', 0.9856064319610596),\n",
              " ('populacji_zachoruje', 0.9856060743331909),\n",
              " ('dworczyk_możliwości', 0.9855992197990417),\n",
              " ('klaster_gowa', 0.9855863451957703),\n",
              " ('pamiętacie_czasy', 0.9855523109436035),\n",
              " ('zmarła_druga', 0.9855519533157349),\n",
              " ('grodzki_stanisław', 0.9855356216430664),\n",
              " ('przyjmować_szczepionk', 0.9855092763900757),\n",
              " ('zarabiają_ofiarach', 0.9855023622512817),\n",
              " ('wuhan_bomba', 0.9855010509490967),\n",
              " ('child_school', 0.9854766130447388)]"
            ]
          },
          "metadata": {},
          "execution_count": 23
        }
      ],
      "source": [
        "word_vectors.similar_by_vector(model.cluster_centers_[1], topn=200, restrict_vocab=None)"
      ]
    },
    {
      "cell_type": "code",
      "execution_count": 24,
      "metadata": {
        "id": "dEEUDeOOPuCj"
      },
      "outputs": [],
      "source": [
        "positive_cluster_center = model.cluster_centers_[1]\n",
        "negative_cluster_center = model.cluster_centers_[0]\n",
        "#neutral_cluster_center= model.cluster_centers_[0]"
      ]
    },
    {
      "cell_type": "code",
      "execution_count": 25,
      "metadata": {
        "id": "cQ0P-TT3Pv4A"
      },
      "outputs": [],
      "source": [
        "words = pd.DataFrame(word_vectors.index2entity)\n",
        "words.columns = ['words']\n",
        "words['vectors'] = words.words.apply(lambda x: word_vectors[f'{x}'])\n",
        "words['cluster'] = words.vectors.apply(lambda x: model.predict([np.array(x)]))\n",
        "words.cluster = words.cluster.apply(lambda x: x[0])"
      ]
    },
    {
      "cell_type": "code",
      "source": [
        "words[\"cluster\"].value_counts()"
      ],
      "metadata": {
        "colab": {
          "base_uri": "https://localhost:8080/"
        },
        "id": "ZDMNHfMZQw5X",
        "outputId": "71bc5515-0466-4d52-f203-bbac35622870"
      },
      "execution_count": 26,
      "outputs": [
        {
          "output_type": "execute_result",
          "data": {
            "text/plain": [
              "0    52609\n",
              "1    45725\n",
              "Name: cluster, dtype: int64"
            ]
          },
          "metadata": {},
          "execution_count": 26
        }
      ]
    },
    {
      "cell_type": "code",
      "execution_count": 27,
      "metadata": {
        "id": "1xHuu3AJPxQp"
      },
      "outputs": [],
      "source": [
        "words['cluster_value'] = [1 if i==1 else 0 if i==0 else -1 for i in words.cluster]\n",
        "words['closeness_score'] = words.apply(lambda x: 1/(model.transform([x.vectors]).min()), axis=1)"
      ]
    },
    {
      "cell_type": "code",
      "execution_count": 28,
      "metadata": {
        "colab": {
          "base_uri": "https://localhost:8080/",
          "height": 424
        },
        "id": "B3QZbqHMlg7i",
        "outputId": "ea7e0042-e4c1-4e49-9ee7-c26ab52d2717"
      },
      "outputs": [
        {
          "output_type": "execute_result",
          "data": {
            "text/html": [
              "\n",
              "  <div id=\"df-06c9fc1d-5825-4aca-a5f7-220eab9d0ddb\">\n",
              "    <div class=\"colab-df-container\">\n",
              "      <div>\n",
              "<style scoped>\n",
              "    .dataframe tbody tr th:only-of-type {\n",
              "        vertical-align: middle;\n",
              "    }\n",
              "\n",
              "    .dataframe tbody tr th {\n",
              "        vertical-align: top;\n",
              "    }\n",
              "\n",
              "    .dataframe thead th {\n",
              "        text-align: right;\n",
              "    }\n",
              "</style>\n",
              "<table border=\"1\" class=\"dataframe\">\n",
              "  <thead>\n",
              "    <tr style=\"text-align: right;\">\n",
              "      <th></th>\n",
              "      <th>words</th>\n",
              "      <th>vectors</th>\n",
              "      <th>cluster</th>\n",
              "      <th>cluster_value</th>\n",
              "      <th>closeness_score</th>\n",
              "    </tr>\n",
              "  </thead>\n",
              "  <tbody>\n",
              "    <tr>\n",
              "      <th>3412</th>\n",
              "      <td>von_der</td>\n",
              "      <td>[0.2076732, 0.49503878, -0.25297233, 0.4320283...</td>\n",
              "      <td>1</td>\n",
              "      <td>1</td>\n",
              "      <td>0.087031</td>\n",
              "    </tr>\n",
              "    <tr>\n",
              "      <th>2766</th>\n",
              "      <td>premiera_d</td>\n",
              "      <td>[0.58748555, 0.10457985, -0.43083534, -1.14815...</td>\n",
              "      <td>1</td>\n",
              "      <td>1</td>\n",
              "      <td>0.087060</td>\n",
              "    </tr>\n",
              "    <tr>\n",
              "      <th>803</th>\n",
              "      <td>jennie</td>\n",
              "      <td>[1.0536873, 1.5470891, 0.27357933, -0.37356123...</td>\n",
              "      <td>1</td>\n",
              "      <td>1</td>\n",
              "      <td>0.088074</td>\n",
              "    </tr>\n",
              "    <tr>\n",
              "      <th>1914</th>\n",
              "      <td>główny_doradca</td>\n",
              "      <td>[0.55409145, -0.07063867, -0.42771897, -1.1575...</td>\n",
              "      <td>1</td>\n",
              "      <td>1</td>\n",
              "      <td>0.088260</td>\n",
              "    </tr>\n",
              "    <tr>\n",
              "      <th>5569</th>\n",
              "      <td>możesz_następny</td>\n",
              "      <td>[0.46834165, 0.1281706, -0.8076884, -0.5245768...</td>\n",
              "      <td>1</td>\n",
              "      <td>1</td>\n",
              "      <td>0.088790</td>\n",
              "    </tr>\n",
              "    <tr>\n",
              "      <th>...</th>\n",
              "      <td>...</td>\n",
              "      <td>...</td>\n",
              "      <td>...</td>\n",
              "      <td>...</td>\n",
              "      <td>...</td>\n",
              "    </tr>\n",
              "    <tr>\n",
              "      <th>95238</th>\n",
              "      <td>zdrowotnych_formie</td>\n",
              "      <td>[0.18042773, 0.22012486, -0.14035828, -0.20387...</td>\n",
              "      <td>1</td>\n",
              "      <td>1</td>\n",
              "      <td>3.354899</td>\n",
              "    </tr>\n",
              "    <tr>\n",
              "      <th>61386</th>\n",
              "      <td>wojewódzkim_szczecinie</td>\n",
              "      <td>[0.20435835, 0.23110408, -0.15958172, -0.21755...</td>\n",
              "      <td>1</td>\n",
              "      <td>1</td>\n",
              "      <td>3.364647</td>\n",
              "    </tr>\n",
              "    <tr>\n",
              "      <th>97388</th>\n",
              "      <td>prof_bruno</td>\n",
              "      <td>[0.20107922, 0.20526673, -0.14447805, -0.23475...</td>\n",
              "      <td>1</td>\n",
              "      <td>1</td>\n",
              "      <td>3.367086</td>\n",
              "    </tr>\n",
              "    <tr>\n",
              "      <th>91767</th>\n",
              "      <td>wbrytania_przypadkiem</td>\n",
              "      <td>[0.206388, 0.24189822, -0.1533662, -0.2164477,...</td>\n",
              "      <td>1</td>\n",
              "      <td>1</td>\n",
              "      <td>3.665452</td>\n",
              "    </tr>\n",
              "    <tr>\n",
              "      <th>97248</th>\n",
              "      <td>wielkie_ogniska</td>\n",
              "      <td>[0.19384457, 0.25244707, -0.11364968, -0.19088...</td>\n",
              "      <td>1</td>\n",
              "      <td>1</td>\n",
              "      <td>3.735338</td>\n",
              "    </tr>\n",
              "  </tbody>\n",
              "</table>\n",
              "<p>45725 rows × 5 columns</p>\n",
              "</div>\n",
              "      <button class=\"colab-df-convert\" onclick=\"convertToInteractive('df-06c9fc1d-5825-4aca-a5f7-220eab9d0ddb')\"\n",
              "              title=\"Convert this dataframe to an interactive table.\"\n",
              "              style=\"display:none;\">\n",
              "        \n",
              "  <svg xmlns=\"http://www.w3.org/2000/svg\" height=\"24px\"viewBox=\"0 0 24 24\"\n",
              "       width=\"24px\">\n",
              "    <path d=\"M0 0h24v24H0V0z\" fill=\"none\"/>\n",
              "    <path d=\"M18.56 5.44l.94 2.06.94-2.06 2.06-.94-2.06-.94-.94-2.06-.94 2.06-2.06.94zm-11 1L8.5 8.5l.94-2.06 2.06-.94-2.06-.94L8.5 2.5l-.94 2.06-2.06.94zm10 10l.94 2.06.94-2.06 2.06-.94-2.06-.94-.94-2.06-.94 2.06-2.06.94z\"/><path d=\"M17.41 7.96l-1.37-1.37c-.4-.4-.92-.59-1.43-.59-.52 0-1.04.2-1.43.59L10.3 9.45l-7.72 7.72c-.78.78-.78 2.05 0 2.83L4 21.41c.39.39.9.59 1.41.59.51 0 1.02-.2 1.41-.59l7.78-7.78 2.81-2.81c.8-.78.8-2.07 0-2.86zM5.41 20L4 18.59l7.72-7.72 1.47 1.35L5.41 20z\"/>\n",
              "  </svg>\n",
              "      </button>\n",
              "      \n",
              "  <style>\n",
              "    .colab-df-container {\n",
              "      display:flex;\n",
              "      flex-wrap:wrap;\n",
              "      gap: 12px;\n",
              "    }\n",
              "\n",
              "    .colab-df-convert {\n",
              "      background-color: #E8F0FE;\n",
              "      border: none;\n",
              "      border-radius: 50%;\n",
              "      cursor: pointer;\n",
              "      display: none;\n",
              "      fill: #1967D2;\n",
              "      height: 32px;\n",
              "      padding: 0 0 0 0;\n",
              "      width: 32px;\n",
              "    }\n",
              "\n",
              "    .colab-df-convert:hover {\n",
              "      background-color: #E2EBFA;\n",
              "      box-shadow: 0px 1px 2px rgba(60, 64, 67, 0.3), 0px 1px 3px 1px rgba(60, 64, 67, 0.15);\n",
              "      fill: #174EA6;\n",
              "    }\n",
              "\n",
              "    [theme=dark] .colab-df-convert {\n",
              "      background-color: #3B4455;\n",
              "      fill: #D2E3FC;\n",
              "    }\n",
              "\n",
              "    [theme=dark] .colab-df-convert:hover {\n",
              "      background-color: #434B5C;\n",
              "      box-shadow: 0px 1px 3px 1px rgba(0, 0, 0, 0.15);\n",
              "      filter: drop-shadow(0px 1px 2px rgba(0, 0, 0, 0.3));\n",
              "      fill: #FFFFFF;\n",
              "    }\n",
              "  </style>\n",
              "\n",
              "      <script>\n",
              "        const buttonEl =\n",
              "          document.querySelector('#df-06c9fc1d-5825-4aca-a5f7-220eab9d0ddb button.colab-df-convert');\n",
              "        buttonEl.style.display =\n",
              "          google.colab.kernel.accessAllowed ? 'block' : 'none';\n",
              "\n",
              "        async function convertToInteractive(key) {\n",
              "          const element = document.querySelector('#df-06c9fc1d-5825-4aca-a5f7-220eab9d0ddb');\n",
              "          const dataTable =\n",
              "            await google.colab.kernel.invokeFunction('convertToInteractive',\n",
              "                                                     [key], {});\n",
              "          if (!dataTable) return;\n",
              "\n",
              "          const docLinkHtml = 'Like what you see? Visit the ' +\n",
              "            '<a target=\"_blank\" href=https://colab.research.google.com/notebooks/data_table.ipynb>data table notebook</a>'\n",
              "            + ' to learn more about interactive tables.';\n",
              "          element.innerHTML = '';\n",
              "          dataTable['output_type'] = 'display_data';\n",
              "          await google.colab.output.renderOutput(dataTable, element);\n",
              "          const docLink = document.createElement('div');\n",
              "          docLink.innerHTML = docLinkHtml;\n",
              "          element.appendChild(docLink);\n",
              "        }\n",
              "      </script>\n",
              "    </div>\n",
              "  </div>\n",
              "  "
            ],
            "text/plain": [
              "                        words  ... closeness_score\n",
              "3412                  von_der  ...        0.087031\n",
              "2766               premiera_d  ...        0.087060\n",
              "803                    jennie  ...        0.088074\n",
              "1914           główny_doradca  ...        0.088260\n",
              "5569          możesz_następny  ...        0.088790\n",
              "...                       ...  ...             ...\n",
              "95238      zdrowotnych_formie  ...        3.354899\n",
              "61386  wojewódzkim_szczecinie  ...        3.364647\n",
              "97388              prof_bruno  ...        3.367086\n",
              "91767   wbrytania_przypadkiem  ...        3.665452\n",
              "97248         wielkie_ogniska  ...        3.735338\n",
              "\n",
              "[45725 rows x 5 columns]"
            ]
          },
          "metadata": {},
          "execution_count": 28
        }
      ],
      "source": [
        "words[words[\"cluster_value\"]==1].sort_values(\"closeness_score\")"
      ]
    },
    {
      "cell_type": "code",
      "execution_count": 29,
      "metadata": {
        "colab": {
          "base_uri": "https://localhost:8080/",
          "height": 424
        },
        "id": "x59DhM3JbJyk",
        "outputId": "669a4345-f4fb-4319-f668-89cd609980b5"
      },
      "outputs": [
        {
          "output_type": "execute_result",
          "data": {
            "text/html": [
              "\n",
              "  <div id=\"df-a2a90a5b-e1c7-4782-8761-4213001f43e7\">\n",
              "    <div class=\"colab-df-container\">\n",
              "      <div>\n",
              "<style scoped>\n",
              "    .dataframe tbody tr th:only-of-type {\n",
              "        vertical-align: middle;\n",
              "    }\n",
              "\n",
              "    .dataframe tbody tr th {\n",
              "        vertical-align: top;\n",
              "    }\n",
              "\n",
              "    .dataframe thead th {\n",
              "        text-align: right;\n",
              "    }\n",
              "</style>\n",
              "<table border=\"1\" class=\"dataframe\">\n",
              "  <thead>\n",
              "    <tr style=\"text-align: right;\">\n",
              "      <th></th>\n",
              "      <th>words</th>\n",
              "      <th>vectors</th>\n",
              "      <th>cluster</th>\n",
              "      <th>cluster_value</th>\n",
              "      <th>closeness_score</th>\n",
              "    </tr>\n",
              "  </thead>\n",
              "  <tbody>\n",
              "    <tr>\n",
              "      <th>5306</th>\n",
              "      <td>prof_dr</td>\n",
              "      <td>[-0.072749265, 0.41039243, -0.64929914, -1.601...</td>\n",
              "      <td>0</td>\n",
              "      <td>0</td>\n",
              "      <td>0.085962</td>\n",
              "    </tr>\n",
              "    <tr>\n",
              "      <th>2424</th>\n",
              "      <td>donalda_trumpa</td>\n",
              "      <td>[1.2291235, -0.37932548, -0.7875736, -0.694080...</td>\n",
              "      <td>0</td>\n",
              "      <td>0</td>\n",
              "      <td>0.091502</td>\n",
              "    </tr>\n",
              "    <tr>\n",
              "      <th>4243</th>\n",
              "      <td>zapraszamy_lektury</td>\n",
              "      <td>[-0.4100329, 0.84522134, -1.1814106, -0.278216...</td>\n",
              "      <td>0</td>\n",
              "      <td>0</td>\n",
              "      <td>0.095209</td>\n",
              "    </tr>\n",
              "    <tr>\n",
              "      <th>4601</th>\n",
              "      <td>prezydent_tanzanii</td>\n",
              "      <td>[-0.41042227, 0.023242036, 0.2533992, -0.24409...</td>\n",
              "      <td>0</td>\n",
              "      <td>0</td>\n",
              "      <td>0.096162</td>\n",
              "    </tr>\n",
              "    <tr>\n",
              "      <th>4980</th>\n",
              "      <td>tweetów</td>\n",
              "      <td>[0.20506766, 0.71671456, -1.5404503, -0.112246...</td>\n",
              "      <td>0</td>\n",
              "      <td>0</td>\n",
              "      <td>0.096277</td>\n",
              "    </tr>\n",
              "    <tr>\n",
              "      <th>...</th>\n",
              "      <td>...</td>\n",
              "      <td>...</td>\n",
              "      <td>...</td>\n",
              "      <td>...</td>\n",
              "      <td>...</td>\n",
              "    </tr>\n",
              "    <tr>\n",
              "      <th>59947</th>\n",
              "      <td>kurwaaa</td>\n",
              "      <td>[0.14624013, 0.1558558, -0.13227122, -0.227995...</td>\n",
              "      <td>0</td>\n",
              "      <td>0</td>\n",
              "      <td>4.703756</td>\n",
              "    </tr>\n",
              "    <tr>\n",
              "      <th>77967</th>\n",
              "      <td>marvel</td>\n",
              "      <td>[0.11658734, 0.13251914, -0.14841211, -0.22535...</td>\n",
              "      <td>0</td>\n",
              "      <td>0</td>\n",
              "      <td>5.243162</td>\n",
              "    </tr>\n",
              "    <tr>\n",
              "      <th>97030</th>\n",
              "      <td>berbeluchę</td>\n",
              "      <td>[0.12719247, 0.15380555, -0.12806621, -0.18708...</td>\n",
              "      <td>0</td>\n",
              "      <td>0</td>\n",
              "      <td>5.491283</td>\n",
              "    </tr>\n",
              "    <tr>\n",
              "      <th>82091</th>\n",
              "      <td>pomnikami</td>\n",
              "      <td>[0.12339112, 0.1414289, -0.1335412, -0.1999328...</td>\n",
              "      <td>0</td>\n",
              "      <td>0</td>\n",
              "      <td>5.881381</td>\n",
              "    </tr>\n",
              "    <tr>\n",
              "      <th>79460</th>\n",
              "      <td>robią_celowo</td>\n",
              "      <td>[0.11520052, 0.13458349, -0.13935421, -0.19875...</td>\n",
              "      <td>0</td>\n",
              "      <td>0</td>\n",
              "      <td>6.064217</td>\n",
              "    </tr>\n",
              "  </tbody>\n",
              "</table>\n",
              "<p>52609 rows × 5 columns</p>\n",
              "</div>\n",
              "      <button class=\"colab-df-convert\" onclick=\"convertToInteractive('df-a2a90a5b-e1c7-4782-8761-4213001f43e7')\"\n",
              "              title=\"Convert this dataframe to an interactive table.\"\n",
              "              style=\"display:none;\">\n",
              "        \n",
              "  <svg xmlns=\"http://www.w3.org/2000/svg\" height=\"24px\"viewBox=\"0 0 24 24\"\n",
              "       width=\"24px\">\n",
              "    <path d=\"M0 0h24v24H0V0z\" fill=\"none\"/>\n",
              "    <path d=\"M18.56 5.44l.94 2.06.94-2.06 2.06-.94-2.06-.94-.94-2.06-.94 2.06-2.06.94zm-11 1L8.5 8.5l.94-2.06 2.06-.94-2.06-.94L8.5 2.5l-.94 2.06-2.06.94zm10 10l.94 2.06.94-2.06 2.06-.94-2.06-.94-.94-2.06-.94 2.06-2.06.94z\"/><path d=\"M17.41 7.96l-1.37-1.37c-.4-.4-.92-.59-1.43-.59-.52 0-1.04.2-1.43.59L10.3 9.45l-7.72 7.72c-.78.78-.78 2.05 0 2.83L4 21.41c.39.39.9.59 1.41.59.51 0 1.02-.2 1.41-.59l7.78-7.78 2.81-2.81c.8-.78.8-2.07 0-2.86zM5.41 20L4 18.59l7.72-7.72 1.47 1.35L5.41 20z\"/>\n",
              "  </svg>\n",
              "      </button>\n",
              "      \n",
              "  <style>\n",
              "    .colab-df-container {\n",
              "      display:flex;\n",
              "      flex-wrap:wrap;\n",
              "      gap: 12px;\n",
              "    }\n",
              "\n",
              "    .colab-df-convert {\n",
              "      background-color: #E8F0FE;\n",
              "      border: none;\n",
              "      border-radius: 50%;\n",
              "      cursor: pointer;\n",
              "      display: none;\n",
              "      fill: #1967D2;\n",
              "      height: 32px;\n",
              "      padding: 0 0 0 0;\n",
              "      width: 32px;\n",
              "    }\n",
              "\n",
              "    .colab-df-convert:hover {\n",
              "      background-color: #E2EBFA;\n",
              "      box-shadow: 0px 1px 2px rgba(60, 64, 67, 0.3), 0px 1px 3px 1px rgba(60, 64, 67, 0.15);\n",
              "      fill: #174EA6;\n",
              "    }\n",
              "\n",
              "    [theme=dark] .colab-df-convert {\n",
              "      background-color: #3B4455;\n",
              "      fill: #D2E3FC;\n",
              "    }\n",
              "\n",
              "    [theme=dark] .colab-df-convert:hover {\n",
              "      background-color: #434B5C;\n",
              "      box-shadow: 0px 1px 3px 1px rgba(0, 0, 0, 0.15);\n",
              "      filter: drop-shadow(0px 1px 2px rgba(0, 0, 0, 0.3));\n",
              "      fill: #FFFFFF;\n",
              "    }\n",
              "  </style>\n",
              "\n",
              "      <script>\n",
              "        const buttonEl =\n",
              "          document.querySelector('#df-a2a90a5b-e1c7-4782-8761-4213001f43e7 button.colab-df-convert');\n",
              "        buttonEl.style.display =\n",
              "          google.colab.kernel.accessAllowed ? 'block' : 'none';\n",
              "\n",
              "        async function convertToInteractive(key) {\n",
              "          const element = document.querySelector('#df-a2a90a5b-e1c7-4782-8761-4213001f43e7');\n",
              "          const dataTable =\n",
              "            await google.colab.kernel.invokeFunction('convertToInteractive',\n",
              "                                                     [key], {});\n",
              "          if (!dataTable) return;\n",
              "\n",
              "          const docLinkHtml = 'Like what you see? Visit the ' +\n",
              "            '<a target=\"_blank\" href=https://colab.research.google.com/notebooks/data_table.ipynb>data table notebook</a>'\n",
              "            + ' to learn more about interactive tables.';\n",
              "          element.innerHTML = '';\n",
              "          dataTable['output_type'] = 'display_data';\n",
              "          await google.colab.output.renderOutput(dataTable, element);\n",
              "          const docLink = document.createElement('div');\n",
              "          docLink.innerHTML = docLinkHtml;\n",
              "          element.appendChild(docLink);\n",
              "        }\n",
              "      </script>\n",
              "    </div>\n",
              "  </div>\n",
              "  "
            ],
            "text/plain": [
              "                    words  ... closeness_score\n",
              "5306              prof_dr  ...        0.085962\n",
              "2424       donalda_trumpa  ...        0.091502\n",
              "4243   zapraszamy_lektury  ...        0.095209\n",
              "4601   prezydent_tanzanii  ...        0.096162\n",
              "4980              tweetów  ...        0.096277\n",
              "...                   ...  ...             ...\n",
              "59947             kurwaaa  ...        4.703756\n",
              "77967              marvel  ...        5.243162\n",
              "97030          berbeluchę  ...        5.491283\n",
              "82091           pomnikami  ...        5.881381\n",
              "79460        robią_celowo  ...        6.064217\n",
              "\n",
              "[52609 rows x 5 columns]"
            ]
          },
          "metadata": {},
          "execution_count": 29
        }
      ],
      "source": [
        "words[words[\"cluster_value\"]==0].sort_values(\"closeness_score\")"
      ]
    },
    {
      "cell_type": "code",
      "execution_count": 104,
      "metadata": {
        "id": "SQg0NbNClg7i"
      },
      "outputs": [],
      "source": [
        "positive = ['miły','zajebisty','dobry','skuteczny','ładny','słodki','fajny', 'fenomenalny', 'fantastyczny']\n",
        "#neutral = ['uniwersytet','akcja','aktor','gwiazda','kraj','las', 'cześć']\n",
        "negative= ['koszmarny','głupi','zjebany','znudzony','zły','absurdalny', 'katastrofalny', 'chory', 'kurwa']\n",
        "for i in positive:\n",
        "    words.loc[words[\"words\"]==i,\"cluster_value\"] = 1\n",
        "    \n",
        "#for i in neutral:\n",
        "#    words.loc[words[\"words\"]==i,\"cluster_value\"] = 0\n",
        "    \n",
        "for i in negative:\n",
        "    words.loc[words[\"words\"]==i,\"cluster_value\"] = 0\n"
      ]
    },
    {
      "cell_type": "code",
      "execution_count": 105,
      "metadata": {
        "colab": {
          "base_uri": "https://localhost:8080/",
          "height": 81
        },
        "id": "sJPpAJSFlg7j",
        "outputId": "7462b39a-bdf0-4247-dfc1-6a5c7c91b6c8"
      },
      "outputs": [
        {
          "output_type": "execute_result",
          "data": {
            "text/html": [
              "\n",
              "  <div id=\"df-6d2812d6-5e06-4bd0-b45c-95c69e303194\">\n",
              "    <div class=\"colab-df-container\">\n",
              "      <div>\n",
              "<style scoped>\n",
              "    .dataframe tbody tr th:only-of-type {\n",
              "        vertical-align: middle;\n",
              "    }\n",
              "\n",
              "    .dataframe tbody tr th {\n",
              "        vertical-align: top;\n",
              "    }\n",
              "\n",
              "    .dataframe thead th {\n",
              "        text-align: right;\n",
              "    }\n",
              "</style>\n",
              "<table border=\"1\" class=\"dataframe\">\n",
              "  <thead>\n",
              "    <tr style=\"text-align: right;\">\n",
              "      <th></th>\n",
              "      <th>words</th>\n",
              "      <th>vectors</th>\n",
              "      <th>cluster</th>\n",
              "      <th>cluster_value</th>\n",
              "      <th>closeness_score</th>\n",
              "      <th>sentiments</th>\n",
              "    </tr>\n",
              "  </thead>\n",
              "  <tbody>\n",
              "    <tr>\n",
              "      <th>2206</th>\n",
              "      <td>głupi</td>\n",
              "      <td>[0.16027816, 0.00092366664, -0.034585755, -0.2...</td>\n",
              "      <td>0</td>\n",
              "      <td>0</td>\n",
              "      <td>0.276701</td>\n",
              "      <td>negative</td>\n",
              "    </tr>\n",
              "  </tbody>\n",
              "</table>\n",
              "</div>\n",
              "      <button class=\"colab-df-convert\" onclick=\"convertToInteractive('df-6d2812d6-5e06-4bd0-b45c-95c69e303194')\"\n",
              "              title=\"Convert this dataframe to an interactive table.\"\n",
              "              style=\"display:none;\">\n",
              "        \n",
              "  <svg xmlns=\"http://www.w3.org/2000/svg\" height=\"24px\"viewBox=\"0 0 24 24\"\n",
              "       width=\"24px\">\n",
              "    <path d=\"M0 0h24v24H0V0z\" fill=\"none\"/>\n",
              "    <path d=\"M18.56 5.44l.94 2.06.94-2.06 2.06-.94-2.06-.94-.94-2.06-.94 2.06-2.06.94zm-11 1L8.5 8.5l.94-2.06 2.06-.94-2.06-.94L8.5 2.5l-.94 2.06-2.06.94zm10 10l.94 2.06.94-2.06 2.06-.94-2.06-.94-.94-2.06-.94 2.06-2.06.94z\"/><path d=\"M17.41 7.96l-1.37-1.37c-.4-.4-.92-.59-1.43-.59-.52 0-1.04.2-1.43.59L10.3 9.45l-7.72 7.72c-.78.78-.78 2.05 0 2.83L4 21.41c.39.39.9.59 1.41.59.51 0 1.02-.2 1.41-.59l7.78-7.78 2.81-2.81c.8-.78.8-2.07 0-2.86zM5.41 20L4 18.59l7.72-7.72 1.47 1.35L5.41 20z\"/>\n",
              "  </svg>\n",
              "      </button>\n",
              "      \n",
              "  <style>\n",
              "    .colab-df-container {\n",
              "      display:flex;\n",
              "      flex-wrap:wrap;\n",
              "      gap: 12px;\n",
              "    }\n",
              "\n",
              "    .colab-df-convert {\n",
              "      background-color: #E8F0FE;\n",
              "      border: none;\n",
              "      border-radius: 50%;\n",
              "      cursor: pointer;\n",
              "      display: none;\n",
              "      fill: #1967D2;\n",
              "      height: 32px;\n",
              "      padding: 0 0 0 0;\n",
              "      width: 32px;\n",
              "    }\n",
              "\n",
              "    .colab-df-convert:hover {\n",
              "      background-color: #E2EBFA;\n",
              "      box-shadow: 0px 1px 2px rgba(60, 64, 67, 0.3), 0px 1px 3px 1px rgba(60, 64, 67, 0.15);\n",
              "      fill: #174EA6;\n",
              "    }\n",
              "\n",
              "    [theme=dark] .colab-df-convert {\n",
              "      background-color: #3B4455;\n",
              "      fill: #D2E3FC;\n",
              "    }\n",
              "\n",
              "    [theme=dark] .colab-df-convert:hover {\n",
              "      background-color: #434B5C;\n",
              "      box-shadow: 0px 1px 3px 1px rgba(0, 0, 0, 0.15);\n",
              "      filter: drop-shadow(0px 1px 2px rgba(0, 0, 0, 0.3));\n",
              "      fill: #FFFFFF;\n",
              "    }\n",
              "  </style>\n",
              "\n",
              "      <script>\n",
              "        const buttonEl =\n",
              "          document.querySelector('#df-6d2812d6-5e06-4bd0-b45c-95c69e303194 button.colab-df-convert');\n",
              "        buttonEl.style.display =\n",
              "          google.colab.kernel.accessAllowed ? 'block' : 'none';\n",
              "\n",
              "        async function convertToInteractive(key) {\n",
              "          const element = document.querySelector('#df-6d2812d6-5e06-4bd0-b45c-95c69e303194');\n",
              "          const dataTable =\n",
              "            await google.colab.kernel.invokeFunction('convertToInteractive',\n",
              "                                                     [key], {});\n",
              "          if (!dataTable) return;\n",
              "\n",
              "          const docLinkHtml = 'Like what you see? Visit the ' +\n",
              "            '<a target=\"_blank\" href=https://colab.research.google.com/notebooks/data_table.ipynb>data table notebook</a>'\n",
              "            + ' to learn more about interactive tables.';\n",
              "          element.innerHTML = '';\n",
              "          dataTable['output_type'] = 'display_data';\n",
              "          await google.colab.output.renderOutput(dataTable, element);\n",
              "          const docLink = document.createElement('div');\n",
              "          docLink.innerHTML = docLinkHtml;\n",
              "          element.appendChild(docLink);\n",
              "        }\n",
              "      </script>\n",
              "    </div>\n",
              "  </div>\n",
              "  "
            ],
            "text/plain": [
              "      words  ... sentiments\n",
              "2206  głupi  ...   negative\n",
              "\n",
              "[1 rows x 6 columns]"
            ]
          },
          "metadata": {},
          "execution_count": 105
        }
      ],
      "source": [
        "words[words[\"words\"]==\"głupi\"]"
      ]
    },
    {
      "cell_type": "code",
      "execution_count": 106,
      "metadata": {
        "colab": {
          "base_uri": "https://localhost:8080/",
          "height": 81
        },
        "id": "TIplc9XKaoK7",
        "outputId": "b68a41bd-368f-46d2-b944-f1e4b07015dd"
      },
      "outputs": [
        {
          "output_type": "execute_result",
          "data": {
            "text/html": [
              "\n",
              "  <div id=\"df-b158a1eb-a408-45d5-abf1-653c0e2991bf\">\n",
              "    <div class=\"colab-df-container\">\n",
              "      <div>\n",
              "<style scoped>\n",
              "    .dataframe tbody tr th:only-of-type {\n",
              "        vertical-align: middle;\n",
              "    }\n",
              "\n",
              "    .dataframe tbody tr th {\n",
              "        vertical-align: top;\n",
              "    }\n",
              "\n",
              "    .dataframe thead th {\n",
              "        text-align: right;\n",
              "    }\n",
              "</style>\n",
              "<table border=\"1\" class=\"dataframe\">\n",
              "  <thead>\n",
              "    <tr style=\"text-align: right;\">\n",
              "      <th></th>\n",
              "      <th>words</th>\n",
              "      <th>vectors</th>\n",
              "      <th>cluster</th>\n",
              "      <th>cluster_value</th>\n",
              "      <th>closeness_score</th>\n",
              "      <th>sentiments</th>\n",
              "    </tr>\n",
              "  </thead>\n",
              "  <tbody>\n",
              "    <tr>\n",
              "      <th>37685</th>\n",
              "      <td>słodki</td>\n",
              "      <td>[0.14557512, 0.18081999, -0.14613414, -0.21229...</td>\n",
              "      <td>0</td>\n",
              "      <td>1</td>\n",
              "      <td>2.349522</td>\n",
              "      <td>positive</td>\n",
              "    </tr>\n",
              "  </tbody>\n",
              "</table>\n",
              "</div>\n",
              "      <button class=\"colab-df-convert\" onclick=\"convertToInteractive('df-b158a1eb-a408-45d5-abf1-653c0e2991bf')\"\n",
              "              title=\"Convert this dataframe to an interactive table.\"\n",
              "              style=\"display:none;\">\n",
              "        \n",
              "  <svg xmlns=\"http://www.w3.org/2000/svg\" height=\"24px\"viewBox=\"0 0 24 24\"\n",
              "       width=\"24px\">\n",
              "    <path d=\"M0 0h24v24H0V0z\" fill=\"none\"/>\n",
              "    <path d=\"M18.56 5.44l.94 2.06.94-2.06 2.06-.94-2.06-.94-.94-2.06-.94 2.06-2.06.94zm-11 1L8.5 8.5l.94-2.06 2.06-.94-2.06-.94L8.5 2.5l-.94 2.06-2.06.94zm10 10l.94 2.06.94-2.06 2.06-.94-2.06-.94-.94-2.06-.94 2.06-2.06.94z\"/><path d=\"M17.41 7.96l-1.37-1.37c-.4-.4-.92-.59-1.43-.59-.52 0-1.04.2-1.43.59L10.3 9.45l-7.72 7.72c-.78.78-.78 2.05 0 2.83L4 21.41c.39.39.9.59 1.41.59.51 0 1.02-.2 1.41-.59l7.78-7.78 2.81-2.81c.8-.78.8-2.07 0-2.86zM5.41 20L4 18.59l7.72-7.72 1.47 1.35L5.41 20z\"/>\n",
              "  </svg>\n",
              "      </button>\n",
              "      \n",
              "  <style>\n",
              "    .colab-df-container {\n",
              "      display:flex;\n",
              "      flex-wrap:wrap;\n",
              "      gap: 12px;\n",
              "    }\n",
              "\n",
              "    .colab-df-convert {\n",
              "      background-color: #E8F0FE;\n",
              "      border: none;\n",
              "      border-radius: 50%;\n",
              "      cursor: pointer;\n",
              "      display: none;\n",
              "      fill: #1967D2;\n",
              "      height: 32px;\n",
              "      padding: 0 0 0 0;\n",
              "      width: 32px;\n",
              "    }\n",
              "\n",
              "    .colab-df-convert:hover {\n",
              "      background-color: #E2EBFA;\n",
              "      box-shadow: 0px 1px 2px rgba(60, 64, 67, 0.3), 0px 1px 3px 1px rgba(60, 64, 67, 0.15);\n",
              "      fill: #174EA6;\n",
              "    }\n",
              "\n",
              "    [theme=dark] .colab-df-convert {\n",
              "      background-color: #3B4455;\n",
              "      fill: #D2E3FC;\n",
              "    }\n",
              "\n",
              "    [theme=dark] .colab-df-convert:hover {\n",
              "      background-color: #434B5C;\n",
              "      box-shadow: 0px 1px 3px 1px rgba(0, 0, 0, 0.15);\n",
              "      filter: drop-shadow(0px 1px 2px rgba(0, 0, 0, 0.3));\n",
              "      fill: #FFFFFF;\n",
              "    }\n",
              "  </style>\n",
              "\n",
              "      <script>\n",
              "        const buttonEl =\n",
              "          document.querySelector('#df-b158a1eb-a408-45d5-abf1-653c0e2991bf button.colab-df-convert');\n",
              "        buttonEl.style.display =\n",
              "          google.colab.kernel.accessAllowed ? 'block' : 'none';\n",
              "\n",
              "        async function convertToInteractive(key) {\n",
              "          const element = document.querySelector('#df-b158a1eb-a408-45d5-abf1-653c0e2991bf');\n",
              "          const dataTable =\n",
              "            await google.colab.kernel.invokeFunction('convertToInteractive',\n",
              "                                                     [key], {});\n",
              "          if (!dataTable) return;\n",
              "\n",
              "          const docLinkHtml = 'Like what you see? Visit the ' +\n",
              "            '<a target=\"_blank\" href=https://colab.research.google.com/notebooks/data_table.ipynb>data table notebook</a>'\n",
              "            + ' to learn more about interactive tables.';\n",
              "          element.innerHTML = '';\n",
              "          dataTable['output_type'] = 'display_data';\n",
              "          await google.colab.output.renderOutput(dataTable, element);\n",
              "          const docLink = document.createElement('div');\n",
              "          docLink.innerHTML = docLinkHtml;\n",
              "          element.appendChild(docLink);\n",
              "        }\n",
              "      </script>\n",
              "    </div>\n",
              "  </div>\n",
              "  "
            ],
            "text/plain": [
              "        words  ... sentiments\n",
              "37685  słodki  ...   positive\n",
              "\n",
              "[1 rows x 6 columns]"
            ]
          },
          "metadata": {},
          "execution_count": 106
        }
      ],
      "source": [
        "words[words[\"words\"]==\"słodki\"]"
      ]
    },
    {
      "cell_type": "code",
      "execution_count": 107,
      "metadata": {
        "colab": {
          "base_uri": "https://localhost:8080/",
          "height": 535
        },
        "id": "a_zsycL9lg7k",
        "outputId": "bcc71adb-64c8-4caf-dd92-3cf688781ccc"
      },
      "outputs": [
        {
          "output_type": "display_data",
          "data": {
            "image/png": "[encoded data removed]",
            "text/plain": [
              "<Figure size 504x504 with 1 Axes>"
            ]
          },
          "metadata": {}
        },
        {
          "output_type": "execute_result",
          "data": {
            "text/html": [
              "\n",
              "  <div id=\"df-6dd5af30-82c6-4dc2-a848-04cec18f7ff9\">\n",
              "    <div class=\"colab-df-container\">\n",
              "      <div>\n",
              "<style scoped>\n",
              "    .dataframe tbody tr th:only-of-type {\n",
              "        vertical-align: middle;\n",
              "    }\n",
              "\n",
              "    .dataframe tbody tr th {\n",
              "        vertical-align: top;\n",
              "    }\n",
              "\n",
              "    .dataframe thead th {\n",
              "        text-align: right;\n",
              "    }\n",
              "</style>\n",
              "<table border=\"1\" class=\"dataframe\">\n",
              "  <thead>\n",
              "    <tr style=\"text-align: right;\">\n",
              "      <th></th>\n",
              "      <th>index</th>\n",
              "      <th>sentiments</th>\n",
              "    </tr>\n",
              "  </thead>\n",
              "  <tbody>\n",
              "    <tr>\n",
              "      <th>0</th>\n",
              "      <td>negative</td>\n",
              "      <td>52602</td>\n",
              "    </tr>\n",
              "    <tr>\n",
              "      <th>1</th>\n",
              "      <td>positive</td>\n",
              "      <td>45732</td>\n",
              "    </tr>\n",
              "  </tbody>\n",
              "</table>\n",
              "</div>\n",
              "      <button class=\"colab-df-convert\" onclick=\"convertToInteractive('df-6dd5af30-82c6-4dc2-a848-04cec18f7ff9')\"\n",
              "              title=\"Convert this dataframe to an interactive table.\"\n",
              "              style=\"display:none;\">\n",
              "        \n",
              "  <svg xmlns=\"http://www.w3.org/2000/svg\" height=\"24px\"viewBox=\"0 0 24 24\"\n",
              "       width=\"24px\">\n",
              "    <path d=\"M0 0h24v24H0V0z\" fill=\"none\"/>\n",
              "    <path d=\"M18.56 5.44l.94 2.06.94-2.06 2.06-.94-2.06-.94-.94-2.06-.94 2.06-2.06.94zm-11 1L8.5 8.5l.94-2.06 2.06-.94-2.06-.94L8.5 2.5l-.94 2.06-2.06.94zm10 10l.94 2.06.94-2.06 2.06-.94-2.06-.94-.94-2.06-.94 2.06-2.06.94z\"/><path d=\"M17.41 7.96l-1.37-1.37c-.4-.4-.92-.59-1.43-.59-.52 0-1.04.2-1.43.59L10.3 9.45l-7.72 7.72c-.78.78-.78 2.05 0 2.83L4 21.41c.39.39.9.59 1.41.59.51 0 1.02-.2 1.41-.59l7.78-7.78 2.81-2.81c.8-.78.8-2.07 0-2.86zM5.41 20L4 18.59l7.72-7.72 1.47 1.35L5.41 20z\"/>\n",
              "  </svg>\n",
              "      </button>\n",
              "      \n",
              "  <style>\n",
              "    .colab-df-container {\n",
              "      display:flex;\n",
              "      flex-wrap:wrap;\n",
              "      gap: 12px;\n",
              "    }\n",
              "\n",
              "    .colab-df-convert {\n",
              "      background-color: #E8F0FE;\n",
              "      border: none;\n",
              "      border-radius: 50%;\n",
              "      cursor: pointer;\n",
              "      display: none;\n",
              "      fill: #1967D2;\n",
              "      height: 32px;\n",
              "      padding: 0 0 0 0;\n",
              "      width: 32px;\n",
              "    }\n",
              "\n",
              "    .colab-df-convert:hover {\n",
              "      background-color: #E2EBFA;\n",
              "      box-shadow: 0px 1px 2px rgba(60, 64, 67, 0.3), 0px 1px 3px 1px rgba(60, 64, 67, 0.15);\n",
              "      fill: #174EA6;\n",
              "    }\n",
              "\n",
              "    [theme=dark] .colab-df-convert {\n",
              "      background-color: #3B4455;\n",
              "      fill: #D2E3FC;\n",
              "    }\n",
              "\n",
              "    [theme=dark] .colab-df-convert:hover {\n",
              "      background-color: #434B5C;\n",
              "      box-shadow: 0px 1px 3px 1px rgba(0, 0, 0, 0.15);\n",
              "      filter: drop-shadow(0px 1px 2px rgba(0, 0, 0, 0.3));\n",
              "      fill: #FFFFFF;\n",
              "    }\n",
              "  </style>\n",
              "\n",
              "      <script>\n",
              "        const buttonEl =\n",
              "          document.querySelector('#df-6dd5af30-82c6-4dc2-a848-04cec18f7ff9 button.colab-df-convert');\n",
              "        buttonEl.style.display =\n",
              "          google.colab.kernel.accessAllowed ? 'block' : 'none';\n",
              "\n",
              "        async function convertToInteractive(key) {\n",
              "          const element = document.querySelector('#df-6dd5af30-82c6-4dc2-a848-04cec18f7ff9');\n",
              "          const dataTable =\n",
              "            await google.colab.kernel.invokeFunction('convertToInteractive',\n",
              "                                                     [key], {});\n",
              "          if (!dataTable) return;\n",
              "\n",
              "          const docLinkHtml = 'Like what you see? Visit the ' +\n",
              "            '<a target=\"_blank\" href=https://colab.research.google.com/notebooks/data_table.ipynb>data table notebook</a>'\n",
              "            + ' to learn more about interactive tables.';\n",
              "          element.innerHTML = '';\n",
              "          dataTable['output_type'] = 'display_data';\n",
              "          await google.colab.output.renderOutput(dataTable, element);\n",
              "          const docLink = document.createElement('div');\n",
              "          docLink.innerHTML = docLinkHtml;\n",
              "          element.appendChild(docLink);\n",
              "        }\n",
              "      </script>\n",
              "    </div>\n",
              "  </div>\n",
              "  "
            ],
            "text/plain": [
              "      index  sentiments\n",
              "0  negative       52602\n",
              "1  positive       45732"
            ]
          },
          "metadata": {},
          "execution_count": 107
        }
      ],
      "source": [
        "emotion = {#0: \"neutral\",\n",
        "           1: \"positive\",\n",
        "           0: \"negative\"}\n",
        "\n",
        "words[\"sentiments\"] = words[\"cluster_value\"].map(emotion)\n",
        "\n",
        "fig = plt.gcf()\n",
        "fig.set_size_inches(7,7)\n",
        "colors = [\"pink\",\"yellow\"]\n",
        "df_pie=words[\"sentiments\"].value_counts().reset_index()\n",
        "plt.pie(df_pie[\"sentiments\"], labels = df_pie[\"index\"], radius=2, colors=colors, autopct=\"%1.1f%%\")\n",
        "plt.axis('equal')\n",
        "plt.title(\"Dystrybucja sentymentów \", fontsize=20)\n",
        "plt.show()\n",
        "df_pie"
      ]
    },
    {
      "cell_type": "code",
      "execution_count": 115,
      "metadata": {
        "id": "6qSsnTzllg7l"
      },
      "outputs": [],
      "source": [
        "from math import nan\n",
        "def get_sentiments(x, sent_dict):\n",
        "    total = 0\n",
        "    count = 0\n",
        "    test = x[\"clean_text\"]\n",
        "    for t in test:\n",
        "        if words_dict.get(t):\n",
        "            total += int(sent_dict.get(t))\n",
        "        count+=1 \n",
        "    if count == 0:\n",
        "     avg = 0 \n",
        "    else:\n",
        "      avg = total/count\n",
        "\n",
        "    #print(avg)\n",
        "    sentiment = 0 if avg < 0.5 else 1\n",
        "    return sentiment"
      ]
    },
    {
      "cell_type": "code",
      "execution_count": 116,
      "metadata": {
        "id": "pruO06b6lg7l"
      },
      "outputs": [],
      "source": [
        "words_dict = dict(zip(words.words, words.cluster_value))"
      ]
    },
    {
      "cell_type": "code",
      "execution_count": 117,
      "metadata": {
        "id": "Sh42jCzClg7l"
      },
      "outputs": [],
      "source": [
        "tweets_txt[\"sentiment\"] = tweets_txt.apply(get_sentiments, args=(words_dict,), axis=1)"
      ]
    },
    {
      "cell_type": "code",
      "execution_count": 118,
      "metadata": {
        "colab": {
          "base_uri": "https://localhost:8080/"
        },
        "id": "FULVJF8zlg7m",
        "outputId": "3dc84490-a741-49f1-e9d2-136d3b6241f9"
      },
      "outputs": [
        {
          "output_type": "execute_result",
          "data": {
            "text/plain": [
              "0    285033\n",
              "1    200054\n",
              "Name: sentiment, dtype: int64"
            ]
          },
          "metadata": {},
          "execution_count": 118
        }
      ],
      "source": [
        "tweets_txt[\"sentiment\"].value_counts()"
      ]
    },
    {
      "cell_type": "code",
      "execution_count": 119,
      "metadata": {
        "colab": {
          "base_uri": "https://localhost:8080/",
          "height": 528
        },
        "id": "qt022JSPlg7n",
        "outputId": "33279147-c996-4eef-9a69-9c8aec600bbd"
      },
      "outputs": [
        {
          "output_type": "display_data",
          "data": {
            "image/png": "[encoded data removed]",
            "text/plain": [
              "<Figure size 504x504 with 1 Axes>"
            ]
          },
          "metadata": {}
        },
        {
          "output_type": "execute_result",
          "data": {
            "text/html": [
              "\n",
              "  <div id=\"df-5bcbfafb-c264-4cd7-aa60-ce70edb96778\">\n",
              "    <div class=\"colab-df-container\">\n",
              "      <div>\n",
              "<style scoped>\n",
              "    .dataframe tbody tr th:only-of-type {\n",
              "        vertical-align: middle;\n",
              "    }\n",
              "\n",
              "    .dataframe tbody tr th {\n",
              "        vertical-align: top;\n",
              "    }\n",
              "\n",
              "    .dataframe thead th {\n",
              "        text-align: right;\n",
              "    }\n",
              "</style>\n",
              "<table border=\"1\" class=\"dataframe\">\n",
              "  <thead>\n",
              "    <tr style=\"text-align: right;\">\n",
              "      <th></th>\n",
              "      <th>index</th>\n",
              "      <th>sentiments_val</th>\n",
              "    </tr>\n",
              "  </thead>\n",
              "  <tbody>\n",
              "    <tr>\n",
              "      <th>0</th>\n",
              "      <td>negative</td>\n",
              "      <td>285033</td>\n",
              "    </tr>\n",
              "    <tr>\n",
              "      <th>1</th>\n",
              "      <td>positive</td>\n",
              "      <td>200054</td>\n",
              "    </tr>\n",
              "  </tbody>\n",
              "</table>\n",
              "</div>\n",
              "      <button class=\"colab-df-convert\" onclick=\"convertToInteractive('df-5bcbfafb-c264-4cd7-aa60-ce70edb96778')\"\n",
              "              title=\"Convert this dataframe to an interactive table.\"\n",
              "              style=\"display:none;\">\n",
              "        \n",
              "  <svg xmlns=\"http://www.w3.org/2000/svg\" height=\"24px\"viewBox=\"0 0 24 24\"\n",
              "       width=\"24px\">\n",
              "    <path d=\"M0 0h24v24H0V0z\" fill=\"none\"/>\n",
              "    <path d=\"M18.56 5.44l.94 2.06.94-2.06 2.06-.94-2.06-.94-.94-2.06-.94 2.06-2.06.94zm-11 1L8.5 8.5l.94-2.06 2.06-.94-2.06-.94L8.5 2.5l-.94 2.06-2.06.94zm10 10l.94 2.06.94-2.06 2.06-.94-2.06-.94-.94-2.06-.94 2.06-2.06.94z\"/><path d=\"M17.41 7.96l-1.37-1.37c-.4-.4-.92-.59-1.43-.59-.52 0-1.04.2-1.43.59L10.3 9.45l-7.72 7.72c-.78.78-.78 2.05 0 2.83L4 21.41c.39.39.9.59 1.41.59.51 0 1.02-.2 1.41-.59l7.78-7.78 2.81-2.81c.8-.78.8-2.07 0-2.86zM5.41 20L4 18.59l7.72-7.72 1.47 1.35L5.41 20z\"/>\n",
              "  </svg>\n",
              "      </button>\n",
              "      \n",
              "  <style>\n",
              "    .colab-df-container {\n",
              "      display:flex;\n",
              "      flex-wrap:wrap;\n",
              "      gap: 12px;\n",
              "    }\n",
              "\n",
              "    .colab-df-convert {\n",
              "      background-color: #E8F0FE;\n",
              "      border: none;\n",
              "      border-radius: 50%;\n",
              "      cursor: pointer;\n",
              "      display: none;\n",
              "      fill: #1967D2;\n",
              "      height: 32px;\n",
              "      padding: 0 0 0 0;\n",
              "      width: 32px;\n",
              "    }\n",
              "\n",
              "    .colab-df-convert:hover {\n",
              "      background-color: #E2EBFA;\n",
              "      box-shadow: 0px 1px 2px rgba(60, 64, 67, 0.3), 0px 1px 3px 1px rgba(60, 64, 67, 0.15);\n",
              "      fill: #174EA6;\n",
              "    }\n",
              "\n",
              "    [theme=dark] .colab-df-convert {\n",
              "      background-color: #3B4455;\n",
              "      fill: #D2E3FC;\n",
              "    }\n",
              "\n",
              "    [theme=dark] .colab-df-convert:hover {\n",
              "      background-color: #434B5C;\n",
              "      box-shadow: 0px 1px 3px 1px rgba(0, 0, 0, 0.15);\n",
              "      filter: drop-shadow(0px 1px 2px rgba(0, 0, 0, 0.3));\n",
              "      fill: #FFFFFF;\n",
              "    }\n",
              "  </style>\n",
              "\n",
              "      <script>\n",
              "        const buttonEl =\n",
              "          document.querySelector('#df-5bcbfafb-c264-4cd7-aa60-ce70edb96778 button.colab-df-convert');\n",
              "        buttonEl.style.display =\n",
              "          google.colab.kernel.accessAllowed ? 'block' : 'none';\n",
              "\n",
              "        async function convertToInteractive(key) {\n",
              "          const element = document.querySelector('#df-5bcbfafb-c264-4cd7-aa60-ce70edb96778');\n",
              "          const dataTable =\n",
              "            await google.colab.kernel.invokeFunction('convertToInteractive',\n",
              "                                                     [key], {});\n",
              "          if (!dataTable) return;\n",
              "\n",
              "          const docLinkHtml = 'Like what you see? Visit the ' +\n",
              "            '<a target=\"_blank\" href=https://colab.research.google.com/notebooks/data_table.ipynb>data table notebook</a>'\n",
              "            + ' to learn more about interactive tables.';\n",
              "          element.innerHTML = '';\n",
              "          dataTable['output_type'] = 'display_data';\n",
              "          await google.colab.output.renderOutput(dataTable, element);\n",
              "          const docLink = document.createElement('div');\n",
              "          docLink.innerHTML = docLinkHtml;\n",
              "          element.appendChild(docLink);\n",
              "        }\n",
              "      </script>\n",
              "    </div>\n",
              "  </div>\n",
              "  "
            ],
            "text/plain": [
              "      index  sentiments_val\n",
              "0  negative          285033\n",
              "1  positive          200054"
            ]
          },
          "metadata": {},
          "execution_count": 119
        }
      ],
      "source": [
        "emotion = {1: \"positive\",\n",
        "           0: \"negative\"}\n",
        "\n",
        "tweets_txt[\"sentiments_val\"] = tweets_txt[\"sentiment\"].map(emotion)\n",
        "df_pie = tweets_txt[\"sentiments_val\"].value_counts().reset_index()\n",
        "fig = plt.gcf()\n",
        "fig.set_size_inches(7,7)\n",
        "colors = [\"cyan\",\"pink\"]\n",
        "plt.pie(df_pie[\"sentiments_val\"],labels= df_pie[\"index\"],radius=2,autopct=\"%1.1f%%\", colors=colors)\n",
        "plt.axis('equal')\n",
        "plt.title(\"Dystrybucja sentymentu w tweetach \", fontsize=20)\n",
        "#plt.savefig(\"images/Sentiment_Distribution.png\")\n",
        "plt.show()\n",
        "df_pie"
      ]
    },
    {
      "cell_type": "code",
      "execution_count": 120,
      "metadata": {
        "id": "qVxU3dVtrZlG"
      },
      "outputs": [],
      "source": [
        "#save the processed filed to drive\n",
        "tweets_txt.to_csv(\"/content/drive/MyDrive/tweets_labeled_bi.csv\")"
      ]
    }
  ],
  "metadata": {
    "colab": {
      "collapsed_sections": [],
      "name": "Preprocessing_NLP_bi.ipynb",
      "provenance": []
    },
    "kernelspec": {
      "display_name": "Python 3",
      "name": "python3"
    },
    "language_info": {
      "name": "python"
    }
  },
  "nbformat": 4,
  "nbformat_minor": 0
}